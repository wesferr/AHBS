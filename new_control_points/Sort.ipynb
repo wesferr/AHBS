{
 "cells": [
  {
   "cell_type": "code",
   "execution_count": 1,
   "id": "2f053326-73e9-4cdb-a121-830a5b8fe34b",
   "metadata": {
    "tags": []
   },
   "outputs": [],
   "source": [
    "from loader import Loader\n",
    "import numpy as np"
   ]
  },
  {
   "cell_type": "code",
   "execution_count": 2,
   "id": "192744cc-ab3c-409f-bab8-f893ed1e1983",
   "metadata": {},
   "outputs": [],
   "source": [
    "vertex = []\n",
    "with open(\"test1.obj\", \"r\") as f:\n",
    "    for line in f:\n",
    "        if line[0] == '#':\n",
    "            continue\n",
    "        elif \"v \" in line:\n",
    "            line.replace('\\n', ' ')\n",
    "            tmp = list(map(float, line[1:].split()))\n",
    "            vertex.append(tmp)\n",
    "        else:\n",
    "            break\n",
    "vertex = np.array(vertex)"
   ]
  },
  {
   "cell_type": "code",
   "execution_count": 3,
   "id": "5c5c520f-6cfc-4897-ad9e-d54d653410d0",
   "metadata": {},
   "outputs": [],
   "source": [
    "measure_name = \"ombro_a_ombro.npy\""
   ]
  },
  {
   "cell_type": "markdown",
   "id": "b3a52fa0-550a-4c73-8529-b042694322b7",
   "metadata": {},
   "source": [
    "# Shortest Path to Circunferences"
   ]
  },
  {
   "cell_type": "code",
   "execution_count": 4,
   "id": "281bdc5a-e0fd-4e91-a8e6-4d54334b32ce",
   "metadata": {},
   "outputs": [],
   "source": [
    "%%script false --no-raise-error\n",
    "from scipy.spatial.distance import cdist\n",
    "from python_tsp.heuristics import solve_tsp_simulated_annealing\n",
    "\n",
    "measure = list(np.load(measure_name))\n",
    "position = []\n",
    "for i in range(0, len(measure)):\n",
    "    x = vertex[int(measure[i][0])] * measure[i][3]\n",
    "    y = vertex[int(measure[i][1])] * measure[i][4]\n",
    "    z = vertex[int(measure[i][2])] * measure[i][5]\n",
    "    p = x + y + z\n",
    "    position.append(p)\n",
    "position = np.array(position)\n",
    "distances = cdist(position, position)\n",
    "\n",
    "permutation, distance = solve_tsp_simulated_annealing(distances, max_processing_time=240)\n",
    "new_positions=[]\n",
    "for i in permutation:\n",
    "    new_positions.append(measure[i])\n",
    "new_positions=np.array(new_positions)\n",
    "np.save(measure_name, new_positions)"
   ]
  },
  {
   "cell_type": "markdown",
   "id": "47730fbb-7d0d-4bd5-b59a-5ad88b4c5115",
   "metadata": {},
   "source": [
    "# Shortest Path to Lengths"
   ]
  },
  {
   "cell_type": "code",
   "execution_count": 5,
   "id": "a537e719-870b-4c0c-9555-f215e13a3e8e",
   "metadata": {},
   "outputs": [],
   "source": [
    "\n",
    "from scipy.spatial.distance import cdist\n",
    "\n",
    "measure = list(np.load(measure_name))\n",
    "position = []\n",
    "for i in range(0, len(measure)):\n",
    "    x = vertex[int(measure[i][0])] * measure[i][3]\n",
    "    y = vertex[int(measure[i][1])] * measure[i][4]\n",
    "    z = vertex[int(measure[i][2])] * measure[i][5]\n",
    "    p = x + y + z\n",
    "    position.append(p)\n",
    "position = np.array(position)\n",
    "\n",
    "\n",
    "bigger_variance = np.argmax(position.var(axis=0))\n",
    "indexes = np.arange(position.shape[0]).reshape(position.shape[0], 1)\n",
    "position = np.append(position, indexes, axis=1)\n",
    "position = position[position[:, bigger_variance].argsort()]\n",
    "indexes = position[: ,3]\n",
    "\n",
    "new_positions=[]\n",
    "for i in indexes:\n",
    "    new_positions.append(measure[int(i)])\n",
    "new_positions=np.array(new_positions)\n",
    "np.save(measure_name, new_positions)"
   ]
  },
  {
   "cell_type": "markdown",
   "id": "9481ef1b-3342-4c72-b77a-9c4e5542f99d",
   "metadata": {},
   "source": [
    "# Generate file"
   ]
  },
  {
   "cell_type": "code",
   "execution_count": 6,
   "id": "c0dbc276-63ff-4ec8-87c1-e16ffeb0ed46",
   "metadata": {},
   "outputs": [],
   "source": [
    "measure = np.load(measure_name)"
   ]
  },
  {
   "cell_type": "code",
   "execution_count": 7,
   "id": "03e5105b-a3dc-4b0d-8ce1-368eaa7ea515",
   "metadata": {
    "tags": []
   },
   "outputs": [],
   "source": [
    "position = []\n",
    "for i in range(0, len(measure)):\n",
    "    x = vertex[int(measure[i][0])] * measure[i][3]\n",
    "    y = vertex[int(measure[i][1])] * measure[i][4]\n",
    "    z = vertex[int(measure[i][2])] * measure[i][5]\n",
    "    p = x + y + z\n",
    "    position.append(p)\n",
    "position = np.array(position)\n"
   ]
  },
  {
   "cell_type": "code",
   "execution_count": 8,
   "id": "d14d8b3b-381c-4147-9755-61977e61acc0",
   "metadata": {},
   "outputs": [],
   "source": [
    "with open(\"{}.obj\".format(measure_name), \"w\") as pontos:\n",
    "    for element in position:\n",
    "        pontos.write(\"v {} {} {}\\n\".format(element[0], element[1], element[2]))"
   ]
  },
  {
   "cell_type": "markdown",
   "id": "0e33166a-acda-44ba-b135-ded35d44ac2a",
   "metadata": {},
   "source": [
    "# Join All Metrics"
   ]
  },
  {
   "cell_type": "code",
   "execution_count": 11,
   "id": "40af934e-a029-45c1-ac74-205938ea3c20",
   "metadata": {},
   "outputs": [],
   "source": [
    "from os import listdir\n",
    "import numpy as np"
   ]
  },
  {
   "cell_type": "code",
   "execution_count": 27,
   "id": "0a0b75c3-a264-47a0-9bc9-1422fe925c00",
   "metadata": {},
   "outputs": [],
   "source": [
    "arquivos = listdir(\"./pronto\")[0::2]\n",
    "metricas = {}\n",
    "for arquivo in arquivos:\n",
    "    metrica = np.load(\"./pronto/{}\".format(arquivo))\n",
    "    metricas[arquivo[:-4]] = metrica\n",
    "np.savez(\"control_points\", **metricas)"
   ]
  },
  {
   "cell_type": "code",
   "execution_count": 36,
   "id": "84fcda85-9a68-42c7-89c2-078c2184d725",
   "metadata": {},
   "outputs": [
    {
     "name": "stdout",
     "output_type": "stream",
     "text": [
      "['altura_cintura', 'altura_virilha', 'braço', 'cintura', 'comp_braço', 'coxa', 'ombro_a_ombro', 'panturrilha', 'peito', 'pescoço', 'pescoço_ao_quadril', 'pulso', 'quadril']\n"
     ]
    }
   ],
   "source": [
    "with np.load(\"control_points.npz\") as file:\n",
    "    print(file.files)"
   ]
  },
  {
   "cell_type": "code",
   "execution_count": null,
   "id": "1429d514-0967-4a7f-bb10-53d90f274ebd",
   "metadata": {},
   "outputs": [],
   "source": []
  }
 ],
 "metadata": {
  "kernelspec": {
   "display_name": "Python 3",
   "language": "python",
   "name": "python3"
  },
  "language_info": {
   "codemirror_mode": {
    "name": "ipython",
    "version": 3
   },
   "file_extension": ".py",
   "mimetype": "text/x-python",
   "name": "python",
   "nbconvert_exporter": "python",
   "pygments_lexer": "ipython3",
   "version": "3.8.10"
  }
 },
 "nbformat": 4,
 "nbformat_minor": 5
}
