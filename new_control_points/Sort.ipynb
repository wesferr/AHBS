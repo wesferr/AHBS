{
 "cells": [
  {
   "cell_type": "code",
   "execution_count": 1,
   "id": "2f053326-73e9-4cdb-a121-830a5b8fe34b",
   "metadata": {
    "tags": []
   },
   "outputs": [],
   "source": [
    "from loader import Loader\n",
    "import numpy as np\n",
    "import pandas as pd\n",
    "from scipy.spatial.distance import cdist"
   ]
  },
  {
   "cell_type": "code",
   "execution_count": 2,
   "id": "192744cc-ab3c-409f-bab8-f893ed1e1983",
   "metadata": {},
   "outputs": [],
   "source": [
    "vertex = []\n",
    "with open(\"test1.obj\", \"r\") as f:\n",
    "    for line in f:\n",
    "        if line[0] == '#':\n",
    "            continue\n",
    "        elif \"v \" in line:\n",
    "            line.replace('\\n', ' ')\n",
    "            tmp = list(map(float, line[1:].split()))\n",
    "            vertex.append(tmp)\n",
    "        else:\n",
    "            break\n",
    "vertex = np.array(vertex)"
   ]
  },
  {
   "cell_type": "markdown",
   "id": "b3a52fa0-550a-4c73-8529-b042694322b7",
   "metadata": {},
   "source": [
    "# Shortest Path 1"
   ]
  },
  {
   "cell_type": "code",
   "execution_count": 3,
   "id": "5557ed47-c381-4e56-8224-d05a95155032",
   "metadata": {},
   "outputs": [],
   "source": [
    "measure = list(np.load(\"resultado_panturrilha.npy\"))"
   ]
  },
  {
   "cell_type": "code",
   "execution_count": 4,
   "id": "281bdc5a-e0fd-4e91-a8e6-4d54334b32ce",
   "metadata": {},
   "outputs": [],
   "source": [
    "position = []\n",
    "for i in range(0, len(measure)):\n",
    "    x = vertex[int(measure[i][0])] * measure[i][3]\n",
    "    y = vertex[int(measure[i][1])] * measure[i][4]\n",
    "    z = vertex[int(measure[i][2])] * measure[i][5]\n",
    "    p = x + y + z\n",
    "    position.append(p)\n",
    "position = np.array(position)"
   ]
  },
  {
   "cell_type": "code",
   "execution_count": 5,
   "id": "4ffc0395-0a8f-4a4d-8442-777a03bd5fea",
   "metadata": {},
   "outputs": [],
   "source": [
    "distances = cdist(position, position)"
   ]
  },
  {
   "cell_type": "code",
   "execution_count": 6,
   "id": "30163bed-62bd-4675-80fd-52bb72c21194",
   "metadata": {
    "tags": []
   },
   "outputs": [],
   "source": [
    "from python_tsp.heuristics import solve_tsp_simulated_annealing\n",
    "permutation, distance = solve_tsp_simulated_annealing(distances, max_processing_time=120)"
   ]
  },
  {
   "cell_type": "code",
   "execution_count": 7,
   "id": "3fe6ac9d-ac1a-4fa1-813a-31001ad124a0",
   "metadata": {
    "tags": []
   },
   "outputs": [],
   "source": [
    "new_positions=[]\n",
    "for i in permutation:\n",
    "    new_positions.append(measure[i])\n",
    "new_positions=np.array(new_positions)"
   ]
  },
  {
   "cell_type": "code",
   "execution_count": 8,
   "id": "18d666dc-1c2e-47eb-beed-4a117c35c200",
   "metadata": {},
   "outputs": [],
   "source": [
    "np.save(\"resultado_panturrilha.npy\", new_positions)"
   ]
  },
  {
   "cell_type": "markdown",
   "id": "9481ef1b-3342-4c72-b77a-9c4e5542f99d",
   "metadata": {},
   "source": [
    "# Generate file"
   ]
  },
  {
   "cell_type": "code",
   "execution_count": 56,
   "id": "c0dbc276-63ff-4ec8-87c1-e16ffeb0ed46",
   "metadata": {},
   "outputs": [],
   "source": [
    "measure = np.load(\"resultado_panturrilha.npy\")"
   ]
  },
  {
   "cell_type": "code",
   "execution_count": 57,
   "id": "aa15a2ee-99b1-402f-b203-5b9368f5ba85",
   "metadata": {},
   "outputs": [],
   "source": [
    "measure = np.delete(measure, range(43,123), axis=0)"
   ]
  },
  {
   "cell_type": "code",
   "execution_count": 58,
   "id": "03e5105b-a3dc-4b0d-8ce1-368eaa7ea515",
   "metadata": {
    "tags": []
   },
   "outputs": [],
   "source": [
    "position = []\n",
    "for i in range(0, len(measure)):\n",
    "    x = vertex[int(measure[i][0])] * measure[i][3]\n",
    "    y = vertex[int(measure[i][1])] * measure[i][4]\n",
    "    z = vertex[int(measure[i][2])] * measure[i][5]\n",
    "    p = x + y + z\n",
    "    position.append(p)\n",
    "position = np.array(position)\n"
   ]
  },
  {
   "cell_type": "code",
   "execution_count": 59,
   "id": "d14d8b3b-381c-4147-9755-61977e61acc0",
   "metadata": {},
   "outputs": [],
   "source": [
    "with open(\"0.obj\", \"w\") as pontos:\n",
    "    for element in position:\n",
    "        pontos.write(\"v {} {} {}\\n\".format(element[0], element[1], element[2]))"
   ]
  },
  {
   "cell_type": "code",
   "execution_count": null,
   "id": "281b32b5-3898-4d2a-8500-daca9f5e05d9",
   "metadata": {},
   "outputs": [],
   "source": []
  }
 ],
 "metadata": {
  "kernelspec": {
   "display_name": "Python 3",
   "language": "python",
   "name": "python3"
  },
  "language_info": {
   "codemirror_mode": {
    "name": "ipython",
    "version": 3
   },
   "file_extension": ".py",
   "mimetype": "text/x-python",
   "name": "python",
   "nbconvert_exporter": "python",
   "pygments_lexer": "ipython3",
   "version": "3.8.10"
  }
 },
 "nbformat": 4,
 "nbformat_minor": 5
}
