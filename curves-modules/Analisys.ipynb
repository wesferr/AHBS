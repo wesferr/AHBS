{
 "cells": [
  {
   "cell_type": "markdown",
   "id": "95d7ed57",
   "metadata": {},
   "source": [
    "# DEFINITIONS"
   ]
  },
  {
   "cell_type": "code",
   "execution_count": 1,
   "id": "fa6b0809",
   "metadata": {},
   "outputs": [],
   "source": [
    "import numpy as np\n",
    "import pandas as pd\n",
    "from itertools import combinations\n",
    "from sklearn.ensemble import RandomForestRegressor, RandomForestClassifier\n",
    "from sklearn.model_selection import train_test_split\n",
    "from sklearn.metrics import mean_squared_error, mean_absolute_error, mean_absolute_percentage_error\n",
    "from tqdm.notebook import tqdm as progressbar"
   ]
  },
  {
   "cell_type": "code",
   "execution_count": 2,
   "id": "9eda3228",
   "metadata": {},
   "outputs": [],
   "source": [
    "def normalize_d(data):\n",
    "    return (data - data.min()) / (data.max() - data.min())\n",
    "\n",
    "def denormalize_d(data, base):\n",
    "    return ( data * (base.max() - base.min()) ) + base.min()\n",
    "    \n",
    "def calculate_error(X, y):\n",
    "    x_train, x_test, y_train, y_test = train_test_split(X, y, test_size=0.33, random_state=42)\n",
    "    clf = RandomForestRegressor(random_state=42, n_estimators=100)\n",
    "    clf.fit(x_train,y_train)\n",
    "    y_generated = clf.predict(x_test)\n",
    "    return mean_absolute_percentage_error(y_generated, y_test)\n",
    "\n",
    "def train(X, y):\n",
    "    x_train, x_test, y_train, y_test = train_test_split(X, y, test_size=0.33, random_state=42)\n",
    "    clf = RandomForestRegressor(random_state=42, n_estimators=1000)\n",
    "    clf.fit(x_train,y_train)\n",
    "    return clf"
   ]
  },
  {
   "cell_type": "markdown",
   "id": "f4846bc8",
   "metadata": {},
   "source": [
    "# LOAD DATASETS"
   ]
  },
  {
   "cell_type": "code",
   "execution_count": 3,
   "id": "340cd7ce",
   "metadata": {},
   "outputs": [],
   "source": [
    "my_semantic = [\n",
    "    'stature',\n",
    "    'waist-girth',\n",
    "    'hip-girth',\n",
    "    'thigh-girth',\n",
    "    'calf-girth',\n",
    "    'neck-girth',\n",
    "    'bust-girth',\n",
    "    'wrist-girth',\n",
    "    'upper-arm-girth',\n",
    "    'biacromial-length',\n",
    "    'neck-to-waist-length',\n",
    "    'waist-height',\n",
    "    'hip-height'\n",
    "]\n",
    "life_semantic = [\n",
    "    'height',\n",
    "    'waist_gth',\n",
    "    'hip_gth',\n",
    "    'thigh_gth_r_hz',# 'thigh_gth_l_hz'\n",
    "    'calf_gth_r', # calf_gth_l\n",
    "    'mid_neck_gth',\n",
    "    'bust_chest_gth',\n",
    "    'wrist_gth',\n",
    "    'up_arm_gth_r',\n",
    "    'cr_shoulder',\n",
    "    'neck_waist_c_back',\n",
    "    'waist_ht',\n",
    "    'hip_ht'\n",
    "]\n",
    "ansur_semantic = [\n",
    "    'stature',\n",
    "    'waistcircumference',\n",
    "    'buttockcircumference',\n",
    "    'thighcircumference',\n",
    "    'calfcircumference',\n",
    "    'neckcircumference',\n",
    "    'chestcircumference',\n",
    "    'wristcircumference',\n",
    "    'bicepscircumferenceflexed',\n",
    "    'interscyeii',\n",
    "    'waistbacklength',\n",
    "    'waistheightomphalion',\n",
    "    'trochanterionheight',\n",
    "]\n"
   ]
  },
  {
   "cell_type": "code",
   "execution_count": 4,
   "id": "ce8b8016",
   "metadata": {},
   "outputs": [],
   "source": [
    "my_male = np.load(\"bodies-male-measures.npy\")\n",
    "my_female = np.load(\"bodies-female-measures.npy\")\n",
    "\n",
    "my_male = pd.DataFrame(my_male, columns=my_semantic)\n",
    "my_female = pd.DataFrame(my_female, columns=my_semantic)"
   ]
  },
  {
   "cell_type": "code",
   "execution_count": 5,
   "id": "d6991441",
   "metadata": {
    "scrolled": true
   },
   "outputs": [],
   "source": [
    "ansur_male = pd.read_csv(\"datasets/ansur_2_male.csv\",encoding_errors='ignore')\n",
    "ansur_male_age = ansur_male['Age']\n",
    "ansur_male = ansur_male[ansur_semantic]/10\n",
    "ansur_male.columns = my_semantic\n",
    "\n",
    "ansur_female = pd.read_csv(\"datasets/ansur_2_female.csv\",encoding_errors='ignore')\n",
    "ansur_female_age = ansur_female['Age']\n",
    "ansur_female = ansur_female[ansur_semantic]/10\n",
    "ansur_female.columns = my_semantic\n",
    "\n",
    "ansur_male_normalized = normalize_d(ansur_male)\n",
    "ansur_male_age_normalized = normalize_d(ansur_male_age)\n",
    "\n",
    "ansur_female_normalized = normalize_d(ansur_female)\n",
    "ansur_female_age_normalized = normalize_d(ansur_female_age)"
   ]
  },
  {
   "cell_type": "code",
   "execution_count": 6,
   "id": "2ab82537",
   "metadata": {},
   "outputs": [],
   "source": [
    "life = pd.read_csv(\"datasets/life.csv\",encoding_errors='ignore').dropna()\n",
    "\n",
    "life_male = life[life['Gender'] == 'male']\n",
    "life_male.columns = life_male.columns.str.lower()\n",
    "life_male_age = life_male['age']\n",
    "life_male = life_male[life_semantic]\n",
    "life_male.columns = my_semantic\n",
    "\n",
    "life_female = life[life['Gender'] == 'female']\n",
    "life_female.columns = life_female.columns.str.lower()\n",
    "life_female_age = life_female['age']\n",
    "life_female = life_female[life_semantic]\n",
    "life_female.columns = my_semantic\n",
    "\n",
    "life_male_normalized = normalize_d(life_male)\n",
    "life_male_age_normalized = normalize_d(life_male_age)\n",
    "\n",
    "life_female_normalized = normalize_d(life_female)\n",
    "life_female_age_normalized = normalize_d(life_female_age)"
   ]
  },
  {
   "cell_type": "code",
   "execution_count": 7,
   "id": "5faba20b",
   "metadata": {},
   "outputs": [
    {
     "data": {
      "text/html": [
       "<div>\n",
       "<style scoped>\n",
       "    .dataframe tbody tr th:only-of-type {\n",
       "        vertical-align: middle;\n",
       "    }\n",
       "\n",
       "    .dataframe tbody tr th {\n",
       "        vertical-align: top;\n",
       "    }\n",
       "\n",
       "    .dataframe thead th {\n",
       "        text-align: right;\n",
       "    }\n",
       "</style>\n",
       "<table border=\"1\" class=\"dataframe\">\n",
       "  <thead>\n",
       "    <tr style=\"text-align: right;\">\n",
       "      <th></th>\n",
       "      <th>stature</th>\n",
       "      <th>waist-girth</th>\n",
       "      <th>hip-girth</th>\n",
       "      <th>thigh-girth</th>\n",
       "      <th>calf-girth</th>\n",
       "      <th>neck-girth</th>\n",
       "      <th>bust-girth</th>\n",
       "      <th>wrist-girth</th>\n",
       "      <th>upper-arm-girth</th>\n",
       "      <th>biacromial-length</th>\n",
       "      <th>neck-to-waist-length</th>\n",
       "      <th>waist-height</th>\n",
       "      <th>hip-height</th>\n",
       "    </tr>\n",
       "  </thead>\n",
       "  <tbody>\n",
       "    <tr>\n",
       "      <th>count</th>\n",
       "      <td>4082.000000</td>\n",
       "      <td>4082.000000</td>\n",
       "      <td>4082.000000</td>\n",
       "      <td>4082.000000</td>\n",
       "      <td>4082.000000</td>\n",
       "      <td>4082.000000</td>\n",
       "      <td>4082.000000</td>\n",
       "      <td>4082.000000</td>\n",
       "      <td>4082.000000</td>\n",
       "      <td>4082.000000</td>\n",
       "      <td>4082.000000</td>\n",
       "      <td>4082.000000</td>\n",
       "      <td>4082.000000</td>\n",
       "    </tr>\n",
       "    <tr>\n",
       "      <th>mean</th>\n",
       "      <td>175.621460</td>\n",
       "      <td>94.057741</td>\n",
       "      <td>101.951886</td>\n",
       "      <td>62.514233</td>\n",
       "      <td>39.226066</td>\n",
       "      <td>39.764895</td>\n",
       "      <td>105.870554</td>\n",
       "      <td>17.591671</td>\n",
       "      <td>35.813572</td>\n",
       "      <td>45.016316</td>\n",
       "      <td>47.761244</td>\n",
       "      <td>105.648530</td>\n",
       "      <td>90.093067</td>\n",
       "    </tr>\n",
       "    <tr>\n",
       "      <th>std</th>\n",
       "      <td>6.855079</td>\n",
       "      <td>11.170587</td>\n",
       "      <td>7.668107</td>\n",
       "      <td>5.845217</td>\n",
       "      <td>2.970884</td>\n",
       "      <td>2.577676</td>\n",
       "      <td>8.743527</td>\n",
       "      <td>0.895506</td>\n",
       "      <td>3.461809</td>\n",
       "      <td>3.048854</td>\n",
       "      <td>2.772829</td>\n",
       "      <td>5.215467</td>\n",
       "      <td>4.917166</td>\n",
       "    </tr>\n",
       "    <tr>\n",
       "      <th>min</th>\n",
       "      <td>149.100000</td>\n",
       "      <td>64.800000</td>\n",
       "      <td>73.700000</td>\n",
       "      <td>41.200000</td>\n",
       "      <td>26.600000</td>\n",
       "      <td>31.100000</td>\n",
       "      <td>77.400000</td>\n",
       "      <td>14.100000</td>\n",
       "      <td>24.600000</td>\n",
       "      <td>34.500000</td>\n",
       "      <td>38.300000</td>\n",
       "      <td>87.600000</td>\n",
       "      <td>73.100000</td>\n",
       "    </tr>\n",
       "    <tr>\n",
       "      <th>25%</th>\n",
       "      <td>171.000000</td>\n",
       "      <td>85.700000</td>\n",
       "      <td>96.700000</td>\n",
       "      <td>58.600000</td>\n",
       "      <td>37.200000</td>\n",
       "      <td>37.925000</td>\n",
       "      <td>99.600000</td>\n",
       "      <td>17.000000</td>\n",
       "      <td>33.500000</td>\n",
       "      <td>43.000000</td>\n",
       "      <td>45.925000</td>\n",
       "      <td>102.000000</td>\n",
       "      <td>86.700000</td>\n",
       "    </tr>\n",
       "    <tr>\n",
       "      <th>50%</th>\n",
       "      <td>175.500000</td>\n",
       "      <td>93.700000</td>\n",
       "      <td>101.700000</td>\n",
       "      <td>62.400000</td>\n",
       "      <td>39.200000</td>\n",
       "      <td>39.500000</td>\n",
       "      <td>105.600000</td>\n",
       "      <td>17.600000</td>\n",
       "      <td>35.700000</td>\n",
       "      <td>45.000000</td>\n",
       "      <td>47.700000</td>\n",
       "      <td>105.500000</td>\n",
       "      <td>89.900000</td>\n",
       "    </tr>\n",
       "    <tr>\n",
       "      <th>75%</th>\n",
       "      <td>180.200000</td>\n",
       "      <td>101.600000</td>\n",
       "      <td>106.800000</td>\n",
       "      <td>66.200000</td>\n",
       "      <td>41.200000</td>\n",
       "      <td>41.375000</td>\n",
       "      <td>111.700000</td>\n",
       "      <td>18.200000</td>\n",
       "      <td>38.000000</td>\n",
       "      <td>47.100000</td>\n",
       "      <td>49.500000</td>\n",
       "      <td>109.000000</td>\n",
       "      <td>93.200000</td>\n",
       "    </tr>\n",
       "    <tr>\n",
       "      <th>max</th>\n",
       "      <td>199.300000</td>\n",
       "      <td>137.900000</td>\n",
       "      <td>130.500000</td>\n",
       "      <td>84.300000</td>\n",
       "      <td>52.300000</td>\n",
       "      <td>51.400000</td>\n",
       "      <td>146.900000</td>\n",
       "      <td>21.600000</td>\n",
       "      <td>49.000000</td>\n",
       "      <td>57.700000</td>\n",
       "      <td>59.800000</td>\n",
       "      <td>124.500000</td>\n",
       "      <td>109.500000</td>\n",
       "    </tr>\n",
       "  </tbody>\n",
       "</table>\n",
       "</div>"
      ],
      "text/plain": [
       "           stature  waist-girth    hip-girth  thigh-girth   calf-girth  \\\n",
       "count  4082.000000  4082.000000  4082.000000  4082.000000  4082.000000   \n",
       "mean    175.621460    94.057741   101.951886    62.514233    39.226066   \n",
       "std       6.855079    11.170587     7.668107     5.845217     2.970884   \n",
       "min     149.100000    64.800000    73.700000    41.200000    26.600000   \n",
       "25%     171.000000    85.700000    96.700000    58.600000    37.200000   \n",
       "50%     175.500000    93.700000   101.700000    62.400000    39.200000   \n",
       "75%     180.200000   101.600000   106.800000    66.200000    41.200000   \n",
       "max     199.300000   137.900000   130.500000    84.300000    52.300000   \n",
       "\n",
       "        neck-girth   bust-girth  wrist-girth  upper-arm-girth  \\\n",
       "count  4082.000000  4082.000000  4082.000000      4082.000000   \n",
       "mean     39.764895   105.870554    17.591671        35.813572   \n",
       "std       2.577676     8.743527     0.895506         3.461809   \n",
       "min      31.100000    77.400000    14.100000        24.600000   \n",
       "25%      37.925000    99.600000    17.000000        33.500000   \n",
       "50%      39.500000   105.600000    17.600000        35.700000   \n",
       "75%      41.375000   111.700000    18.200000        38.000000   \n",
       "max      51.400000   146.900000    21.600000        49.000000   \n",
       "\n",
       "       biacromial-length  neck-to-waist-length  waist-height   hip-height  \n",
       "count        4082.000000           4082.000000   4082.000000  4082.000000  \n",
       "mean           45.016316             47.761244    105.648530    90.093067  \n",
       "std             3.048854              2.772829      5.215467     4.917166  \n",
       "min            34.500000             38.300000     87.600000    73.100000  \n",
       "25%            43.000000             45.925000    102.000000    86.700000  \n",
       "50%            45.000000             47.700000    105.500000    89.900000  \n",
       "75%            47.100000             49.500000    109.000000    93.200000  \n",
       "max            57.700000             59.800000    124.500000   109.500000  "
      ]
     },
     "execution_count": 7,
     "metadata": {},
     "output_type": "execute_result"
    }
   ],
   "source": [
    "ansur_male.describe()"
   ]
  },
  {
   "cell_type": "code",
   "execution_count": 8,
   "id": "8cd91858",
   "metadata": {},
   "outputs": [
    {
     "data": {
      "text/html": [
       "<div>\n",
       "<style scoped>\n",
       "    .dataframe tbody tr th:only-of-type {\n",
       "        vertical-align: middle;\n",
       "    }\n",
       "\n",
       "    .dataframe tbody tr th {\n",
       "        vertical-align: top;\n",
       "    }\n",
       "\n",
       "    .dataframe thead th {\n",
       "        text-align: right;\n",
       "    }\n",
       "</style>\n",
       "<table border=\"1\" class=\"dataframe\">\n",
       "  <thead>\n",
       "    <tr style=\"text-align: right;\">\n",
       "      <th></th>\n",
       "      <th>stature</th>\n",
       "      <th>waist-girth</th>\n",
       "      <th>hip-girth</th>\n",
       "      <th>thigh-girth</th>\n",
       "      <th>calf-girth</th>\n",
       "      <th>neck-girth</th>\n",
       "      <th>bust-girth</th>\n",
       "      <th>wrist-girth</th>\n",
       "      <th>upper-arm-girth</th>\n",
       "      <th>biacromial-length</th>\n",
       "      <th>neck-to-waist-length</th>\n",
       "      <th>waist-height</th>\n",
       "      <th>hip-height</th>\n",
       "    </tr>\n",
       "  </thead>\n",
       "  <tbody>\n",
       "    <tr>\n",
       "      <th>count</th>\n",
       "      <td>4082.000000</td>\n",
       "      <td>4082.000000</td>\n",
       "      <td>4082.000000</td>\n",
       "      <td>4082.000000</td>\n",
       "      <td>4082.000000</td>\n",
       "      <td>4082.000000</td>\n",
       "      <td>4082.000000</td>\n",
       "      <td>4082.000000</td>\n",
       "      <td>4082.000000</td>\n",
       "      <td>4082.000000</td>\n",
       "      <td>4082.000000</td>\n",
       "      <td>4082.000000</td>\n",
       "      <td>4082.000000</td>\n",
       "    </tr>\n",
       "    <tr>\n",
       "      <th>mean</th>\n",
       "      <td>176.088858</td>\n",
       "      <td>100.668937</td>\n",
       "      <td>105.084021</td>\n",
       "      <td>55.632190</td>\n",
       "      <td>38.678485</td>\n",
       "      <td>42.224841</td>\n",
       "      <td>107.880496</td>\n",
       "      <td>18.217338</td>\n",
       "      <td>31.467081</td>\n",
       "      <td>50.258372</td>\n",
       "      <td>43.756663</td>\n",
       "      <td>111.097501</td>\n",
       "      <td>87.890666</td>\n",
       "    </tr>\n",
       "    <tr>\n",
       "      <th>std</th>\n",
       "      <td>7.487432</td>\n",
       "      <td>12.257658</td>\n",
       "      <td>7.610317</td>\n",
       "      <td>4.655902</td>\n",
       "      <td>3.029959</td>\n",
       "      <td>3.573047</td>\n",
       "      <td>9.642352</td>\n",
       "      <td>1.151149</td>\n",
       "      <td>2.814044</td>\n",
       "      <td>3.386522</td>\n",
       "      <td>2.308203</td>\n",
       "      <td>5.383601</td>\n",
       "      <td>5.833081</td>\n",
       "    </tr>\n",
       "    <tr>\n",
       "      <th>min</th>\n",
       "      <td>99.350000</td>\n",
       "      <td>68.600000</td>\n",
       "      <td>87.400000</td>\n",
       "      <td>37.700000</td>\n",
       "      <td>28.200000</td>\n",
       "      <td>33.100000</td>\n",
       "      <td>72.150000</td>\n",
       "      <td>14.350000</td>\n",
       "      <td>22.800000</td>\n",
       "      <td>32.300000</td>\n",
       "      <td>26.950000</td>\n",
       "      <td>61.550000</td>\n",
       "      <td>69.500000</td>\n",
       "    </tr>\n",
       "    <tr>\n",
       "      <th>25%</th>\n",
       "      <td>171.300000</td>\n",
       "      <td>92.100000</td>\n",
       "      <td>100.100000</td>\n",
       "      <td>52.600000</td>\n",
       "      <td>36.600000</td>\n",
       "      <td>39.700000</td>\n",
       "      <td>101.100000</td>\n",
       "      <td>17.400000</td>\n",
       "      <td>29.600000</td>\n",
       "      <td>48.000000</td>\n",
       "      <td>42.200000</td>\n",
       "      <td>107.500000</td>\n",
       "      <td>83.800000</td>\n",
       "    </tr>\n",
       "    <tr>\n",
       "      <th>50%</th>\n",
       "      <td>176.100000</td>\n",
       "      <td>100.000000</td>\n",
       "      <td>103.900000</td>\n",
       "      <td>55.400000</td>\n",
       "      <td>38.400000</td>\n",
       "      <td>41.800000</td>\n",
       "      <td>107.100000</td>\n",
       "      <td>18.150000</td>\n",
       "      <td>31.200000</td>\n",
       "      <td>50.100000</td>\n",
       "      <td>43.700000</td>\n",
       "      <td>111.000000</td>\n",
       "      <td>87.700000</td>\n",
       "    </tr>\n",
       "    <tr>\n",
       "      <th>75%</th>\n",
       "      <td>181.100000</td>\n",
       "      <td>108.500000</td>\n",
       "      <td>108.800000</td>\n",
       "      <td>58.300000</td>\n",
       "      <td>40.500000</td>\n",
       "      <td>44.400000</td>\n",
       "      <td>113.900000</td>\n",
       "      <td>19.000000</td>\n",
       "      <td>32.900000</td>\n",
       "      <td>52.300000</td>\n",
       "      <td>45.300000</td>\n",
       "      <td>114.600000</td>\n",
       "      <td>91.800000</td>\n",
       "    </tr>\n",
       "    <tr>\n",
       "      <th>max</th>\n",
       "      <td>206.500000</td>\n",
       "      <td>143.500000</td>\n",
       "      <td>157.700000</td>\n",
       "      <td>82.700000</td>\n",
       "      <td>51.900000</td>\n",
       "      <td>59.100000</td>\n",
       "      <td>155.400000</td>\n",
       "      <td>25.000000</td>\n",
       "      <td>48.900000</td>\n",
       "      <td>71.366667</td>\n",
       "      <td>53.000000</td>\n",
       "      <td>135.900000</td>\n",
       "      <td>115.500000</td>\n",
       "    </tr>\n",
       "  </tbody>\n",
       "</table>\n",
       "</div>"
      ],
      "text/plain": [
       "           stature  waist-girth    hip-girth  thigh-girth   calf-girth  \\\n",
       "count  4082.000000  4082.000000  4082.000000  4082.000000  4082.000000   \n",
       "mean    176.088858   100.668937   105.084021    55.632190    38.678485   \n",
       "std       7.487432    12.257658     7.610317     4.655902     3.029959   \n",
       "min      99.350000    68.600000    87.400000    37.700000    28.200000   \n",
       "25%     171.300000    92.100000   100.100000    52.600000    36.600000   \n",
       "50%     176.100000   100.000000   103.900000    55.400000    38.400000   \n",
       "75%     181.100000   108.500000   108.800000    58.300000    40.500000   \n",
       "max     206.500000   143.500000   157.700000    82.700000    51.900000   \n",
       "\n",
       "        neck-girth   bust-girth  wrist-girth  upper-arm-girth  \\\n",
       "count  4082.000000  4082.000000  4082.000000      4082.000000   \n",
       "mean     42.224841   107.880496    18.217338        31.467081   \n",
       "std       3.573047     9.642352     1.151149         2.814044   \n",
       "min      33.100000    72.150000    14.350000        22.800000   \n",
       "25%      39.700000   101.100000    17.400000        29.600000   \n",
       "50%      41.800000   107.100000    18.150000        31.200000   \n",
       "75%      44.400000   113.900000    19.000000        32.900000   \n",
       "max      59.100000   155.400000    25.000000        48.900000   \n",
       "\n",
       "       biacromial-length  neck-to-waist-length  waist-height   hip-height  \n",
       "count        4082.000000           4082.000000   4082.000000  4082.000000  \n",
       "mean           50.258372             43.756663    111.097501    87.890666  \n",
       "std             3.386522              2.308203      5.383601     5.833081  \n",
       "min            32.300000             26.950000     61.550000    69.500000  \n",
       "25%            48.000000             42.200000    107.500000    83.800000  \n",
       "50%            50.100000             43.700000    111.000000    87.700000  \n",
       "75%            52.300000             45.300000    114.600000    91.800000  \n",
       "max            71.366667             53.000000    135.900000   115.500000  "
      ]
     },
     "execution_count": 8,
     "metadata": {},
     "output_type": "execute_result"
    }
   ],
   "source": [
    "life_male.describe()"
   ]
  },
  {
   "cell_type": "code",
   "execution_count": 9,
   "id": "0a534952",
   "metadata": {},
   "outputs": [],
   "source": [
    "male_collection = pd.concat([life_male,ansur_male], axis=0)\n",
    "female_collection = pd.concat([life_female,ansur_female], axis=0)\n",
    "male_collection_age = pd.concat([life_male_age, ansur_male_age], axis=0)\n",
    "female_collection_age = pd.concat([life_female_age, ansur_female_age], axis=0)\n",
    "\n",
    "male_collection_normalized = normalize_d(male_collection)\n",
    "female_collection_normalized = normalize_d(female_collection)\n",
    "\n",
    "male_collection_age_normalized = normalize_d(male_collection_age)\n",
    "female_collection_age_normalized = normalize_d(female_collection_age)"
   ]
  },
  {
   "cell_type": "code",
   "execution_count": 10,
   "id": "ff0ff226",
   "metadata": {},
   "outputs": [
    {
     "data": {
      "text/plain": [
       "<AxesSubplot:ylabel='Frequency'>"
      ]
     },
     "execution_count": 10,
     "metadata": {},
     "output_type": "execute_result"
    },
    {
     "data": {
      "image/png": "[encoded data removed]",
      "text/plain": [
       "<Figure size 432x288 with 1 Axes>"
      ]
     },
     "metadata": {
      "needs_background": "light"
     },
     "output_type": "display_data"
    }
   ],
   "source": [
    "life_male_age.plot(kind='hist', bins=62)"
   ]
  },
  {
   "cell_type": "code",
   "execution_count": 11,
   "id": "2a80769c",
   "metadata": {},
   "outputs": [
    {
     "data": {
      "text/plain": [
       "<AxesSubplot:ylabel='Frequency'>"
      ]
     },
     "execution_count": 11,
     "metadata": {},
     "output_type": "execute_result"
    },
    {
     "data": {
      "image/png": "[encoded data removed]",
      "text/plain": [
       "<Figure size 432x288 with 1 Axes>"
      ]
     },
     "metadata": {
      "needs_background": "light"
     },
     "output_type": "display_data"
    }
   ],
   "source": [
    "life_female_age.plot(kind='hist', bins=62)"
   ]
  },
  {
   "cell_type": "code",
   "execution_count": 12,
   "id": "c4b8f7f7",
   "metadata": {},
   "outputs": [
    {
     "data": {
      "text/plain": [
       "<AxesSubplot:ylabel='Frequency'>"
      ]
     },
     "execution_count": 12,
     "metadata": {},
     "output_type": "execute_result"
    },
    {
     "data": {
      "image/png": "[encoded data removed]",
      "text/plain": [
       "<Figure size 432x288 with 1 Axes>"
      ]
     },
     "metadata": {
      "needs_background": "light"
     },
     "output_type": "display_data"
    }
   ],
   "source": [
    "ansur_male_age.plot(kind='hist', bins=42)"
   ]
  },
  {
   "cell_type": "code",
   "execution_count": 13,
   "id": "334b7bbb",
   "metadata": {},
   "outputs": [
    {
     "data": {
      "text/plain": [
       "<AxesSubplot:ylabel='Frequency'>"
      ]
     },
     "execution_count": 13,
     "metadata": {},
     "output_type": "execute_result"
    },
    {
     "data": {
      "image/png": "[encoded data removed]",
      "text/plain": [
       "<Figure size 432x288 with 1 Axes>"
      ]
     },
     "metadata": {
      "needs_background": "light"
     },
     "output_type": "display_data"
    }
   ],
   "source": [
    "ansur_female_age.plot(kind='hist', bins=42)"
   ]
  },
  {
   "cell_type": "code",
   "execution_count": 14,
   "id": "5a6315f0",
   "metadata": {},
   "outputs": [
    {
     "data": {
      "text/plain": [
       "<AxesSubplot:ylabel='Frequency'>"
      ]
     },
     "execution_count": 14,
     "metadata": {},
     "output_type": "execute_result"
    },
    {
     "data": {
      "image/png": "[encoded data removed]",
      "text/plain": [
       "<Figure size 432x288 with 1 Axes>"
      ]
     },
     "metadata": {
      "needs_background": "light"
     },
     "output_type": "display_data"
    }
   ],
   "source": [
    "pd.concat([life_male_age, ansur_male_age], axis=0).plot(kind='hist', bins=62)"
   ]
  },
  {
   "cell_type": "code",
   "execution_count": 15,
   "id": "f34a2957",
   "metadata": {},
   "outputs": [
    {
     "data": {
      "text/plain": [
       "<AxesSubplot:ylabel='Frequency'>"
      ]
     },
     "execution_count": 15,
     "metadata": {},
     "output_type": "execute_result"
    },
    {
     "data": {
      "image/png": "[encoded data removed]",
      "text/plain": [
       "<Figure size 432x288 with 1 Axes>"
      ]
     },
     "metadata": {
      "needs_background": "light"
     },
     "output_type": "display_data"
    }
   ],
   "source": [
    "pd.concat([life_female_age, ansur_female_age], axis=0).plot(kind='hist', bins=64)"
   ]
  },
  {
   "cell_type": "code",
   "execution_count": 16,
   "id": "196d58b0",
   "metadata": {},
   "outputs": [
    {
     "data": {
      "text/html": [
       "<div>\n",
       "<style scoped>\n",
       "    .dataframe tbody tr th:only-of-type {\n",
       "        vertical-align: middle;\n",
       "    }\n",
       "\n",
       "    .dataframe tbody tr th {\n",
       "        vertical-align: top;\n",
       "    }\n",
       "\n",
       "    .dataframe thead th {\n",
       "        text-align: right;\n",
       "    }\n",
       "</style>\n",
       "<table border=\"1\" class=\"dataframe\">\n",
       "  <thead>\n",
       "    <tr style=\"text-align: right;\">\n",
       "      <th></th>\n",
       "      <th>stature</th>\n",
       "      <th>waist-girth</th>\n",
       "      <th>hip-girth</th>\n",
       "      <th>thigh-girth</th>\n",
       "      <th>calf-girth</th>\n",
       "      <th>neck-girth</th>\n",
       "      <th>bust-girth</th>\n",
       "      <th>wrist-girth</th>\n",
       "      <th>upper-arm-girth</th>\n",
       "      <th>biacromial-length</th>\n",
       "      <th>neck-to-waist-length</th>\n",
       "      <th>waist-height</th>\n",
       "      <th>hip-height</th>\n",
       "    </tr>\n",
       "  </thead>\n",
       "  <tbody>\n",
       "    <tr>\n",
       "      <th>count</th>\n",
       "      <td>4082.000000</td>\n",
       "      <td>4082.000000</td>\n",
       "      <td>4082.000000</td>\n",
       "      <td>4082.000000</td>\n",
       "      <td>4082.000000</td>\n",
       "      <td>4082.000000</td>\n",
       "      <td>4082.000000</td>\n",
       "      <td>4082.000000</td>\n",
       "      <td>4082.000000</td>\n",
       "      <td>4082.000000</td>\n",
       "      <td>4082.000000</td>\n",
       "      <td>4082.000000</td>\n",
       "      <td>4082.000000</td>\n",
       "    </tr>\n",
       "    <tr>\n",
       "      <th>mean</th>\n",
       "      <td>176.088858</td>\n",
       "      <td>100.668937</td>\n",
       "      <td>105.084021</td>\n",
       "      <td>55.632190</td>\n",
       "      <td>38.678485</td>\n",
       "      <td>42.224841</td>\n",
       "      <td>107.880496</td>\n",
       "      <td>18.217338</td>\n",
       "      <td>31.467081</td>\n",
       "      <td>50.258372</td>\n",
       "      <td>43.756663</td>\n",
       "      <td>111.097501</td>\n",
       "      <td>87.890666</td>\n",
       "    </tr>\n",
       "    <tr>\n",
       "      <th>std</th>\n",
       "      <td>7.487432</td>\n",
       "      <td>12.257658</td>\n",
       "      <td>7.610317</td>\n",
       "      <td>4.655902</td>\n",
       "      <td>3.029959</td>\n",
       "      <td>3.573047</td>\n",
       "      <td>9.642352</td>\n",
       "      <td>1.151149</td>\n",
       "      <td>2.814044</td>\n",
       "      <td>3.386522</td>\n",
       "      <td>2.308203</td>\n",
       "      <td>5.383601</td>\n",
       "      <td>5.833081</td>\n",
       "    </tr>\n",
       "    <tr>\n",
       "      <th>min</th>\n",
       "      <td>99.350000</td>\n",
       "      <td>68.600000</td>\n",
       "      <td>87.400000</td>\n",
       "      <td>37.700000</td>\n",
       "      <td>28.200000</td>\n",
       "      <td>33.100000</td>\n",
       "      <td>72.150000</td>\n",
       "      <td>14.350000</td>\n",
       "      <td>22.800000</td>\n",
       "      <td>32.300000</td>\n",
       "      <td>26.950000</td>\n",
       "      <td>61.550000</td>\n",
       "      <td>69.500000</td>\n",
       "    </tr>\n",
       "    <tr>\n",
       "      <th>25%</th>\n",
       "      <td>171.300000</td>\n",
       "      <td>92.100000</td>\n",
       "      <td>100.100000</td>\n",
       "      <td>52.600000</td>\n",
       "      <td>36.600000</td>\n",
       "      <td>39.700000</td>\n",
       "      <td>101.100000</td>\n",
       "      <td>17.400000</td>\n",
       "      <td>29.600000</td>\n",
       "      <td>48.000000</td>\n",
       "      <td>42.200000</td>\n",
       "      <td>107.500000</td>\n",
       "      <td>83.800000</td>\n",
       "    </tr>\n",
       "    <tr>\n",
       "      <th>50%</th>\n",
       "      <td>176.100000</td>\n",
       "      <td>100.000000</td>\n",
       "      <td>103.900000</td>\n",
       "      <td>55.400000</td>\n",
       "      <td>38.400000</td>\n",
       "      <td>41.800000</td>\n",
       "      <td>107.100000</td>\n",
       "      <td>18.150000</td>\n",
       "      <td>31.200000</td>\n",
       "      <td>50.100000</td>\n",
       "      <td>43.700000</td>\n",
       "      <td>111.000000</td>\n",
       "      <td>87.700000</td>\n",
       "    </tr>\n",
       "    <tr>\n",
       "      <th>75%</th>\n",
       "      <td>181.100000</td>\n",
       "      <td>108.500000</td>\n",
       "      <td>108.800000</td>\n",
       "      <td>58.300000</td>\n",
       "      <td>40.500000</td>\n",
       "      <td>44.400000</td>\n",
       "      <td>113.900000</td>\n",
       "      <td>19.000000</td>\n",
       "      <td>32.900000</td>\n",
       "      <td>52.300000</td>\n",
       "      <td>45.300000</td>\n",
       "      <td>114.600000</td>\n",
       "      <td>91.800000</td>\n",
       "    </tr>\n",
       "    <tr>\n",
       "      <th>max</th>\n",
       "      <td>206.500000</td>\n",
       "      <td>143.500000</td>\n",
       "      <td>157.700000</td>\n",
       "      <td>82.700000</td>\n",
       "      <td>51.900000</td>\n",
       "      <td>59.100000</td>\n",
       "      <td>155.400000</td>\n",
       "      <td>25.000000</td>\n",
       "      <td>48.900000</td>\n",
       "      <td>71.366667</td>\n",
       "      <td>53.000000</td>\n",
       "      <td>135.900000</td>\n",
       "      <td>115.500000</td>\n",
       "    </tr>\n",
       "  </tbody>\n",
       "</table>\n",
       "</div>"
      ],
      "text/plain": [
       "           stature  waist-girth    hip-girth  thigh-girth   calf-girth  \\\n",
       "count  4082.000000  4082.000000  4082.000000  4082.000000  4082.000000   \n",
       "mean    176.088858   100.668937   105.084021    55.632190    38.678485   \n",
       "std       7.487432    12.257658     7.610317     4.655902     3.029959   \n",
       "min      99.350000    68.600000    87.400000    37.700000    28.200000   \n",
       "25%     171.300000    92.100000   100.100000    52.600000    36.600000   \n",
       "50%     176.100000   100.000000   103.900000    55.400000    38.400000   \n",
       "75%     181.100000   108.500000   108.800000    58.300000    40.500000   \n",
       "max     206.500000   143.500000   157.700000    82.700000    51.900000   \n",
       "\n",
       "        neck-girth   bust-girth  wrist-girth  upper-arm-girth  \\\n",
       "count  4082.000000  4082.000000  4082.000000      4082.000000   \n",
       "mean     42.224841   107.880496    18.217338        31.467081   \n",
       "std       3.573047     9.642352     1.151149         2.814044   \n",
       "min      33.100000    72.150000    14.350000        22.800000   \n",
       "25%      39.700000   101.100000    17.400000        29.600000   \n",
       "50%      41.800000   107.100000    18.150000        31.200000   \n",
       "75%      44.400000   113.900000    19.000000        32.900000   \n",
       "max      59.100000   155.400000    25.000000        48.900000   \n",
       "\n",
       "       biacromial-length  neck-to-waist-length  waist-height   hip-height  \n",
       "count        4082.000000           4082.000000   4082.000000  4082.000000  \n",
       "mean           50.258372             43.756663    111.097501    87.890666  \n",
       "std             3.386522              2.308203      5.383601     5.833081  \n",
       "min            32.300000             26.950000     61.550000    69.500000  \n",
       "25%            48.000000             42.200000    107.500000    83.800000  \n",
       "50%            50.100000             43.700000    111.000000    87.700000  \n",
       "75%            52.300000             45.300000    114.600000    91.800000  \n",
       "max            71.366667             53.000000    135.900000   115.500000  "
      ]
     },
     "execution_count": 16,
     "metadata": {},
     "output_type": "execute_result"
    }
   ],
   "source": [
    "life_male.describe()"
   ]
  },
  {
   "cell_type": "code",
   "execution_count": 17,
   "id": "6f345a10",
   "metadata": {},
   "outputs": [
    {
     "data": {
      "text/html": [
       "<div>\n",
       "<style scoped>\n",
       "    .dataframe tbody tr th:only-of-type {\n",
       "        vertical-align: middle;\n",
       "    }\n",
       "\n",
       "    .dataframe tbody tr th {\n",
       "        vertical-align: top;\n",
       "    }\n",
       "\n",
       "    .dataframe thead th {\n",
       "        text-align: right;\n",
       "    }\n",
       "</style>\n",
       "<table border=\"1\" class=\"dataframe\">\n",
       "  <thead>\n",
       "    <tr style=\"text-align: right;\">\n",
       "      <th></th>\n",
       "      <th>stature</th>\n",
       "      <th>waist-girth</th>\n",
       "      <th>hip-girth</th>\n",
       "      <th>thigh-girth</th>\n",
       "      <th>calf-girth</th>\n",
       "      <th>neck-girth</th>\n",
       "      <th>bust-girth</th>\n",
       "      <th>wrist-girth</th>\n",
       "      <th>upper-arm-girth</th>\n",
       "      <th>biacromial-length</th>\n",
       "      <th>neck-to-waist-length</th>\n",
       "      <th>waist-height</th>\n",
       "      <th>hip-height</th>\n",
       "    </tr>\n",
       "  </thead>\n",
       "  <tbody>\n",
       "    <tr>\n",
       "      <th>count</th>\n",
       "      <td>4082.000000</td>\n",
       "      <td>4082.000000</td>\n",
       "      <td>4082.000000</td>\n",
       "      <td>4082.000000</td>\n",
       "      <td>4082.000000</td>\n",
       "      <td>4082.000000</td>\n",
       "      <td>4082.000000</td>\n",
       "      <td>4082.000000</td>\n",
       "      <td>4082.000000</td>\n",
       "      <td>4082.000000</td>\n",
       "      <td>4082.000000</td>\n",
       "      <td>4082.000000</td>\n",
       "      <td>4082.000000</td>\n",
       "    </tr>\n",
       "    <tr>\n",
       "      <th>mean</th>\n",
       "      <td>175.621460</td>\n",
       "      <td>94.057741</td>\n",
       "      <td>101.951886</td>\n",
       "      <td>62.514233</td>\n",
       "      <td>39.226066</td>\n",
       "      <td>39.764895</td>\n",
       "      <td>105.870554</td>\n",
       "      <td>17.591671</td>\n",
       "      <td>35.813572</td>\n",
       "      <td>45.016316</td>\n",
       "      <td>47.761244</td>\n",
       "      <td>105.648530</td>\n",
       "      <td>90.093067</td>\n",
       "    </tr>\n",
       "    <tr>\n",
       "      <th>std</th>\n",
       "      <td>6.855079</td>\n",
       "      <td>11.170587</td>\n",
       "      <td>7.668107</td>\n",
       "      <td>5.845217</td>\n",
       "      <td>2.970884</td>\n",
       "      <td>2.577676</td>\n",
       "      <td>8.743527</td>\n",
       "      <td>0.895506</td>\n",
       "      <td>3.461809</td>\n",
       "      <td>3.048854</td>\n",
       "      <td>2.772829</td>\n",
       "      <td>5.215467</td>\n",
       "      <td>4.917166</td>\n",
       "    </tr>\n",
       "    <tr>\n",
       "      <th>min</th>\n",
       "      <td>149.100000</td>\n",
       "      <td>64.800000</td>\n",
       "      <td>73.700000</td>\n",
       "      <td>41.200000</td>\n",
       "      <td>26.600000</td>\n",
       "      <td>31.100000</td>\n",
       "      <td>77.400000</td>\n",
       "      <td>14.100000</td>\n",
       "      <td>24.600000</td>\n",
       "      <td>34.500000</td>\n",
       "      <td>38.300000</td>\n",
       "      <td>87.600000</td>\n",
       "      <td>73.100000</td>\n",
       "    </tr>\n",
       "    <tr>\n",
       "      <th>25%</th>\n",
       "      <td>171.000000</td>\n",
       "      <td>85.700000</td>\n",
       "      <td>96.700000</td>\n",
       "      <td>58.600000</td>\n",
       "      <td>37.200000</td>\n",
       "      <td>37.925000</td>\n",
       "      <td>99.600000</td>\n",
       "      <td>17.000000</td>\n",
       "      <td>33.500000</td>\n",
       "      <td>43.000000</td>\n",
       "      <td>45.925000</td>\n",
       "      <td>102.000000</td>\n",
       "      <td>86.700000</td>\n",
       "    </tr>\n",
       "    <tr>\n",
       "      <th>50%</th>\n",
       "      <td>175.500000</td>\n",
       "      <td>93.700000</td>\n",
       "      <td>101.700000</td>\n",
       "      <td>62.400000</td>\n",
       "      <td>39.200000</td>\n",
       "      <td>39.500000</td>\n",
       "      <td>105.600000</td>\n",
       "      <td>17.600000</td>\n",
       "      <td>35.700000</td>\n",
       "      <td>45.000000</td>\n",
       "      <td>47.700000</td>\n",
       "      <td>105.500000</td>\n",
       "      <td>89.900000</td>\n",
       "    </tr>\n",
       "    <tr>\n",
       "      <th>75%</th>\n",
       "      <td>180.200000</td>\n",
       "      <td>101.600000</td>\n",
       "      <td>106.800000</td>\n",
       "      <td>66.200000</td>\n",
       "      <td>41.200000</td>\n",
       "      <td>41.375000</td>\n",
       "      <td>111.700000</td>\n",
       "      <td>18.200000</td>\n",
       "      <td>38.000000</td>\n",
       "      <td>47.100000</td>\n",
       "      <td>49.500000</td>\n",
       "      <td>109.000000</td>\n",
       "      <td>93.200000</td>\n",
       "    </tr>\n",
       "    <tr>\n",
       "      <th>max</th>\n",
       "      <td>199.300000</td>\n",
       "      <td>137.900000</td>\n",
       "      <td>130.500000</td>\n",
       "      <td>84.300000</td>\n",
       "      <td>52.300000</td>\n",
       "      <td>51.400000</td>\n",
       "      <td>146.900000</td>\n",
       "      <td>21.600000</td>\n",
       "      <td>49.000000</td>\n",
       "      <td>57.700000</td>\n",
       "      <td>59.800000</td>\n",
       "      <td>124.500000</td>\n",
       "      <td>109.500000</td>\n",
       "    </tr>\n",
       "  </tbody>\n",
       "</table>\n",
       "</div>"
      ],
      "text/plain": [
       "           stature  waist-girth    hip-girth  thigh-girth   calf-girth  \\\n",
       "count  4082.000000  4082.000000  4082.000000  4082.000000  4082.000000   \n",
       "mean    175.621460    94.057741   101.951886    62.514233    39.226066   \n",
       "std       6.855079    11.170587     7.668107     5.845217     2.970884   \n",
       "min     149.100000    64.800000    73.700000    41.200000    26.600000   \n",
       "25%     171.000000    85.700000    96.700000    58.600000    37.200000   \n",
       "50%     175.500000    93.700000   101.700000    62.400000    39.200000   \n",
       "75%     180.200000   101.600000   106.800000    66.200000    41.200000   \n",
       "max     199.300000   137.900000   130.500000    84.300000    52.300000   \n",
       "\n",
       "        neck-girth   bust-girth  wrist-girth  upper-arm-girth  \\\n",
       "count  4082.000000  4082.000000  4082.000000      4082.000000   \n",
       "mean     39.764895   105.870554    17.591671        35.813572   \n",
       "std       2.577676     8.743527     0.895506         3.461809   \n",
       "min      31.100000    77.400000    14.100000        24.600000   \n",
       "25%      37.925000    99.600000    17.000000        33.500000   \n",
       "50%      39.500000   105.600000    17.600000        35.700000   \n",
       "75%      41.375000   111.700000    18.200000        38.000000   \n",
       "max      51.400000   146.900000    21.600000        49.000000   \n",
       "\n",
       "       biacromial-length  neck-to-waist-length  waist-height   hip-height  \n",
       "count        4082.000000           4082.000000   4082.000000  4082.000000  \n",
       "mean           45.016316             47.761244    105.648530    90.093067  \n",
       "std             3.048854              2.772829      5.215467     4.917166  \n",
       "min            34.500000             38.300000     87.600000    73.100000  \n",
       "25%            43.000000             45.925000    102.000000    86.700000  \n",
       "50%            45.000000             47.700000    105.500000    89.900000  \n",
       "75%            47.100000             49.500000    109.000000    93.200000  \n",
       "max            57.700000             59.800000    124.500000   109.500000  "
      ]
     },
     "execution_count": 17,
     "metadata": {},
     "output_type": "execute_result"
    }
   ],
   "source": [
    "ansur_male.describe()"
   ]
  },
  {
   "cell_type": "code",
   "execution_count": 18,
   "id": "3199be85",
   "metadata": {},
   "outputs": [
    {
     "data": {
      "text/html": [
       "<div>\n",
       "<style scoped>\n",
       "    .dataframe tbody tr th:only-of-type {\n",
       "        vertical-align: middle;\n",
       "    }\n",
       "\n",
       "    .dataframe tbody tr th {\n",
       "        vertical-align: top;\n",
       "    }\n",
       "\n",
       "    .dataframe thead th {\n",
       "        text-align: right;\n",
       "    }\n",
       "</style>\n",
       "<table border=\"1\" class=\"dataframe\">\n",
       "  <thead>\n",
       "    <tr style=\"text-align: right;\">\n",
       "      <th></th>\n",
       "      <th>stature</th>\n",
       "      <th>waist-girth</th>\n",
       "      <th>hip-girth</th>\n",
       "      <th>thigh-girth</th>\n",
       "      <th>calf-girth</th>\n",
       "      <th>neck-girth</th>\n",
       "      <th>bust-girth</th>\n",
       "      <th>wrist-girth</th>\n",
       "      <th>upper-arm-girth</th>\n",
       "      <th>biacromial-length</th>\n",
       "      <th>neck-to-waist-length</th>\n",
       "      <th>waist-height</th>\n",
       "      <th>hip-height</th>\n",
       "    </tr>\n",
       "  </thead>\n",
       "  <tbody>\n",
       "    <tr>\n",
       "      <th>count</th>\n",
       "      <td>4300.000000</td>\n",
       "      <td>4300.000000</td>\n",
       "      <td>4300.000000</td>\n",
       "      <td>4300.000000</td>\n",
       "      <td>4300.000000</td>\n",
       "      <td>4300.000000</td>\n",
       "      <td>4300.000000</td>\n",
       "      <td>4300.000000</td>\n",
       "      <td>4300.000000</td>\n",
       "      <td>4300.000000</td>\n",
       "      <td>4300.000000</td>\n",
       "      <td>4300.000000</td>\n",
       "      <td>4300.000000</td>\n",
       "    </tr>\n",
       "    <tr>\n",
       "      <th>mean</th>\n",
       "      <td>164.549745</td>\n",
       "      <td>90.445974</td>\n",
       "      <td>107.663437</td>\n",
       "      <td>57.346449</td>\n",
       "      <td>37.507700</td>\n",
       "      <td>35.874316</td>\n",
       "      <td>101.038740</td>\n",
       "      <td>16.382374</td>\n",
       "      <td>29.616314</td>\n",
       "      <td>46.334045</td>\n",
       "      <td>40.717312</td>\n",
       "      <td>102.532019</td>\n",
       "      <td>81.732263</td>\n",
       "    </tr>\n",
       "    <tr>\n",
       "      <th>std</th>\n",
       "      <td>6.880675</td>\n",
       "      <td>13.370739</td>\n",
       "      <td>10.024415</td>\n",
       "      <td>5.750482</td>\n",
       "      <td>3.420016</td>\n",
       "      <td>3.235896</td>\n",
       "      <td>11.007442</td>\n",
       "      <td>1.246011</td>\n",
       "      <td>3.221412</td>\n",
       "      <td>3.693511</td>\n",
       "      <td>2.369814</td>\n",
       "      <td>5.153316</td>\n",
       "      <td>5.575040</td>\n",
       "    </tr>\n",
       "    <tr>\n",
       "      <th>min</th>\n",
       "      <td>141.600000</td>\n",
       "      <td>59.700000</td>\n",
       "      <td>83.100000</td>\n",
       "      <td>38.500000</td>\n",
       "      <td>27.700000</td>\n",
       "      <td>28.000000</td>\n",
       "      <td>74.800000</td>\n",
       "      <td>12.800000</td>\n",
       "      <td>20.300000</td>\n",
       "      <td>36.600000</td>\n",
       "      <td>32.300000</td>\n",
       "      <td>84.750000</td>\n",
       "      <td>63.400000</td>\n",
       "    </tr>\n",
       "    <tr>\n",
       "      <th>25%</th>\n",
       "      <td>159.600000</td>\n",
       "      <td>80.100000</td>\n",
       "      <td>100.900000</td>\n",
       "      <td>53.500000</td>\n",
       "      <td>35.200000</td>\n",
       "      <td>33.500000</td>\n",
       "      <td>93.000000</td>\n",
       "      <td>15.500000</td>\n",
       "      <td>27.400000</td>\n",
       "      <td>43.800000</td>\n",
       "      <td>39.100000</td>\n",
       "      <td>99.000000</td>\n",
       "      <td>77.800000</td>\n",
       "    </tr>\n",
       "    <tr>\n",
       "      <th>50%</th>\n",
       "      <td>164.200000</td>\n",
       "      <td>89.700000</td>\n",
       "      <td>106.000000</td>\n",
       "      <td>56.600000</td>\n",
       "      <td>37.100000</td>\n",
       "      <td>35.400000</td>\n",
       "      <td>99.900000</td>\n",
       "      <td>16.200000</td>\n",
       "      <td>29.100000</td>\n",
       "      <td>46.000000</td>\n",
       "      <td>40.700000</td>\n",
       "      <td>102.300000</td>\n",
       "      <td>81.400000</td>\n",
       "    </tr>\n",
       "    <tr>\n",
       "      <th>75%</th>\n",
       "      <td>169.100000</td>\n",
       "      <td>99.225000</td>\n",
       "      <td>112.925000</td>\n",
       "      <td>60.500000</td>\n",
       "      <td>39.300000</td>\n",
       "      <td>37.900000</td>\n",
       "      <td>108.000000</td>\n",
       "      <td>17.100000</td>\n",
       "      <td>31.300000</td>\n",
       "      <td>48.400000</td>\n",
       "      <td>42.200000</td>\n",
       "      <td>106.100000</td>\n",
       "      <td>85.700000</td>\n",
       "    </tr>\n",
       "    <tr>\n",
       "      <th>max</th>\n",
       "      <td>188.400000</td>\n",
       "      <td>143.600000</td>\n",
       "      <td>183.300000</td>\n",
       "      <td>108.000000</td>\n",
       "      <td>61.900000</td>\n",
       "      <td>51.900000</td>\n",
       "      <td>148.200000</td>\n",
       "      <td>25.400000</td>\n",
       "      <td>45.000000</td>\n",
       "      <td>102.000000</td>\n",
       "      <td>51.300000</td>\n",
       "      <td>122.800000</td>\n",
       "      <td>104.200000</td>\n",
       "    </tr>\n",
       "  </tbody>\n",
       "</table>\n",
       "</div>"
      ],
      "text/plain": [
       "           stature  waist-girth    hip-girth  thigh-girth   calf-girth  \\\n",
       "count  4300.000000  4300.000000  4300.000000  4300.000000  4300.000000   \n",
       "mean    164.549745    90.445974   107.663437    57.346449    37.507700   \n",
       "std       6.880675    13.370739    10.024415     5.750482     3.420016   \n",
       "min     141.600000    59.700000    83.100000    38.500000    27.700000   \n",
       "25%     159.600000    80.100000   100.900000    53.500000    35.200000   \n",
       "50%     164.200000    89.700000   106.000000    56.600000    37.100000   \n",
       "75%     169.100000    99.225000   112.925000    60.500000    39.300000   \n",
       "max     188.400000   143.600000   183.300000   108.000000    61.900000   \n",
       "\n",
       "        neck-girth   bust-girth  wrist-girth  upper-arm-girth  \\\n",
       "count  4300.000000  4300.000000  4300.000000      4300.000000   \n",
       "mean     35.874316   101.038740    16.382374        29.616314   \n",
       "std       3.235896    11.007442     1.246011         3.221412   \n",
       "min      28.000000    74.800000    12.800000        20.300000   \n",
       "25%      33.500000    93.000000    15.500000        27.400000   \n",
       "50%      35.400000    99.900000    16.200000        29.100000   \n",
       "75%      37.900000   108.000000    17.100000        31.300000   \n",
       "max      51.900000   148.200000    25.400000        45.000000   \n",
       "\n",
       "       biacromial-length  neck-to-waist-length  waist-height   hip-height  \n",
       "count        4300.000000           4300.000000   4300.000000  4300.000000  \n",
       "mean           46.334045             40.717312    102.532019    81.732263  \n",
       "std             3.693511              2.369814      5.153316     5.575040  \n",
       "min            36.600000             32.300000     84.750000    63.400000  \n",
       "25%            43.800000             39.100000     99.000000    77.800000  \n",
       "50%            46.000000             40.700000    102.300000    81.400000  \n",
       "75%            48.400000             42.200000    106.100000    85.700000  \n",
       "max           102.000000             51.300000    122.800000   104.200000  "
      ]
     },
     "execution_count": 18,
     "metadata": {},
     "output_type": "execute_result"
    }
   ],
   "source": [
    "life_female.describe()"
   ]
  },
  {
   "cell_type": "code",
   "execution_count": 19,
   "id": "17891660",
   "metadata": {},
   "outputs": [
    {
     "data": {
      "text/html": [
       "<div>\n",
       "<style scoped>\n",
       "    .dataframe tbody tr th:only-of-type {\n",
       "        vertical-align: middle;\n",
       "    }\n",
       "\n",
       "    .dataframe tbody tr th {\n",
       "        vertical-align: top;\n",
       "    }\n",
       "\n",
       "    .dataframe thead th {\n",
       "        text-align: right;\n",
       "    }\n",
       "</style>\n",
       "<table border=\"1\" class=\"dataframe\">\n",
       "  <thead>\n",
       "    <tr style=\"text-align: right;\">\n",
       "      <th></th>\n",
       "      <th>stature</th>\n",
       "      <th>waist-girth</th>\n",
       "      <th>hip-girth</th>\n",
       "      <th>thigh-girth</th>\n",
       "      <th>calf-girth</th>\n",
       "      <th>neck-girth</th>\n",
       "      <th>bust-girth</th>\n",
       "      <th>wrist-girth</th>\n",
       "      <th>upper-arm-girth</th>\n",
       "      <th>biacromial-length</th>\n",
       "      <th>neck-to-waist-length</th>\n",
       "      <th>waist-height</th>\n",
       "      <th>hip-height</th>\n",
       "    </tr>\n",
       "  </thead>\n",
       "  <tbody>\n",
       "    <tr>\n",
       "      <th>count</th>\n",
       "      <td>1986.000000</td>\n",
       "      <td>1986.000000</td>\n",
       "      <td>1986.000000</td>\n",
       "      <td>1986.000000</td>\n",
       "      <td>1986.000000</td>\n",
       "      <td>1986.000000</td>\n",
       "      <td>1986.000000</td>\n",
       "      <td>1986.000000</td>\n",
       "      <td>1986.000000</td>\n",
       "      <td>1986.000000</td>\n",
       "      <td>1986.000000</td>\n",
       "      <td>1986.000000</td>\n",
       "      <td>1986.000000</td>\n",
       "    </tr>\n",
       "    <tr>\n",
       "      <th>mean</th>\n",
       "      <td>162.847331</td>\n",
       "      <td>86.090534</td>\n",
       "      <td>102.124773</td>\n",
       "      <td>61.614854</td>\n",
       "      <td>37.325780</td>\n",
       "      <td>32.979557</td>\n",
       "      <td>94.685801</td>\n",
       "      <td>15.479255</td>\n",
       "      <td>30.557855</td>\n",
       "      <td>39.570896</td>\n",
       "      <td>42.540282</td>\n",
       "      <td>98.014904</td>\n",
       "      <td>84.535096</td>\n",
       "    </tr>\n",
       "    <tr>\n",
       "      <th>std</th>\n",
       "      <td>6.419951</td>\n",
       "      <td>9.993177</td>\n",
       "      <td>7.589471</td>\n",
       "      <td>5.581030</td>\n",
       "      <td>2.851518</td>\n",
       "      <td>1.922114</td>\n",
       "      <td>8.269911</td>\n",
       "      <td>0.782770</td>\n",
       "      <td>3.075703</td>\n",
       "      <td>2.570713</td>\n",
       "      <td>2.638895</td>\n",
       "      <td>5.002271</td>\n",
       "      <td>4.467627</td>\n",
       "    </tr>\n",
       "    <tr>\n",
       "      <th>min</th>\n",
       "      <td>140.900000</td>\n",
       "      <td>61.100000</td>\n",
       "      <td>79.800000</td>\n",
       "      <td>44.800000</td>\n",
       "      <td>28.200000</td>\n",
       "      <td>27.500000</td>\n",
       "      <td>69.500000</td>\n",
       "      <td>12.400000</td>\n",
       "      <td>21.600000</td>\n",
       "      <td>30.600000</td>\n",
       "      <td>34.500000</td>\n",
       "      <td>80.500000</td>\n",
       "      <td>66.000000</td>\n",
       "    </tr>\n",
       "    <tr>\n",
       "      <th>25%</th>\n",
       "      <td>158.625000</td>\n",
       "      <td>79.000000</td>\n",
       "      <td>96.900000</td>\n",
       "      <td>57.900000</td>\n",
       "      <td>35.400000</td>\n",
       "      <td>31.600000</td>\n",
       "      <td>88.900000</td>\n",
       "      <td>15.000000</td>\n",
       "      <td>28.500000</td>\n",
       "      <td>37.900000</td>\n",
       "      <td>40.700000</td>\n",
       "      <td>94.700000</td>\n",
       "      <td>81.600000</td>\n",
       "    </tr>\n",
       "    <tr>\n",
       "      <th>50%</th>\n",
       "      <td>162.600000</td>\n",
       "      <td>85.200000</td>\n",
       "      <td>101.850000</td>\n",
       "      <td>61.300000</td>\n",
       "      <td>37.200000</td>\n",
       "      <td>32.800000</td>\n",
       "      <td>94.000000</td>\n",
       "      <td>15.400000</td>\n",
       "      <td>30.400000</td>\n",
       "      <td>39.600000</td>\n",
       "      <td>42.450000</td>\n",
       "      <td>97.750000</td>\n",
       "      <td>84.400000</td>\n",
       "    </tr>\n",
       "    <tr>\n",
       "      <th>75%</th>\n",
       "      <td>167.200000</td>\n",
       "      <td>92.500000</td>\n",
       "      <td>106.900000</td>\n",
       "      <td>65.100000</td>\n",
       "      <td>39.175000</td>\n",
       "      <td>34.200000</td>\n",
       "      <td>99.900000</td>\n",
       "      <td>16.000000</td>\n",
       "      <td>32.400000</td>\n",
       "      <td>41.200000</td>\n",
       "      <td>44.200000</td>\n",
       "      <td>101.300000</td>\n",
       "      <td>87.400000</td>\n",
       "    </tr>\n",
       "    <tr>\n",
       "      <th>max</th>\n",
       "      <td>182.900000</td>\n",
       "      <td>133.400000</td>\n",
       "      <td>134.100000</td>\n",
       "      <td>87.000000</td>\n",
       "      <td>48.200000</td>\n",
       "      <td>42.400000</td>\n",
       "      <td>126.600000</td>\n",
       "      <td>18.300000</td>\n",
       "      <td>43.500000</td>\n",
       "      <td>49.300000</td>\n",
       "      <td>53.200000</td>\n",
       "      <td>114.200000</td>\n",
       "      <td>101.800000</td>\n",
       "    </tr>\n",
       "  </tbody>\n",
       "</table>\n",
       "</div>"
      ],
      "text/plain": [
       "           stature  waist-girth    hip-girth  thigh-girth   calf-girth  \\\n",
       "count  1986.000000  1986.000000  1986.000000  1986.000000  1986.000000   \n",
       "mean    162.847331    86.090534   102.124773    61.614854    37.325780   \n",
       "std       6.419951     9.993177     7.589471     5.581030     2.851518   \n",
       "min     140.900000    61.100000    79.800000    44.800000    28.200000   \n",
       "25%     158.625000    79.000000    96.900000    57.900000    35.400000   \n",
       "50%     162.600000    85.200000   101.850000    61.300000    37.200000   \n",
       "75%     167.200000    92.500000   106.900000    65.100000    39.175000   \n",
       "max     182.900000   133.400000   134.100000    87.000000    48.200000   \n",
       "\n",
       "        neck-girth   bust-girth  wrist-girth  upper-arm-girth  \\\n",
       "count  1986.000000  1986.000000  1986.000000      1986.000000   \n",
       "mean     32.979557    94.685801    15.479255        30.557855   \n",
       "std       1.922114     8.269911     0.782770         3.075703   \n",
       "min      27.500000    69.500000    12.400000        21.600000   \n",
       "25%      31.600000    88.900000    15.000000        28.500000   \n",
       "50%      32.800000    94.000000    15.400000        30.400000   \n",
       "75%      34.200000    99.900000    16.000000        32.400000   \n",
       "max      42.400000   126.600000    18.300000        43.500000   \n",
       "\n",
       "       biacromial-length  neck-to-waist-length  waist-height   hip-height  \n",
       "count        1986.000000           1986.000000   1986.000000  1986.000000  \n",
       "mean           39.570896             42.540282     98.014904    84.535096  \n",
       "std             2.570713              2.638895      5.002271     4.467627  \n",
       "min            30.600000             34.500000     80.500000    66.000000  \n",
       "25%            37.900000             40.700000     94.700000    81.600000  \n",
       "50%            39.600000             42.450000     97.750000    84.400000  \n",
       "75%            41.200000             44.200000    101.300000    87.400000  \n",
       "max            49.300000             53.200000    114.200000   101.800000  "
      ]
     },
     "execution_count": 19,
     "metadata": {},
     "output_type": "execute_result"
    }
   ],
   "source": [
    "ansur_female.describe()"
   ]
  },
  {
   "cell_type": "markdown",
   "id": "82b2777a",
   "metadata": {},
   "source": [
    "# REGRESSOR TEST"
   ]
  },
  {
   "cell_type": "code",
   "execution_count": 20,
   "id": "9aadbfa7",
   "metadata": {
    "scrolled": true
   },
   "outputs": [
    {
     "name": "stdout",
     "output_type": "stream",
     "text": [
      "0.8218560887494342\n",
      "0.8014503174350444\n",
      "0.5421817908817115\n",
      "0.4743693054208351\n",
      "0.673687934559019\n",
      "0.6967080252485642\n"
     ]
    }
   ],
   "source": [
    "print(1 - calculate_error(life_male_normalized, life_male_age_normalized))\n",
    "print(1 - calculate_error(life_female_normalized, life_female_age_normalized))\n",
    "print(1 - calculate_error(ansur_male_normalized, ansur_male_age_normalized))\n",
    "print(1 - calculate_error(ansur_female_normalized, ansur_female_age_normalized))\n",
    "print(1 - calculate_error(male_collection_normalized, male_collection_age_normalized))\n",
    "print(1 - calculate_error(female_collection_normalized, female_collection_age_normalized))"
   ]
  },
  {
   "cell_type": "code",
   "execution_count": 21,
   "id": "8c9d57d4",
   "metadata": {},
   "outputs": [
    {
     "name": "stdout",
     "output_type": "stream",
     "text": [
      "Importancia:\n",
      "06.77% wrist-girth\n",
      "06.80% stature\n",
      "07.04% hip-girth\n",
      "07.25% thigh-girth\n",
      "07.44% neck-girth\n",
      "07.58% waist-height\n",
      "07.68% upper-arm-girth\n",
      "07.80% waist-girth\n",
      "07.83% calf-girth\n",
      "07.86% bust-girth\n",
      "08.13% neck-to-waist-length\n",
      "08.78% hip-height\n",
      "09.03% biacromial-length\n"
     ]
    }
   ],
   "source": [
    "X = life_male_normalized\n",
    "y = life_male_age_normalized\n",
    "x_train, x_test, y_train, y_test = train_test_split(ansur_male_normalized, y, test_size=0.33, random_state=42)\n",
    "clf = RandomForestRegressor(random_state=42, n_estimators=100)\n",
    "clf.fit(x_train,y_train)\n",
    "print(\"Importancia:\")\n",
    "for score, name in sorted(zip(clf.feature_importances_, my_semantic)):\n",
    "    print('{:06.2%}'.format(score), name)"
   ]
  },
  {
   "cell_type": "code",
   "execution_count": 22,
   "id": "8c21b681",
   "metadata": {},
   "outputs": [
    {
     "name": "stdout",
     "output_type": "stream",
     "text": [
      "Importancia:\n",
      "03.92% stature\n",
      "04.31% waist-height\n",
      "04.42% hip-height\n",
      "04.77% wrist-girth\n",
      "05.15% biacromial-length\n",
      "05.41% neck-to-waist-length\n",
      "05.64% calf-girth\n",
      "05.72% hip-girth\n",
      "05.83% neck-girth\n",
      "06.37% bust-girth\n",
      "06.51% upper-arm-girth\n",
      "14.98% thigh-girth\n",
      "26.96% waist-girth\n"
     ]
    }
   ],
   "source": [
    "X = ansur_male_normalized\n",
    "y = ansur_male_age_normalized\n",
    "x_train, x_test, y_train, y_test = train_test_split(ansur_male_normalized, y, test_size=0.33, random_state=42)\n",
    "clf = RandomForestRegressor(random_state=42, n_estimators=100)\n",
    "clf.fit(x_train,y_train)\n",
    "print(\"Importancia:\")\n",
    "for score, name in sorted(zip(clf.feature_importances_, my_semantic)):\n",
    "    print('{:06.2%}'.format(score), name)"
   ]
  },
  {
   "cell_type": "markdown",
   "id": "7d210a53",
   "metadata": {},
   "source": [
    "# AGE INTERVAL ANALISYS"
   ]
  },
  {
   "cell_type": "code",
   "execution_count": 23,
   "id": "dc383286",
   "metadata": {},
   "outputs": [],
   "source": [
    "def interval_tests(data_normalized, age, nage, interval):\n",
    "    age_interval = age.between(*interval)\n",
    "    data_normalized = data_normalized[age_interval]\n",
    "    nage = nage[age_interval]\n",
    "    if data_normalized.size == 0:\n",
    "        return np.nan\n",
    "    error = calculate_error(data_normalized, nage)\n",
    "    return error"
   ]
  },
  {
   "cell_type": "code",
   "execution_count": 24,
   "id": "f75f0934",
   "metadata": {},
   "outputs": [],
   "source": [
    "datasets_array = [\n",
    "    ('life_male', life_male_normalized, life_male_age, life_male_age_normalized),\n",
    "    ('life_female', life_female_normalized, life_female_age, life_female_age_normalized),\n",
    "    ('ansur_male', ansur_male_normalized, ansur_male_age, ansur_male_age_normalized),\n",
    "    ('ansur_female', ansur_female_normalized, ansur_female_age, ansur_female_age_normalized),\n",
    "    ('collection_male', male_collection_normalized, male_collection_age, male_collection_age_normalized),\n",
    "    ('collection_female', female_collection_normalized, female_collection_age, female_collection_age_normalized),\n",
    "]"
   ]
  },
  {
   "cell_type": "code",
   "execution_count": 25,
   "id": "4be88c16",
   "metadata": {},
   "outputs": [
    {
     "data": {
      "application/vnd.jupyter.widget-view+json": {
       "model_id": "04d1c478227343db9954966d2c3fd9f7",
       "version_major": 2,
       "version_minor": 0
      },
      "text/plain": [
       "  0%|          | 0/6 [00:00<?, ?it/s]"
      ]
     },
     "metadata": {},
     "output_type": "display_data"
    },
    {
     "data": {
      "application/vnd.jupyter.widget-view+json": {
       "model_id": "",
       "version_major": 2,
       "version_minor": 0
      },
      "text/plain": [
       "  0%|          | 0/21 [00:00<?, ?it/s]"
      ]
     },
     "metadata": {},
     "output_type": "display_data"
    },
    {
     "data": {
      "application/vnd.jupyter.widget-view+json": {
       "model_id": "",
       "version_major": 2,
       "version_minor": 0
      },
      "text/plain": [
       "  0%|          | 0/21 [00:00<?, ?it/s]"
      ]
     },
     "metadata": {},
     "output_type": "display_data"
    },
    {
     "data": {
      "application/vnd.jupyter.widget-view+json": {
       "model_id": "",
       "version_major": 2,
       "version_minor": 0
      },
      "text/plain": [
       "  0%|          | 0/21 [00:00<?, ?it/s]"
      ]
     },
     "metadata": {},
     "output_type": "display_data"
    },
    {
     "data": {
      "application/vnd.jupyter.widget-view+json": {
       "model_id": "",
       "version_major": 2,
       "version_minor": 0
      },
      "text/plain": [
       "  0%|          | 0/21 [00:00<?, ?it/s]"
      ]
     },
     "metadata": {},
     "output_type": "display_data"
    },
    {
     "data": {
      "application/vnd.jupyter.widget-view+json": {
       "model_id": "",
       "version_major": 2,
       "version_minor": 0
      },
      "text/plain": [
       "  0%|          | 0/21 [00:00<?, ?it/s]"
      ]
     },
     "metadata": {},
     "output_type": "display_data"
    },
    {
     "data": {
      "application/vnd.jupyter.widget-view+json": {
       "model_id": "",
       "version_major": 2,
       "version_minor": 0
      },
      "text/plain": [
       "  0%|          | 0/21 [00:00<?, ?it/s]"
      ]
     },
     "metadata": {},
     "output_type": "display_data"
    },
    {
     "data": {
      "text/plain": [
       "<AxesSubplot:>"
      ]
     },
     "execution_count": 25,
     "metadata": {},
     "output_type": "execute_result"
    },
    {
     "data": {
      "image/png": "[encoded data removed]",
      "text/plain": [
       "<Figure size 1080x720 with 1 Axes>"
      ]
     },
     "metadata": {
      "needs_background": "light"
     },
     "output_type": "display_data"
    }
   ],
   "source": [
    "data_extracted = {}\n",
    "comb = list(combinations(range(20,81,10), 2))\n",
    "for name, data, nage, age in progressbar(datasets_array):\n",
    "    data_extracted[name] = []\n",
    "    for interval in progressbar(comb, leave=False):\n",
    "        test = interval_tests(data, nage, age, interval)\n",
    "        data_extracted[name].append(test)\n",
    "extracted = pd.DataFrame(data_extracted, index=comb)\n",
    "extracted.plot(kind='barh', figsize=(15,10), stacked=True)"
   ]
  },
  {
   "cell_type": "code",
   "execution_count": 26,
   "id": "4fbd1d46",
   "metadata": {
    "scrolled": true
   },
   "outputs": [
    {
     "data": {
      "text/plain": [
       "<AxesSubplot:>"
      ]
     },
     "execution_count": 26,
     "metadata": {},
     "output_type": "execute_result"
    },
    {
     "data": {
      "image/png": "[encoded data removed]",
      "text/plain": [
       "<Figure size 1080x2160 with 1 Axes>"
      ]
     },
     "metadata": {
      "needs_background": "light"
     },
     "output_type": "display_data"
    }
   ],
   "source": [
    "extracted.plot(kind='barh', figsize=(15,30))"
   ]
  },
  {
   "cell_type": "code",
   "execution_count": 27,
   "id": "77d67a55",
   "metadata": {},
   "outputs": [
    {
     "data": {
      "text/plain": [
       "<AxesSubplot:>"
      ]
     },
     "execution_count": 27,
     "metadata": {},
     "output_type": "execute_result"
    },
    {
     "data": {
      "image/png": "[encoded data removed]",
      "text/plain": [
       "<Figure size 1080x720 with 1 Axes>"
      ]
     },
     "metadata": {
      "needs_background": "light"
     },
     "output_type": "display_data"
    }
   ],
   "source": [
    "mean_of_errors = extracted.mean(axis=1)\n",
    "interval_sizes = np.diff(np.array(list(extracted.index)), axis=1).flatten()\n",
    "factor = mean_of_errors/interval_sizes\n",
    "factor.plot(kind='barh', figsize=(15,10))"
   ]
  },
  {
   "cell_type": "code",
   "execution_count": 28,
   "id": "389b6204",
   "metadata": {},
   "outputs": [
    {
     "name": "stdout",
     "output_type": "stream",
     "text": [
      "(50, 80) 0.003250289577822522\n"
     ]
    }
   ],
   "source": [
    "minimal = factor.argmin()\n",
    "print(factor.keys()[minimal], factor[minimal])"
   ]
  },
  {
   "cell_type": "code",
   "execution_count": 29,
   "id": "2ae0cfe3",
   "metadata": {},
   "outputs": [
    {
     "name": "stdout",
     "output_type": "stream",
     "text": [
      "(40, 80) 0.003696395743742346\n"
     ]
    }
   ],
   "source": [
    "factor_copy = factor.copy()\n",
    "minimal_id = factor.keys()[minimal]\n",
    "factor_copy = factor_copy.drop(index=minimal_id)\n",
    "minimal = factor_copy.argmin()\n",
    "print(factor_copy.keys()[minimal], factor_copy[minimal])"
   ]
  },
  {
   "cell_type": "markdown",
   "id": "72254111",
   "metadata": {},
   "source": [
    "# REGRESSORS APPLY"
   ]
  },
  {
   "cell_type": "code",
   "execution_count": 30,
   "id": "ef24283d",
   "metadata": {},
   "outputs": [],
   "source": [
    "def applier(source_data, source_age, target_data, interval=(15, 85)):\n",
    "    selected_ages = source_age.between(*interval)\n",
    "    selected_source_data = source_data[selected_ages]\n",
    "    selected_source_age = source_age[selected_ages]\n",
    "    \n",
    "    predictor = train(normalize_d(selected_source_data), normalize_d(selected_source_age))\n",
    "    target_age = predictor.predict(normalize_d(target_data))\n",
    "    target_age = denormalize_d(target_age, selected_source_age)\n",
    "    target_age = np.rint(target_age)\n",
    "\n",
    "    pd.Series(target_age).plot(kind=\"hist\", bins=np.arange(interval[0], interval[1], 1), figsize=(20,5))\n",
    "    return target_age"
   ]
  },
  {
   "cell_type": "markdown",
   "id": "6ba05709",
   "metadata": {},
   "source": [
    "## REGRESSOR APPLY WITH COLLECTION"
   ]
  },
  {
   "cell_type": "code",
   "execution_count": 31,
   "id": "afe20611",
   "metadata": {},
   "outputs": [
    {
     "data": {
      "text/plain": [
       "array([47., 44., 56., ..., 57., 52., 62.])"
      ]
     },
     "execution_count": 31,
     "metadata": {},
     "output_type": "execute_result"
    },
    {
     "data": {
      "image/png": "[encoded data removed]",
      "text/plain": [
       "<Figure size 1440x360 with 1 Axes>"
      ]
     },
     "metadata": {
      "needs_background": "light"
     },
     "output_type": "display_data"
    }
   ],
   "source": [
    "applier(male_collection, male_collection_age, my_male)"
   ]
  },
  {
   "cell_type": "code",
   "execution_count": 32,
   "id": "a2d936ce",
   "metadata": {},
   "outputs": [
    {
     "data": {
      "text/plain": [
       "array([56., 52., 49., ..., 51., 47., 52.])"
      ]
     },
     "execution_count": 32,
     "metadata": {},
     "output_type": "execute_result"
    },
    {
     "data": {
      "image/png": "[encoded data removed]",
      "text/plain": [
       "<Figure size 1440x360 with 1 Axes>"
      ]
     },
     "metadata": {
      "needs_background": "light"
     },
     "output_type": "display_data"
    }
   ],
   "source": [
    "applier(female_collection, female_collection_age, my_female)"
   ]
  },
  {
   "cell_type": "code",
   "execution_count": 33,
   "id": "9cf07311",
   "metadata": {},
   "outputs": [
    {
     "data": {
      "text/plain": [
       "array([61., 54., 65., ..., 56., 60., 65.])"
      ]
     },
     "execution_count": 33,
     "metadata": {},
     "output_type": "execute_result"
    },
    {
     "data": {
      "image/png": "[encoded data removed]",
      "text/plain": [
       "<Figure size 1440x360 with 1 Axes>"
      ]
     },
     "metadata": {
      "needs_background": "light"
     },
     "output_type": "display_data"
    }
   ],
   "source": [
    "applier(male_collection, male_collection_age, my_male, (40,80))"
   ]
  },
  {
   "cell_type": "code",
   "execution_count": 34,
   "id": "e4e92982",
   "metadata": {},
   "outputs": [
    {
     "data": {
      "text/plain": [
       "array([54., 53., 54., ..., 52., 62., 51.])"
      ]
     },
     "execution_count": 34,
     "metadata": {},
     "output_type": "execute_result"
    },
    {
     "data": {
      "image/png": "[encoded data removed]",
      "text/plain": [
       "<Figure size 1440x360 with 1 Axes>"
      ]
     },
     "metadata": {
      "needs_background": "light"
     },
     "output_type": "display_data"
    }
   ],
   "source": [
    "applier(female_collection, female_collection_age, my_female, (40,80))"
   ]
  },
  {
   "cell_type": "markdown",
   "id": "f1a98279",
   "metadata": {},
   "source": [
    "## REGRESSOR APPLY WITH LIFE"
   ]
  },
  {
   "cell_type": "code",
   "execution_count": 35,
   "id": "f1f384f4",
   "metadata": {},
   "outputs": [
    {
     "data": {
      "text/plain": [
       "array([66., 54., 65., ..., 58., 52., 63.])"
      ]
     },
     "execution_count": 35,
     "metadata": {},
     "output_type": "execute_result"
    },
    {
     "data": {
      "image/png": "[encoded data removed]",
      "text/plain": [
       "<Figure size 1440x360 with 1 Axes>"
      ]
     },
     "metadata": {
      "needs_background": "light"
     },
     "output_type": "display_data"
    }
   ],
   "source": [
    "applier(life_male, life_male_age, my_male)"
   ]
  },
  {
   "cell_type": "code",
   "execution_count": 36,
   "id": "d107cd75",
   "metadata": {},
   "outputs": [
    {
     "data": {
      "text/plain": [
       "array([54., 51., 52., ..., 51., 49., 48.])"
      ]
     },
     "execution_count": 36,
     "metadata": {},
     "output_type": "execute_result"
    },
    {
     "data": {
      "image/png": "[encoded data removed]",
      "text/plain": [
       "<Figure size 1440x360 with 1 Axes>"
      ]
     },
     "metadata": {
      "needs_background": "light"
     },
     "output_type": "display_data"
    }
   ],
   "source": [
    "applier(life_female, life_female_age, my_female)\n"
   ]
  },
  {
   "cell_type": "code",
   "execution_count": 37,
   "id": "bdd562ef",
   "metadata": {},
   "outputs": [
    {
     "data": {
      "text/plain": [
       "array([66., 55., 66., ..., 59., 59., 65.])"
      ]
     },
     "execution_count": 37,
     "metadata": {},
     "output_type": "execute_result"
    },
    {
     "data": {
      "image/png": "[encoded data removed]",
      "text/plain": [
       "<Figure size 1440x360 with 1 Axes>"
      ]
     },
     "metadata": {
      "needs_background": "light"
     },
     "output_type": "display_data"
    }
   ],
   "source": [
    "applier(life_male, life_male_age, my_male, (40,80))"
   ]
  },
  {
   "cell_type": "code",
   "execution_count": 38,
   "id": "73e61cba",
   "metadata": {},
   "outputs": [
    {
     "data": {
      "text/plain": [
       "array([55., 54., 53., ..., 53., 56., 50.])"
      ]
     },
     "execution_count": 38,
     "metadata": {},
     "output_type": "execute_result"
    },
    {
     "data": {
      "image/png": "[encoded data removed]",
      "text/plain": [
       "<Figure size 1440x360 with 1 Axes>"
      ]
     },
     "metadata": {
      "needs_background": "light"
     },
     "output_type": "display_data"
    }
   ],
   "source": [
    "applier(life_female, life_female_age, my_female, (40,80))"
   ]
  },
  {
   "cell_type": "markdown",
   "id": "b261bcf0",
   "metadata": {},
   "source": [
    "# BODIES DIFFERENCES"
   ]
  },
  {
   "cell_type": "code",
   "execution_count": 39,
   "id": "4ea16c75",
   "metadata": {},
   "outputs": [
    {
     "data": {
      "image/png": "[encoded data removed]",
      "text/plain": [
       "<Figure size 1440x360 with 1 Axes>"
      ]
     },
     "metadata": {
      "needs_background": "light"
     },
     "output_type": "display_data"
    }
   ],
   "source": [
    "my_male_age = applier(male_collection, male_collection_age, my_male)"
   ]
  },
  {
   "cell_type": "code",
   "execution_count": 40,
   "id": "c8f639ee",
   "metadata": {},
   "outputs": [
    {
     "data": {
      "image/png": "[encoded data removed]",
      "text/plain": [
       "<Figure size 1440x360 with 1 Axes>"
      ]
     },
     "metadata": {
      "needs_background": "light"
     },
     "output_type": "display_data"
    }
   ],
   "source": [
    "my_female_age = applier(female_collection, female_collection_age, my_female)"
   ]
  },
  {
   "cell_type": "code",
   "execution_count": 41,
   "id": "71ff9a8e",
   "metadata": {},
   "outputs": [],
   "source": [
    "from scipy.spatial.distance import cdist"
   ]
  },
  {
   "cell_type": "code",
   "execution_count": 42,
   "id": "b5301bd0",
   "metadata": {},
   "outputs": [],
   "source": [
    "def calculate_difference(source, target, age):\n",
    "    interval = (age, age)\n",
    "\n",
    "    source_copy = source.copy()\n",
    "    source_copy = source_copy[source_copy.age.between(*interval)]\n",
    "    source_copy = source_copy.drop('age', axis=1)\n",
    "\n",
    "    target_copy = target.copy()\n",
    "    target_copy = target_copy[target_copy.age.between(*interval)]\n",
    "    target_copy = target_copy.drop('age', axis=1)\n",
    "\n",
    "    source_min = source_copy.min()\n",
    "    source_max = source_copy.max()\n",
    "\n",
    "    source_copy = (source_copy - source_min) / (source_max - source_min)\n",
    "    target_copy = (target_copy - source_min) / (source_max - source_min)\n",
    "\n",
    "    distances = cdist(target_copy, source_copy, 'euclidean')\n",
    "\n",
    "    minimals = np.argmin(distances, axis=1)\n",
    "    errors = distances.transpose()[minimals].diagonal()\n",
    "    return errors"
   ]
  },
  {
   "cell_type": "code",
   "execution_count": 45,
   "id": "8f6d1ef8",
   "metadata": {},
   "outputs": [
    {
     "name": "stdout",
     "output_type": "stream",
     "text": [
      "16.154867180169067\n",
      "16.653763608708676\n",
      "19.823211311486823\n",
      "18.07456617834637\n",
      "17.943477667502787\n",
      "19.66960258705879\n",
      "18.77814429381404\n",
      "16.58595903735448\n",
      "18.70256451641447\n",
      "16.09888500022829\n",
      "15.694789475059334\n",
      "15.245599749180078\n",
      "12.783638991691657\n",
      "15.342977183298492\n",
      "17.153752277811783\n",
      "16.59581695946448\n",
      "14.752711287183102\n",
      "16.256236700606692\n",
      "17.306311354567576\n",
      "17.249421199150284\n",
      "21.245859067079433\n",
      "18.144317691411857\n",
      "16.363337457817522\n",
      "18.87513619168133\n",
      "18.054586066190566\n",
      "21.3096441441938\n",
      "16.4233346972393\n",
      "17.873468764002855\n",
      "21.511080552310833\n",
      "22.32381135725206\n",
      "20.59049312984767\n",
      "19.58689185013544\n",
      "16.937154670439934\n",
      "21.200276440490203\n",
      "21.54547506055652\n",
      "18.6927683354896\n"
     ]
    }
   ],
   "source": [
    "my_male_copy = my_male.copy()\n",
    "my_male_copy['age'] = my_male_age\n",
    "\n",
    "male_collection_copy = male_collection.copy()\n",
    "male_collection_copy['age'] = male_collection_age\n",
    "\n",
    "min_age = my_male_copy.age.min()\n",
    "max_age = my_male_copy.age.max()\n",
    "\n",
    "values = []\n",
    "for age in np.arange(min_age, max_age+1):\n",
    "    differences=calculate_difference(male_collection_copy, my_male_copy, age)\n",
    "    print(differences.min()/13*100)\n",
    "# male_collection_copy"
   ]
  },
  {
   "cell_type": "code",
   "execution_count": null,
   "id": "22078add",
   "metadata": {},
   "outputs": [],
   "source": []
  }
 ],
 "metadata": {
  "kernelspec": {
   "display_name": "Python 3 (ipykernel)",
   "language": "python",
   "name": "python3"
  },
  "language_info": {
   "codemirror_mode": {
    "name": "ipython",
    "version": 3
   },
   "file_extension": ".py",
   "mimetype": "text/x-python",
   "name": "python",
   "nbconvert_exporter": "python",
   "pygments_lexer": "ipython3",
   "version": "3.10.4"
  },
  "vscode": {
   "interpreter": {
    "hash": "916dbcbb3f70747c44a77c7bcd40155683ae19c65e1c03b4aa3499c5328201f1"
   }
  }
 },
 "nbformat": 4,
 "nbformat_minor": 5
}
