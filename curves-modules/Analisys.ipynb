{
 "cells": [
  {
   "cell_type": "markdown",
   "id": "95d7ed57",
   "metadata": {},
   "source": [
    "# DEFINITIONS"
   ]
  },
  {
   "cell_type": "code",
   "execution_count": 1,
   "id": "fa6b0809",
   "metadata": {},
   "outputs": [],
   "source": [
    "import numpy as np\n",
    "import pandas as pd\n",
    "from itertools import combinations\n",
    "\n",
    "from sklearn.ensemble import RandomForestRegressor, RandomForestClassifier\n",
    "from sklearn.model_selection import train_test_split\n",
    "from sklearn.metrics import mean_squared_error, mean_absolute_error, mean_absolute_percentage_error\n",
    "from tqdm.notebook import tqdm as progressbar"
   ]
  },
  {
   "cell_type": "code",
   "execution_count": 2,
   "id": "9eda3228",
   "metadata": {},
   "outputs": [],
   "source": [
    "def normalize_d(data):\n",
    "    return (data - data.min()) / (data.max() - data.min())\n",
    "\n",
    "def denormalize_d(data, base):\n",
    "    return ( data * (base.max() - base.min()) ) + base.min()\n",
    "    \n",
    "def calculate_error(X, y):\n",
    "    x_train, x_test, y_train, y_test = train_test_split(X, y, test_size=0.33, random_state=42)\n",
    "    clf = RandomForestRegressor(random_state=42, n_estimators=100)\n",
    "    clf.fit(x_train,y_train)\n",
    "    y_generated = clf.predict(x_test)\n",
    "    return mean_absolute_percentage_error(y_generated, y_test)\n",
    "\n",
    "def train(X, y):\n",
    "    x_train, x_test, y_train, y_test = train_test_split(X, y, test_size=0.33, random_state=42)\n",
    "    clf = RandomForestRegressor(random_state=42, n_estimators=1000)\n",
    "    clf.fit(x_train,y_train)\n",
    "    return clf"
   ]
  },
  {
   "cell_type": "markdown",
   "id": "f4846bc8",
   "metadata": {},
   "source": [
    "# LOAD DATASETS"
   ]
  },
  {
   "cell_type": "code",
   "execution_count": 3,
   "id": "340cd7ce",
   "metadata": {},
   "outputs": [],
   "source": [
    "my_semantic = [\n",
    "    'stature',\n",
    "    'waist-girth',\n",
    "    'hip-girth',\n",
    "    'thigh-girth',\n",
    "    'calf-girth',\n",
    "    'neck-girth',\n",
    "    'bust-girth',\n",
    "    'wrist-girth',\n",
    "    'upper-arm-girth',\n",
    "    'biacromial-length',\n",
    "    'neck-to-waist-length',\n",
    "    'waist-height',\n",
    "    'croth-height'\n",
    "]\n",
    "life_semantic = [\n",
    "    'height',\n",
    "    'waist_gth',\n",
    "    'hip_gth',\n",
    "    'thigh_gth_r_hz',# 'thigh_gth_l_hz'\n",
    "    'calf_gth_r', # calf_gth_l\n",
    "    'mid_neck_gth',\n",
    "    'bust_chest_gth',\n",
    "    'wrist_gth',\n",
    "    'up_arm_gth_r',\n",
    "    'cr_shoulder',\n",
    "    'neck_waist_c_back',\n",
    "    'waist_ht',\n",
    "    'crotch_ht'\n",
    "]\n",
    "ansur_semantic = [\n",
    "    'stature',\n",
    "    'waistcircumference',\n",
    "    'buttockcircumference',\n",
    "    'thighcircumference',\n",
    "    'calfcircumference',\n",
    "    'neckcircumference',\n",
    "    'chestcircumference',\n",
    "    'wristcircumference',\n",
    "    'bicepscircumferenceflexed',\n",
    "    'biacromialbreadth',\n",
    "    'waistbacklength',\n",
    "    'waistheightomphalion',\n",
    "    'crotchheight',\n",
    "]\n"
   ]
  },
  {
   "cell_type": "code",
   "execution_count": 6,
   "id": "ce8b8016",
   "metadata": {},
   "outputs": [
    {
     "data": {
      "text/html": [
       "<div>\n",
       "<style scoped>\n",
       "    .dataframe tbody tr th:only-of-type {\n",
       "        vertical-align: middle;\n",
       "    }\n",
       "\n",
       "    .dataframe tbody tr th {\n",
       "        vertical-align: top;\n",
       "    }\n",
       "\n",
       "    .dataframe thead th {\n",
       "        text-align: right;\n",
       "    }\n",
       "</style>\n",
       "<table border=\"1\" class=\"dataframe\">\n",
       "  <thead>\n",
       "    <tr style=\"text-align: right;\">\n",
       "      <th></th>\n",
       "      <th>stature</th>\n",
       "      <th>waist-girth</th>\n",
       "      <th>hip-girth</th>\n",
       "      <th>thigh-girth</th>\n",
       "      <th>calf-girth</th>\n",
       "      <th>neck-girth</th>\n",
       "      <th>bust-girth</th>\n",
       "      <th>wrist-girth</th>\n",
       "      <th>upper-arm-girth</th>\n",
       "      <th>biacromial-length</th>\n",
       "      <th>neck-to-waist-length</th>\n",
       "      <th>waist-height</th>\n",
       "      <th>croth-height</th>\n",
       "      <th>whr</th>\n",
       "      <th>whtr</th>\n",
       "    </tr>\n",
       "  </thead>\n",
       "  <tbody>\n",
       "    <tr>\n",
       "      <th>0</th>\n",
       "      <td>159.767795</td>\n",
       "      <td>90.233494</td>\n",
       "      <td>103.042731</td>\n",
       "      <td>112.504273</td>\n",
       "      <td>83.049072</td>\n",
       "      <td>39.591370</td>\n",
       "      <td>95.828031</td>\n",
       "      <td>17.551798</td>\n",
       "      <td>33.150874</td>\n",
       "      <td>35.089529</td>\n",
       "      <td>46.205666</td>\n",
       "      <td>90.582502</td>\n",
       "      <td>69.332957</td>\n",
       "      <td>0.875690</td>\n",
       "      <td>0.564779</td>\n",
       "    </tr>\n",
       "    <tr>\n",
       "      <th>1</th>\n",
       "      <td>204.972935</td>\n",
       "      <td>93.847177</td>\n",
       "      <td>106.415728</td>\n",
       "      <td>112.027659</td>\n",
       "      <td>83.581869</td>\n",
       "      <td>42.589846</td>\n",
       "      <td>107.102623</td>\n",
       "      <td>18.679099</td>\n",
       "      <td>32.951533</td>\n",
       "      <td>39.264601</td>\n",
       "      <td>57.083752</td>\n",
       "      <td>121.091032</td>\n",
       "      <td>95.390040</td>\n",
       "      <td>0.881892</td>\n",
       "      <td>0.457852</td>\n",
       "    </tr>\n",
       "    <tr>\n",
       "      <th>2</th>\n",
       "      <td>188.417935</td>\n",
       "      <td>98.689804</td>\n",
       "      <td>99.163777</td>\n",
       "      <td>101.696841</td>\n",
       "      <td>74.472540</td>\n",
       "      <td>41.786776</td>\n",
       "      <td>100.743099</td>\n",
       "      <td>18.373176</td>\n",
       "      <td>28.909787</td>\n",
       "      <td>36.457062</td>\n",
       "      <td>50.367949</td>\n",
       "      <td>111.922681</td>\n",
       "      <td>87.589550</td>\n",
       "      <td>0.995220</td>\n",
       "      <td>0.523781</td>\n",
       "    </tr>\n",
       "    <tr>\n",
       "      <th>3</th>\n",
       "      <td>171.818125</td>\n",
       "      <td>97.329251</td>\n",
       "      <td>106.620107</td>\n",
       "      <td>111.602743</td>\n",
       "      <td>78.741174</td>\n",
       "      <td>39.163732</td>\n",
       "      <td>98.553133</td>\n",
       "      <td>17.389570</td>\n",
       "      <td>27.529878</td>\n",
       "      <td>35.185346</td>\n",
       "      <td>49.577250</td>\n",
       "      <td>97.608960</td>\n",
       "      <td>75.044662</td>\n",
       "      <td>0.912860</td>\n",
       "      <td>0.566467</td>\n",
       "    </tr>\n",
       "    <tr>\n",
       "      <th>4</th>\n",
       "      <td>184.967661</td>\n",
       "      <td>128.174079</td>\n",
       "      <td>112.627602</td>\n",
       "      <td>112.224795</td>\n",
       "      <td>77.120494</td>\n",
       "      <td>46.404093</td>\n",
       "      <td>119.724250</td>\n",
       "      <td>19.039993</td>\n",
       "      <td>31.688685</td>\n",
       "      <td>38.081539</td>\n",
       "      <td>50.874696</td>\n",
       "      <td>108.682191</td>\n",
       "      <td>83.747733</td>\n",
       "      <td>1.138034</td>\n",
       "      <td>0.692954</td>\n",
       "    </tr>\n",
       "    <tr>\n",
       "      <th>...</th>\n",
       "      <td>...</td>\n",
       "      <td>...</td>\n",
       "      <td>...</td>\n",
       "      <td>...</td>\n",
       "      <td>...</td>\n",
       "      <td>...</td>\n",
       "      <td>...</td>\n",
       "      <td>...</td>\n",
       "      <td>...</td>\n",
       "      <td>...</td>\n",
       "      <td>...</td>\n",
       "      <td>...</td>\n",
       "      <td>...</td>\n",
       "      <td>...</td>\n",
       "      <td>...</td>\n",
       "    </tr>\n",
       "    <tr>\n",
       "      <th>2995</th>\n",
       "      <td>197.073030</td>\n",
       "      <td>86.098570</td>\n",
       "      <td>107.365516</td>\n",
       "      <td>116.053566</td>\n",
       "      <td>84.270729</td>\n",
       "      <td>41.150540</td>\n",
       "      <td>100.784486</td>\n",
       "      <td>17.802616</td>\n",
       "      <td>34.650784</td>\n",
       "      <td>39.205480</td>\n",
       "      <td>49.818917</td>\n",
       "      <td>122.444475</td>\n",
       "      <td>99.302900</td>\n",
       "      <td>0.801920</td>\n",
       "      <td>0.436887</td>\n",
       "    </tr>\n",
       "    <tr>\n",
       "      <th>2996</th>\n",
       "      <td>160.950828</td>\n",
       "      <td>99.652318</td>\n",
       "      <td>103.166575</td>\n",
       "      <td>107.456140</td>\n",
       "      <td>73.496233</td>\n",
       "      <td>40.568184</td>\n",
       "      <td>100.032912</td>\n",
       "      <td>17.117181</td>\n",
       "      <td>28.673725</td>\n",
       "      <td>34.688371</td>\n",
       "      <td>44.085118</td>\n",
       "      <td>93.858325</td>\n",
       "      <td>72.798759</td>\n",
       "      <td>0.965936</td>\n",
       "      <td>0.619148</td>\n",
       "    </tr>\n",
       "    <tr>\n",
       "      <th>2997</th>\n",
       "      <td>175.162745</td>\n",
       "      <td>102.110543</td>\n",
       "      <td>102.750485</td>\n",
       "      <td>105.045640</td>\n",
       "      <td>76.353968</td>\n",
       "      <td>41.520597</td>\n",
       "      <td>104.720755</td>\n",
       "      <td>18.081722</td>\n",
       "      <td>29.056701</td>\n",
       "      <td>36.794364</td>\n",
       "      <td>47.255715</td>\n",
       "      <td>102.890527</td>\n",
       "      <td>80.543804</td>\n",
       "      <td>0.993772</td>\n",
       "      <td>0.582947</td>\n",
       "    </tr>\n",
       "    <tr>\n",
       "      <th>2998</th>\n",
       "      <td>167.171764</td>\n",
       "      <td>100.106278</td>\n",
       "      <td>106.865939</td>\n",
       "      <td>113.977206</td>\n",
       "      <td>85.320062</td>\n",
       "      <td>43.763686</td>\n",
       "      <td>112.720853</td>\n",
       "      <td>18.566974</td>\n",
       "      <td>37.005741</td>\n",
       "      <td>39.163309</td>\n",
       "      <td>47.884793</td>\n",
       "      <td>95.103765</td>\n",
       "      <td>73.965502</td>\n",
       "      <td>0.936746</td>\n",
       "      <td>0.598823</td>\n",
       "    </tr>\n",
       "    <tr>\n",
       "      <th>2999</th>\n",
       "      <td>184.792185</td>\n",
       "      <td>133.663965</td>\n",
       "      <td>134.319761</td>\n",
       "      <td>143.350930</td>\n",
       "      <td>98.956975</td>\n",
       "      <td>49.161187</td>\n",
       "      <td>134.075303</td>\n",
       "      <td>19.660455</td>\n",
       "      <td>44.436308</td>\n",
       "      <td>42.593563</td>\n",
       "      <td>56.463975</td>\n",
       "      <td>104.011190</td>\n",
       "      <td>78.976840</td>\n",
       "      <td>0.995118</td>\n",
       "      <td>0.723320</td>\n",
       "    </tr>\n",
       "  </tbody>\n",
       "</table>\n",
       "<p>3000 rows × 15 columns</p>\n",
       "</div>"
      ],
      "text/plain": [
       "         stature  waist-girth   hip-girth  thigh-girth  calf-girth  \\\n",
       "0     159.767795    90.233494  103.042731   112.504273   83.049072   \n",
       "1     204.972935    93.847177  106.415728   112.027659   83.581869   \n",
       "2     188.417935    98.689804   99.163777   101.696841   74.472540   \n",
       "3     171.818125    97.329251  106.620107   111.602743   78.741174   \n",
       "4     184.967661   128.174079  112.627602   112.224795   77.120494   \n",
       "...          ...          ...         ...          ...         ...   \n",
       "2995  197.073030    86.098570  107.365516   116.053566   84.270729   \n",
       "2996  160.950828    99.652318  103.166575   107.456140   73.496233   \n",
       "2997  175.162745   102.110543  102.750485   105.045640   76.353968   \n",
       "2998  167.171764   100.106278  106.865939   113.977206   85.320062   \n",
       "2999  184.792185   133.663965  134.319761   143.350930   98.956975   \n",
       "\n",
       "      neck-girth  bust-girth  wrist-girth  upper-arm-girth  biacromial-length  \\\n",
       "0      39.591370   95.828031    17.551798        33.150874          35.089529   \n",
       "1      42.589846  107.102623    18.679099        32.951533          39.264601   \n",
       "2      41.786776  100.743099    18.373176        28.909787          36.457062   \n",
       "3      39.163732   98.553133    17.389570        27.529878          35.185346   \n",
       "4      46.404093  119.724250    19.039993        31.688685          38.081539   \n",
       "...          ...         ...          ...              ...                ...   \n",
       "2995   41.150540  100.784486    17.802616        34.650784          39.205480   \n",
       "2996   40.568184  100.032912    17.117181        28.673725          34.688371   \n",
       "2997   41.520597  104.720755    18.081722        29.056701          36.794364   \n",
       "2998   43.763686  112.720853    18.566974        37.005741          39.163309   \n",
       "2999   49.161187  134.075303    19.660455        44.436308          42.593563   \n",
       "\n",
       "      neck-to-waist-length  waist-height  croth-height       whr      whtr  \n",
       "0                46.205666     90.582502     69.332957  0.875690  0.564779  \n",
       "1                57.083752    121.091032     95.390040  0.881892  0.457852  \n",
       "2                50.367949    111.922681     87.589550  0.995220  0.523781  \n",
       "3                49.577250     97.608960     75.044662  0.912860  0.566467  \n",
       "4                50.874696    108.682191     83.747733  1.138034  0.692954  \n",
       "...                    ...           ...           ...       ...       ...  \n",
       "2995             49.818917    122.444475     99.302900  0.801920  0.436887  \n",
       "2996             44.085118     93.858325     72.798759  0.965936  0.619148  \n",
       "2997             47.255715    102.890527     80.543804  0.993772  0.582947  \n",
       "2998             47.884793     95.103765     73.965502  0.936746  0.598823  \n",
       "2999             56.463975    104.011190     78.976840  0.995118  0.723320  \n",
       "\n",
       "[3000 rows x 15 columns]"
      ]
     },
     "execution_count": 6,
     "metadata": {},
     "output_type": "execute_result"
    }
   ],
   "source": [
    "my_male = np.load(\"bodies-male-measures.npy\")\n",
    "my_female = np.load(\"bodies-female-measures.npy\")\n",
    "\n",
    "my_male = pd.DataFrame(my_male, columns=my_semantic)\n",
    "my_female = pd.DataFrame(my_female, columns=my_semantic)\n",
    "my_male['whr'] = my_male['waist-girth'] / my_male['hip-girth']\n",
    "my_male['whtr'] = my_male['waist-girth'] / my_male['stature']\n",
    "my_male"
   ]
  },
  {
   "cell_type": "code",
   "execution_count": 8,
   "id": "d6991441",
   "metadata": {
    "scrolled": true
   },
   "outputs": [
    {
     "data": {
      "text/html": [
       "<div>\n",
       "<style scoped>\n",
       "    .dataframe tbody tr th:only-of-type {\n",
       "        vertical-align: middle;\n",
       "    }\n",
       "\n",
       "    .dataframe tbody tr th {\n",
       "        vertical-align: top;\n",
       "    }\n",
       "\n",
       "    .dataframe thead th {\n",
       "        text-align: right;\n",
       "    }\n",
       "</style>\n",
       "<table border=\"1\" class=\"dataframe\">\n",
       "  <thead>\n",
       "    <tr style=\"text-align: right;\">\n",
       "      <th></th>\n",
       "      <th>stature</th>\n",
       "      <th>waist-girth</th>\n",
       "      <th>hip-girth</th>\n",
       "      <th>thigh-girth</th>\n",
       "      <th>calf-girth</th>\n",
       "      <th>neck-girth</th>\n",
       "      <th>bust-girth</th>\n",
       "      <th>wrist-girth</th>\n",
       "      <th>upper-arm-girth</th>\n",
       "      <th>biacromial-length</th>\n",
       "      <th>neck-to-waist-length</th>\n",
       "      <th>waist-height</th>\n",
       "      <th>croth-height</th>\n",
       "      <th>whr</th>\n",
       "      <th>whtr</th>\n",
       "    </tr>\n",
       "  </thead>\n",
       "  <tbody>\n",
       "    <tr>\n",
       "      <th>0</th>\n",
       "      <td>177.6</td>\n",
       "      <td>93.3</td>\n",
       "      <td>97.9</td>\n",
       "      <td>61.0</td>\n",
       "      <td>37.3</td>\n",
       "      <td>40.0</td>\n",
       "      <td>107.4</td>\n",
       "      <td>17.5</td>\n",
       "      <td>36.9</td>\n",
       "      <td>40.1</td>\n",
       "      <td>50.1</td>\n",
       "      <td>105.4</td>\n",
       "      <td>87.7</td>\n",
       "      <td>0.953013</td>\n",
       "      <td>0.525338</td>\n",
       "    </tr>\n",
       "    <tr>\n",
       "      <th>1</th>\n",
       "      <td>170.2</td>\n",
       "      <td>87.0</td>\n",
       "      <td>94.4</td>\n",
       "      <td>57.2</td>\n",
       "      <td>35.7</td>\n",
       "      <td>38.0</td>\n",
       "      <td>102.1</td>\n",
       "      <td>16.7</td>\n",
       "      <td>33.8</td>\n",
       "      <td>39.4</td>\n",
       "      <td>43.2</td>\n",
       "      <td>105.4</td>\n",
       "      <td>85.1</td>\n",
       "      <td>0.921610</td>\n",
       "      <td>0.511163</td>\n",
       "    </tr>\n",
       "    <tr>\n",
       "      <th>2</th>\n",
       "      <td>173.5</td>\n",
       "      <td>96.4</td>\n",
       "      <td>105.4</td>\n",
       "      <td>68.5</td>\n",
       "      <td>41.2</td>\n",
       "      <td>40.3</td>\n",
       "      <td>112.0</td>\n",
       "      <td>18.0</td>\n",
       "      <td>40.8</td>\n",
       "      <td>42.7</td>\n",
       "      <td>47.2</td>\n",
       "      <td>104.1</td>\n",
       "      <td>85.4</td>\n",
       "      <td>0.914611</td>\n",
       "      <td>0.555620</td>\n",
       "    </tr>\n",
       "    <tr>\n",
       "      <th>3</th>\n",
       "      <td>165.5</td>\n",
       "      <td>85.7</td>\n",
       "      <td>99.1</td>\n",
       "      <td>60.4</td>\n",
       "      <td>39.5</td>\n",
       "      <td>40.7</td>\n",
       "      <td>111.4</td>\n",
       "      <td>17.6</td>\n",
       "      <td>35.9</td>\n",
       "      <td>40.1</td>\n",
       "      <td>46.1</td>\n",
       "      <td>96.8</td>\n",
       "      <td>76.9</td>\n",
       "      <td>0.864783</td>\n",
       "      <td>0.517825</td>\n",
       "    </tr>\n",
       "    <tr>\n",
       "      <th>4</th>\n",
       "      <td>191.4</td>\n",
       "      <td>86.8</td>\n",
       "      <td>102.9</td>\n",
       "      <td>67.2</td>\n",
       "      <td>42.5</td>\n",
       "      <td>39.8</td>\n",
       "      <td>104.8</td>\n",
       "      <td>18.8</td>\n",
       "      <td>35.6</td>\n",
       "      <td>43.5</td>\n",
       "      <td>46.7</td>\n",
       "      <td>124.5</td>\n",
       "      <td>101.4</td>\n",
       "      <td>0.843537</td>\n",
       "      <td>0.453501</td>\n",
       "    </tr>\n",
       "    <tr>\n",
       "      <th>...</th>\n",
       "      <td>...</td>\n",
       "      <td>...</td>\n",
       "      <td>...</td>\n",
       "      <td>...</td>\n",
       "      <td>...</td>\n",
       "      <td>...</td>\n",
       "      <td>...</td>\n",
       "      <td>...</td>\n",
       "      <td>...</td>\n",
       "      <td>...</td>\n",
       "      <td>...</td>\n",
       "      <td>...</td>\n",
       "      <td>...</td>\n",
       "      <td>...</td>\n",
       "      <td>...</td>\n",
       "    </tr>\n",
       "    <tr>\n",
       "      <th>4077</th>\n",
       "      <td>168.8</td>\n",
       "      <td>81.6</td>\n",
       "      <td>91.7</td>\n",
       "      <td>57.9</td>\n",
       "      <td>34.5</td>\n",
       "      <td>37.8</td>\n",
       "      <td>95.4</td>\n",
       "      <td>16.3</td>\n",
       "      <td>31.8</td>\n",
       "      <td>38.4</td>\n",
       "      <td>44.2</td>\n",
       "      <td>101.6</td>\n",
       "      <td>80.7</td>\n",
       "      <td>0.889858</td>\n",
       "      <td>0.483412</td>\n",
       "    </tr>\n",
       "    <tr>\n",
       "      <th>4078</th>\n",
       "      <td>176.5</td>\n",
       "      <td>97.8</td>\n",
       "      <td>104.9</td>\n",
       "      <td>66.2</td>\n",
       "      <td>39.9</td>\n",
       "      <td>39.2</td>\n",
       "      <td>107.2</td>\n",
       "      <td>17.8</td>\n",
       "      <td>37.4</td>\n",
       "      <td>42.8</td>\n",
       "      <td>47.5</td>\n",
       "      <td>108.2</td>\n",
       "      <td>84.8</td>\n",
       "      <td>0.932316</td>\n",
       "      <td>0.554108</td>\n",
       "    </tr>\n",
       "    <tr>\n",
       "      <th>4079</th>\n",
       "      <td>169.0</td>\n",
       "      <td>99.1</td>\n",
       "      <td>103.8</td>\n",
       "      <td>60.5</td>\n",
       "      <td>37.8</td>\n",
       "      <td>41.6</td>\n",
       "      <td>104.5</td>\n",
       "      <td>17.8</td>\n",
       "      <td>36.7</td>\n",
       "      <td>40.7</td>\n",
       "      <td>48.3</td>\n",
       "      <td>101.1</td>\n",
       "      <td>78.7</td>\n",
       "      <td>0.954721</td>\n",
       "      <td>0.586391</td>\n",
       "    </tr>\n",
       "    <tr>\n",
       "      <th>4080</th>\n",
       "      <td>171.8</td>\n",
       "      <td>78.3</td>\n",
       "      <td>92.9</td>\n",
       "      <td>54.4</td>\n",
       "      <td>38.9</td>\n",
       "      <td>38.7</td>\n",
       "      <td>98.4</td>\n",
       "      <td>17.2</td>\n",
       "      <td>36.5</td>\n",
       "      <td>41.9</td>\n",
       "      <td>43.0</td>\n",
       "      <td>106.2</td>\n",
       "      <td>84.6</td>\n",
       "      <td>0.842842</td>\n",
       "      <td>0.455763</td>\n",
       "    </tr>\n",
       "    <tr>\n",
       "      <th>4081</th>\n",
       "      <td>182.8</td>\n",
       "      <td>108.0</td>\n",
       "      <td>100.9</td>\n",
       "      <td>62.2</td>\n",
       "      <td>39.6</td>\n",
       "      <td>43.9</td>\n",
       "      <td>114.4</td>\n",
       "      <td>18.2</td>\n",
       "      <td>37.9</td>\n",
       "      <td>44.2</td>\n",
       "      <td>51.1</td>\n",
       "      <td>111.9</td>\n",
       "      <td>93.1</td>\n",
       "      <td>1.070367</td>\n",
       "      <td>0.590810</td>\n",
       "    </tr>\n",
       "  </tbody>\n",
       "</table>\n",
       "<p>4082 rows × 15 columns</p>\n",
       "</div>"
      ],
      "text/plain": [
       "      stature  waist-girth  hip-girth  thigh-girth  calf-girth  neck-girth  \\\n",
       "0       177.6         93.3       97.9         61.0        37.3        40.0   \n",
       "1       170.2         87.0       94.4         57.2        35.7        38.0   \n",
       "2       173.5         96.4      105.4         68.5        41.2        40.3   \n",
       "3       165.5         85.7       99.1         60.4        39.5        40.7   \n",
       "4       191.4         86.8      102.9         67.2        42.5        39.8   \n",
       "...       ...          ...        ...          ...         ...         ...   \n",
       "4077    168.8         81.6       91.7         57.9        34.5        37.8   \n",
       "4078    176.5         97.8      104.9         66.2        39.9        39.2   \n",
       "4079    169.0         99.1      103.8         60.5        37.8        41.6   \n",
       "4080    171.8         78.3       92.9         54.4        38.9        38.7   \n",
       "4081    182.8        108.0      100.9         62.2        39.6        43.9   \n",
       "\n",
       "      bust-girth  wrist-girth  upper-arm-girth  biacromial-length  \\\n",
       "0          107.4         17.5             36.9               40.1   \n",
       "1          102.1         16.7             33.8               39.4   \n",
       "2          112.0         18.0             40.8               42.7   \n",
       "3          111.4         17.6             35.9               40.1   \n",
       "4          104.8         18.8             35.6               43.5   \n",
       "...          ...          ...              ...                ...   \n",
       "4077        95.4         16.3             31.8               38.4   \n",
       "4078       107.2         17.8             37.4               42.8   \n",
       "4079       104.5         17.8             36.7               40.7   \n",
       "4080        98.4         17.2             36.5               41.9   \n",
       "4081       114.4         18.2             37.9               44.2   \n",
       "\n",
       "      neck-to-waist-length  waist-height  croth-height       whr      whtr  \n",
       "0                     50.1         105.4          87.7  0.953013  0.525338  \n",
       "1                     43.2         105.4          85.1  0.921610  0.511163  \n",
       "2                     47.2         104.1          85.4  0.914611  0.555620  \n",
       "3                     46.1          96.8          76.9  0.864783  0.517825  \n",
       "4                     46.7         124.5         101.4  0.843537  0.453501  \n",
       "...                    ...           ...           ...       ...       ...  \n",
       "4077                  44.2         101.6          80.7  0.889858  0.483412  \n",
       "4078                  47.5         108.2          84.8  0.932316  0.554108  \n",
       "4079                  48.3         101.1          78.7  0.954721  0.586391  \n",
       "4080                  43.0         106.2          84.6  0.842842  0.455763  \n",
       "4081                  51.1         111.9          93.1  1.070367  0.590810  \n",
       "\n",
       "[4082 rows x 15 columns]"
      ]
     },
     "execution_count": 8,
     "metadata": {},
     "output_type": "execute_result"
    }
   ],
   "source": [
    "ansur_male = pd.read_csv(\"datasets/ansur_2_male.csv\",encoding_errors='ignore')\n",
    "ansur_male_age = ansur_male['Age']\n",
    "ansur_male = ansur_male[ansur_semantic]/10\n",
    "ansur_male.columns = my_semantic\n",
    "\n",
    "ansur_male['whr'] = ansur_male['waist-girth'] / ansur_male['hip-girth']\n",
    "ansur_male['whtr'] = ansur_male['waist-girth'] / ansur_male['stature']\n",
    "\n",
    "ansur_female = pd.read_csv(\"datasets/ansur_2_female.csv\",encoding_errors='ignore')\n",
    "ansur_female_age = ansur_female['Age']\n",
    "ansur_female = ansur_female[ansur_semantic]/10\n",
    "ansur_female.columns = my_semantic\n",
    "\n",
    "ansur_male_normalized = normalize_d(ansur_male)\n",
    "ansur_male_age_normalized = normalize_d(ansur_male_age)\n",
    "\n",
    "ansur_female_normalized = normalize_d(ansur_female)\n",
    "ansur_female_age_normalized = normalize_d(ansur_female_age)\n",
    "\n",
    "ansur_male"
   ]
  },
  {
   "cell_type": "code",
   "execution_count": 11,
   "id": "2ab82537",
   "metadata": {},
   "outputs": [
    {
     "data": {
      "text/html": [
       "<div>\n",
       "<style scoped>\n",
       "    .dataframe tbody tr th:only-of-type {\n",
       "        vertical-align: middle;\n",
       "    }\n",
       "\n",
       "    .dataframe tbody tr th {\n",
       "        vertical-align: top;\n",
       "    }\n",
       "\n",
       "    .dataframe thead th {\n",
       "        text-align: right;\n",
       "    }\n",
       "</style>\n",
       "<table border=\"1\" class=\"dataframe\">\n",
       "  <thead>\n",
       "    <tr style=\"text-align: right;\">\n",
       "      <th></th>\n",
       "      <th>stature</th>\n",
       "      <th>waist-girth</th>\n",
       "      <th>hip-girth</th>\n",
       "      <th>thigh-girth</th>\n",
       "      <th>calf-girth</th>\n",
       "      <th>neck-girth</th>\n",
       "      <th>bust-girth</th>\n",
       "      <th>wrist-girth</th>\n",
       "      <th>upper-arm-girth</th>\n",
       "      <th>biacromial-length</th>\n",
       "      <th>neck-to-waist-length</th>\n",
       "      <th>waist-height</th>\n",
       "      <th>croth-height</th>\n",
       "      <th>whr</th>\n",
       "      <th>whtr</th>\n",
       "    </tr>\n",
       "  </thead>\n",
       "  <tbody>\n",
       "    <tr>\n",
       "      <th>0</th>\n",
       "      <td>170.6</td>\n",
       "      <td>71.3</td>\n",
       "      <td>92.0</td>\n",
       "      <td>50.0</td>\n",
       "      <td>33.1</td>\n",
       "      <td>35.6</td>\n",
       "      <td>86.7</td>\n",
       "      <td>15.1</td>\n",
       "      <td>28.3</td>\n",
       "      <td>45.0</td>\n",
       "      <td>39.6</td>\n",
       "      <td>107.8</td>\n",
       "      <td>76.2</td>\n",
       "      <td>0.775000</td>\n",
       "      <td>0.417937</td>\n",
       "    </tr>\n",
       "    <tr>\n",
       "      <th>1</th>\n",
       "      <td>175.6</td>\n",
       "      <td>73.1</td>\n",
       "      <td>93.3</td>\n",
       "      <td>50.4</td>\n",
       "      <td>34.4</td>\n",
       "      <td>37.6</td>\n",
       "      <td>84.5</td>\n",
       "      <td>15.4</td>\n",
       "      <td>27.5</td>\n",
       "      <td>43.7</td>\n",
       "      <td>43.6</td>\n",
       "      <td>110.9</td>\n",
       "      <td>77.7</td>\n",
       "      <td>0.783494</td>\n",
       "      <td>0.416287</td>\n",
       "    </tr>\n",
       "    <tr>\n",
       "      <th>2</th>\n",
       "      <td>181.2</td>\n",
       "      <td>72.2</td>\n",
       "      <td>98.7</td>\n",
       "      <td>52.7</td>\n",
       "      <td>36.2</td>\n",
       "      <td>36.0</td>\n",
       "      <td>91.9</td>\n",
       "      <td>17.1</td>\n",
       "      <td>27.9</td>\n",
       "      <td>45.1</td>\n",
       "      <td>44.3</td>\n",
       "      <td>115.5</td>\n",
       "      <td>81.8</td>\n",
       "      <td>0.731510</td>\n",
       "      <td>0.398455</td>\n",
       "    </tr>\n",
       "    <tr>\n",
       "      <th>3</th>\n",
       "      <td>180.1</td>\n",
       "      <td>87.2</td>\n",
       "      <td>108.6</td>\n",
       "      <td>59.7</td>\n",
       "      <td>37.0</td>\n",
       "      <td>38.4</td>\n",
       "      <td>98.9</td>\n",
       "      <td>16.4</td>\n",
       "      <td>29.6</td>\n",
       "      <td>46.5</td>\n",
       "      <td>44.2</td>\n",
       "      <td>114.2</td>\n",
       "      <td>83.6</td>\n",
       "      <td>0.802947</td>\n",
       "      <td>0.484175</td>\n",
       "    </tr>\n",
       "    <tr>\n",
       "      <th>4</th>\n",
       "      <td>177.7</td>\n",
       "      <td>79.6</td>\n",
       "      <td>98.4</td>\n",
       "      <td>50.4</td>\n",
       "      <td>36.0</td>\n",
       "      <td>36.1</td>\n",
       "      <td>92.2</td>\n",
       "      <td>16.8</td>\n",
       "      <td>28.2</td>\n",
       "      <td>47.7</td>\n",
       "      <td>41.3</td>\n",
       "      <td>111.8</td>\n",
       "      <td>76.1</td>\n",
       "      <td>0.808943</td>\n",
       "      <td>0.447946</td>\n",
       "    </tr>\n",
       "    <tr>\n",
       "      <th>...</th>\n",
       "      <td>...</td>\n",
       "      <td>...</td>\n",
       "      <td>...</td>\n",
       "      <td>...</td>\n",
       "      <td>...</td>\n",
       "      <td>...</td>\n",
       "      <td>...</td>\n",
       "      <td>...</td>\n",
       "      <td>...</td>\n",
       "      <td>...</td>\n",
       "      <td>...</td>\n",
       "      <td>...</td>\n",
       "      <td>...</td>\n",
       "      <td>...</td>\n",
       "      <td>...</td>\n",
       "    </tr>\n",
       "    <tr>\n",
       "      <th>8397</th>\n",
       "      <td>173.9</td>\n",
       "      <td>104.1</td>\n",
       "      <td>100.9</td>\n",
       "      <td>48.2</td>\n",
       "      <td>36.4</td>\n",
       "      <td>39.8</td>\n",
       "      <td>101.1</td>\n",
       "      <td>18.9</td>\n",
       "      <td>28.9</td>\n",
       "      <td>47.9</td>\n",
       "      <td>43.3</td>\n",
       "      <td>109.6</td>\n",
       "      <td>74.2</td>\n",
       "      <td>1.031715</td>\n",
       "      <td>0.598620</td>\n",
       "    </tr>\n",
       "    <tr>\n",
       "      <th>8398</th>\n",
       "      <td>177.8</td>\n",
       "      <td>124.6</td>\n",
       "      <td>123.0</td>\n",
       "      <td>57.9</td>\n",
       "      <td>42.0</td>\n",
       "      <td>43.8</td>\n",
       "      <td>126.0</td>\n",
       "      <td>20.0</td>\n",
       "      <td>34.4</td>\n",
       "      <td>55.6</td>\n",
       "      <td>44.1</td>\n",
       "      <td>115.6</td>\n",
       "      <td>80.2</td>\n",
       "      <td>1.013008</td>\n",
       "      <td>0.700787</td>\n",
       "    </tr>\n",
       "    <tr>\n",
       "      <th>8399</th>\n",
       "      <td>168.2</td>\n",
       "      <td>110.5</td>\n",
       "      <td>108.2</td>\n",
       "      <td>52.8</td>\n",
       "      <td>38.0</td>\n",
       "      <td>45.1</td>\n",
       "      <td>107.3</td>\n",
       "      <td>17.3</td>\n",
       "      <td>29.6</td>\n",
       "      <td>54.1</td>\n",
       "      <td>42.3</td>\n",
       "      <td>108.9</td>\n",
       "      <td>73.8</td>\n",
       "      <td>1.021257</td>\n",
       "      <td>0.656956</td>\n",
       "    </tr>\n",
       "    <tr>\n",
       "      <th>8400</th>\n",
       "      <td>173.9</td>\n",
       "      <td>105.7</td>\n",
       "      <td>100.9</td>\n",
       "      <td>51.1</td>\n",
       "      <td>35.1</td>\n",
       "      <td>44.7</td>\n",
       "      <td>109.5</td>\n",
       "      <td>18.4</td>\n",
       "      <td>27.9</td>\n",
       "      <td>50.1</td>\n",
       "      <td>43.6</td>\n",
       "      <td>111.9</td>\n",
       "      <td>77.1</td>\n",
       "      <td>1.047572</td>\n",
       "      <td>0.607821</td>\n",
       "    </tr>\n",
       "    <tr>\n",
       "      <th>8401</th>\n",
       "      <td>181.2</td>\n",
       "      <td>116.2</td>\n",
       "      <td>113.7</td>\n",
       "      <td>53.5</td>\n",
       "      <td>38.8</td>\n",
       "      <td>42.9</td>\n",
       "      <td>113.9</td>\n",
       "      <td>18.9</td>\n",
       "      <td>32.9</td>\n",
       "      <td>54.6</td>\n",
       "      <td>44.4</td>\n",
       "      <td>115.8</td>\n",
       "      <td>78.5</td>\n",
       "      <td>1.021988</td>\n",
       "      <td>0.641280</td>\n",
       "    </tr>\n",
       "  </tbody>\n",
       "</table>\n",
       "<p>4082 rows × 15 columns</p>\n",
       "</div>"
      ],
      "text/plain": [
       "      stature  waist-girth  hip-girth  thigh-girth  calf-girth  neck-girth  \\\n",
       "0       170.6         71.3       92.0         50.0        33.1        35.6   \n",
       "1       175.6         73.1       93.3         50.4        34.4        37.6   \n",
       "2       181.2         72.2       98.7         52.7        36.2        36.0   \n",
       "3       180.1         87.2      108.6         59.7        37.0        38.4   \n",
       "4       177.7         79.6       98.4         50.4        36.0        36.1   \n",
       "...       ...          ...        ...          ...         ...         ...   \n",
       "8397    173.9        104.1      100.9         48.2        36.4        39.8   \n",
       "8398    177.8        124.6      123.0         57.9        42.0        43.8   \n",
       "8399    168.2        110.5      108.2         52.8        38.0        45.1   \n",
       "8400    173.9        105.7      100.9         51.1        35.1        44.7   \n",
       "8401    181.2        116.2      113.7         53.5        38.8        42.9   \n",
       "\n",
       "      bust-girth  wrist-girth  upper-arm-girth  biacromial-length  \\\n",
       "0           86.7         15.1             28.3               45.0   \n",
       "1           84.5         15.4             27.5               43.7   \n",
       "2           91.9         17.1             27.9               45.1   \n",
       "3           98.9         16.4             29.6               46.5   \n",
       "4           92.2         16.8             28.2               47.7   \n",
       "...          ...          ...              ...                ...   \n",
       "8397       101.1         18.9             28.9               47.9   \n",
       "8398       126.0         20.0             34.4               55.6   \n",
       "8399       107.3         17.3             29.6               54.1   \n",
       "8400       109.5         18.4             27.9               50.1   \n",
       "8401       113.9         18.9             32.9               54.6   \n",
       "\n",
       "      neck-to-waist-length  waist-height  croth-height       whr      whtr  \n",
       "0                     39.6         107.8          76.2  0.775000  0.417937  \n",
       "1                     43.6         110.9          77.7  0.783494  0.416287  \n",
       "2                     44.3         115.5          81.8  0.731510  0.398455  \n",
       "3                     44.2         114.2          83.6  0.802947  0.484175  \n",
       "4                     41.3         111.8          76.1  0.808943  0.447946  \n",
       "...                    ...           ...           ...       ...       ...  \n",
       "8397                  43.3         109.6          74.2  1.031715  0.598620  \n",
       "8398                  44.1         115.6          80.2  1.013008  0.700787  \n",
       "8399                  42.3         108.9          73.8  1.021257  0.656956  \n",
       "8400                  43.6         111.9          77.1  1.047572  0.607821  \n",
       "8401                  44.4         115.8          78.5  1.021988  0.641280  \n",
       "\n",
       "[4082 rows x 15 columns]"
      ]
     },
     "execution_count": 11,
     "metadata": {},
     "output_type": "execute_result"
    }
   ],
   "source": [
    "life = pd.read_csv(\"datasets/life.csv\",encoding_errors='ignore').dropna()\n",
    "\n",
    "life_male = life[life['Gender'] == 'male']\n",
    "life_male.columns = life_male.columns.str.lower()\n",
    "life_male_age = life_male['age']\n",
    "life_male = life_male[life_semantic]\n",
    "life_male.columns = my_semantic\n",
    "life_male['whr'] = life_male['waist-girth'] / life_male['hip-girth']\n",
    "life_male['whtr'] = life_male['waist-girth'] / life_male['stature']\n",
    "\n",
    "life_female = life[life['Gender'] == 'female']\n",
    "life_female.columns = life_female.columns.str.lower()\n",
    "life_female_age = life_female['age']\n",
    "life_female = life_female[life_semantic]\n",
    "life_female.columns = my_semantic\n",
    "\n",
    "life_male_normalized = normalize_d(life_male)\n",
    "life_male_age_normalized = normalize_d(life_male_age)\n",
    "\n",
    "life_female_normalized = normalize_d(life_female)\n",
    "life_female_age_normalized = normalize_d(life_female_age)\n",
    "life_male"
   ]
  },
  {
   "cell_type": "code",
   "execution_count": 261,
   "id": "5faba20b",
   "metadata": {},
   "outputs": [
    {
     "data": {
      "text/html": [
       "<div>\n",
       "<style scoped>\n",
       "    .dataframe tbody tr th:only-of-type {\n",
       "        vertical-align: middle;\n",
       "    }\n",
       "\n",
       "    .dataframe tbody tr th {\n",
       "        vertical-align: top;\n",
       "    }\n",
       "\n",
       "    .dataframe thead th {\n",
       "        text-align: right;\n",
       "    }\n",
       "</style>\n",
       "<table border=\"1\" class=\"dataframe\">\n",
       "  <thead>\n",
       "    <tr style=\"text-align: right;\">\n",
       "      <th></th>\n",
       "      <th>stature</th>\n",
       "      <th>waist-girth</th>\n",
       "      <th>hip-girth</th>\n",
       "      <th>thigh-girth</th>\n",
       "      <th>calf-girth</th>\n",
       "      <th>neck-girth</th>\n",
       "      <th>bust-girth</th>\n",
       "      <th>wrist-girth</th>\n",
       "      <th>upper-arm-girth</th>\n",
       "      <th>biacromial-length</th>\n",
       "      <th>neck-to-waist-length</th>\n",
       "      <th>waist-height</th>\n",
       "      <th>croth-height</th>\n",
       "    </tr>\n",
       "  </thead>\n",
       "  <tbody>\n",
       "    <tr>\n",
       "      <th>count</th>\n",
       "      <td>4082.000000</td>\n",
       "      <td>4082.000000</td>\n",
       "      <td>4082.000000</td>\n",
       "      <td>4082.000000</td>\n",
       "      <td>4082.000000</td>\n",
       "      <td>4082.000000</td>\n",
       "      <td>4082.000000</td>\n",
       "      <td>4082.000000</td>\n",
       "      <td>4082.000000</td>\n",
       "      <td>4082.000000</td>\n",
       "      <td>4082.000000</td>\n",
       "      <td>4082.000000</td>\n",
       "      <td>4082.000000</td>\n",
       "    </tr>\n",
       "    <tr>\n",
       "      <th>mean</th>\n",
       "      <td>175.621460</td>\n",
       "      <td>94.057741</td>\n",
       "      <td>101.951886</td>\n",
       "      <td>62.514233</td>\n",
       "      <td>39.226066</td>\n",
       "      <td>39.764895</td>\n",
       "      <td>105.870554</td>\n",
       "      <td>17.591671</td>\n",
       "      <td>35.813572</td>\n",
       "      <td>41.567565</td>\n",
       "      <td>47.761244</td>\n",
       "      <td>105.648530</td>\n",
       "      <td>84.592994</td>\n",
       "    </tr>\n",
       "    <tr>\n",
       "      <th>std</th>\n",
       "      <td>6.855079</td>\n",
       "      <td>11.170587</td>\n",
       "      <td>7.668107</td>\n",
       "      <td>5.845217</td>\n",
       "      <td>2.970884</td>\n",
       "      <td>2.577676</td>\n",
       "      <td>8.743527</td>\n",
       "      <td>0.895506</td>\n",
       "      <td>3.461809</td>\n",
       "      <td>1.916165</td>\n",
       "      <td>2.772829</td>\n",
       "      <td>5.215467</td>\n",
       "      <td>4.649916</td>\n",
       "    </tr>\n",
       "    <tr>\n",
       "      <th>min</th>\n",
       "      <td>149.100000</td>\n",
       "      <td>64.800000</td>\n",
       "      <td>73.700000</td>\n",
       "      <td>41.200000</td>\n",
       "      <td>26.600000</td>\n",
       "      <td>31.100000</td>\n",
       "      <td>77.400000</td>\n",
       "      <td>14.100000</td>\n",
       "      <td>24.600000</td>\n",
       "      <td>33.700000</td>\n",
       "      <td>38.300000</td>\n",
       "      <td>87.600000</td>\n",
       "      <td>70.200000</td>\n",
       "    </tr>\n",
       "    <tr>\n",
       "      <th>25%</th>\n",
       "      <td>171.000000</td>\n",
       "      <td>85.700000</td>\n",
       "      <td>96.700000</td>\n",
       "      <td>58.600000</td>\n",
       "      <td>37.200000</td>\n",
       "      <td>37.925000</td>\n",
       "      <td>99.600000</td>\n",
       "      <td>17.000000</td>\n",
       "      <td>33.500000</td>\n",
       "      <td>40.300000</td>\n",
       "      <td>45.925000</td>\n",
       "      <td>102.000000</td>\n",
       "      <td>81.400000</td>\n",
       "    </tr>\n",
       "    <tr>\n",
       "      <th>50%</th>\n",
       "      <td>175.500000</td>\n",
       "      <td>93.700000</td>\n",
       "      <td>101.700000</td>\n",
       "      <td>62.400000</td>\n",
       "      <td>39.200000</td>\n",
       "      <td>39.500000</td>\n",
       "      <td>105.600000</td>\n",
       "      <td>17.600000</td>\n",
       "      <td>35.700000</td>\n",
       "      <td>41.500000</td>\n",
       "      <td>47.700000</td>\n",
       "      <td>105.500000</td>\n",
       "      <td>84.500000</td>\n",
       "    </tr>\n",
       "    <tr>\n",
       "      <th>75%</th>\n",
       "      <td>180.200000</td>\n",
       "      <td>101.600000</td>\n",
       "      <td>106.800000</td>\n",
       "      <td>66.200000</td>\n",
       "      <td>41.200000</td>\n",
       "      <td>41.375000</td>\n",
       "      <td>111.700000</td>\n",
       "      <td>18.200000</td>\n",
       "      <td>38.000000</td>\n",
       "      <td>42.800000</td>\n",
       "      <td>49.500000</td>\n",
       "      <td>109.000000</td>\n",
       "      <td>87.600000</td>\n",
       "    </tr>\n",
       "    <tr>\n",
       "      <th>max</th>\n",
       "      <td>199.300000</td>\n",
       "      <td>137.900000</td>\n",
       "      <td>130.500000</td>\n",
       "      <td>84.300000</td>\n",
       "      <td>52.300000</td>\n",
       "      <td>51.400000</td>\n",
       "      <td>146.900000</td>\n",
       "      <td>21.600000</td>\n",
       "      <td>49.000000</td>\n",
       "      <td>48.900000</td>\n",
       "      <td>59.800000</td>\n",
       "      <td>124.500000</td>\n",
       "      <td>103.100000</td>\n",
       "    </tr>\n",
       "  </tbody>\n",
       "</table>\n",
       "</div>"
      ],
      "text/plain": [
       "           stature  waist-girth    hip-girth  thigh-girth   calf-girth  \\\n",
       "count  4082.000000  4082.000000  4082.000000  4082.000000  4082.000000   \n",
       "mean    175.621460    94.057741   101.951886    62.514233    39.226066   \n",
       "std       6.855079    11.170587     7.668107     5.845217     2.970884   \n",
       "min     149.100000    64.800000    73.700000    41.200000    26.600000   \n",
       "25%     171.000000    85.700000    96.700000    58.600000    37.200000   \n",
       "50%     175.500000    93.700000   101.700000    62.400000    39.200000   \n",
       "75%     180.200000   101.600000   106.800000    66.200000    41.200000   \n",
       "max     199.300000   137.900000   130.500000    84.300000    52.300000   \n",
       "\n",
       "        neck-girth   bust-girth  wrist-girth  upper-arm-girth  \\\n",
       "count  4082.000000  4082.000000  4082.000000      4082.000000   \n",
       "mean     39.764895   105.870554    17.591671        35.813572   \n",
       "std       2.577676     8.743527     0.895506         3.461809   \n",
       "min      31.100000    77.400000    14.100000        24.600000   \n",
       "25%      37.925000    99.600000    17.000000        33.500000   \n",
       "50%      39.500000   105.600000    17.600000        35.700000   \n",
       "75%      41.375000   111.700000    18.200000        38.000000   \n",
       "max      51.400000   146.900000    21.600000        49.000000   \n",
       "\n",
       "       biacromial-length  neck-to-waist-length  waist-height  croth-height  \n",
       "count        4082.000000           4082.000000   4082.000000   4082.000000  \n",
       "mean           41.567565             47.761244    105.648530     84.592994  \n",
       "std             1.916165              2.772829      5.215467      4.649916  \n",
       "min            33.700000             38.300000     87.600000     70.200000  \n",
       "25%            40.300000             45.925000    102.000000     81.400000  \n",
       "50%            41.500000             47.700000    105.500000     84.500000  \n",
       "75%            42.800000             49.500000    109.000000     87.600000  \n",
       "max            48.900000             59.800000    124.500000    103.100000  "
      ]
     },
     "execution_count": 261,
     "metadata": {},
     "output_type": "execute_result"
    }
   ],
   "source": [
    "ansur_male.describe()"
   ]
  },
  {
   "cell_type": "code",
   "execution_count": 262,
   "id": "8cd91858",
   "metadata": {},
   "outputs": [
    {
     "data": {
      "text/html": [
       "<div>\n",
       "<style scoped>\n",
       "    .dataframe tbody tr th:only-of-type {\n",
       "        vertical-align: middle;\n",
       "    }\n",
       "\n",
       "    .dataframe tbody tr th {\n",
       "        vertical-align: top;\n",
       "    }\n",
       "\n",
       "    .dataframe thead th {\n",
       "        text-align: right;\n",
       "    }\n",
       "</style>\n",
       "<table border=\"1\" class=\"dataframe\">\n",
       "  <thead>\n",
       "    <tr style=\"text-align: right;\">\n",
       "      <th></th>\n",
       "      <th>stature</th>\n",
       "      <th>waist-girth</th>\n",
       "      <th>hip-girth</th>\n",
       "      <th>thigh-girth</th>\n",
       "      <th>calf-girth</th>\n",
       "      <th>neck-girth</th>\n",
       "      <th>bust-girth</th>\n",
       "      <th>wrist-girth</th>\n",
       "      <th>upper-arm-girth</th>\n",
       "      <th>biacromial-length</th>\n",
       "      <th>neck-to-waist-length</th>\n",
       "      <th>waist-height</th>\n",
       "      <th>croth-height</th>\n",
       "    </tr>\n",
       "  </thead>\n",
       "  <tbody>\n",
       "    <tr>\n",
       "      <th>count</th>\n",
       "      <td>4082.000000</td>\n",
       "      <td>4082.000000</td>\n",
       "      <td>4082.000000</td>\n",
       "      <td>4082.000000</td>\n",
       "      <td>4082.000000</td>\n",
       "      <td>4082.000000</td>\n",
       "      <td>4082.000000</td>\n",
       "      <td>4082.000000</td>\n",
       "      <td>4082.000000</td>\n",
       "      <td>4082.000000</td>\n",
       "      <td>4082.000000</td>\n",
       "      <td>4082.000000</td>\n",
       "      <td>4082.000000</td>\n",
       "    </tr>\n",
       "    <tr>\n",
       "      <th>mean</th>\n",
       "      <td>176.088858</td>\n",
       "      <td>100.668937</td>\n",
       "      <td>105.084021</td>\n",
       "      <td>55.632190</td>\n",
       "      <td>38.678485</td>\n",
       "      <td>42.224841</td>\n",
       "      <td>107.880496</td>\n",
       "      <td>18.217338</td>\n",
       "      <td>31.467081</td>\n",
       "      <td>50.258372</td>\n",
       "      <td>43.756663</td>\n",
       "      <td>111.097501</td>\n",
       "      <td>77.028403</td>\n",
       "    </tr>\n",
       "    <tr>\n",
       "      <th>std</th>\n",
       "      <td>7.487432</td>\n",
       "      <td>12.257658</td>\n",
       "      <td>7.610317</td>\n",
       "      <td>4.655902</td>\n",
       "      <td>3.029959</td>\n",
       "      <td>3.573047</td>\n",
       "      <td>9.642352</td>\n",
       "      <td>1.151149</td>\n",
       "      <td>2.814044</td>\n",
       "      <td>3.386522</td>\n",
       "      <td>2.308203</td>\n",
       "      <td>5.383601</td>\n",
       "      <td>4.870118</td>\n",
       "    </tr>\n",
       "    <tr>\n",
       "      <th>min</th>\n",
       "      <td>99.350000</td>\n",
       "      <td>68.600000</td>\n",
       "      <td>87.400000</td>\n",
       "      <td>37.700000</td>\n",
       "      <td>28.200000</td>\n",
       "      <td>33.100000</td>\n",
       "      <td>72.150000</td>\n",
       "      <td>14.350000</td>\n",
       "      <td>22.800000</td>\n",
       "      <td>32.300000</td>\n",
       "      <td>26.950000</td>\n",
       "      <td>61.550000</td>\n",
       "      <td>62.300000</td>\n",
       "    </tr>\n",
       "    <tr>\n",
       "      <th>25%</th>\n",
       "      <td>171.300000</td>\n",
       "      <td>92.100000</td>\n",
       "      <td>100.100000</td>\n",
       "      <td>52.600000</td>\n",
       "      <td>36.600000</td>\n",
       "      <td>39.700000</td>\n",
       "      <td>101.100000</td>\n",
       "      <td>17.400000</td>\n",
       "      <td>29.600000</td>\n",
       "      <td>48.000000</td>\n",
       "      <td>42.200000</td>\n",
       "      <td>107.500000</td>\n",
       "      <td>73.800000</td>\n",
       "    </tr>\n",
       "    <tr>\n",
       "      <th>50%</th>\n",
       "      <td>176.100000</td>\n",
       "      <td>100.000000</td>\n",
       "      <td>103.900000</td>\n",
       "      <td>55.400000</td>\n",
       "      <td>38.400000</td>\n",
       "      <td>41.800000</td>\n",
       "      <td>107.100000</td>\n",
       "      <td>18.150000</td>\n",
       "      <td>31.200000</td>\n",
       "      <td>50.100000</td>\n",
       "      <td>43.700000</td>\n",
       "      <td>111.000000</td>\n",
       "      <td>77.100000</td>\n",
       "    </tr>\n",
       "    <tr>\n",
       "      <th>75%</th>\n",
       "      <td>181.100000</td>\n",
       "      <td>108.500000</td>\n",
       "      <td>108.800000</td>\n",
       "      <td>58.300000</td>\n",
       "      <td>40.500000</td>\n",
       "      <td>44.400000</td>\n",
       "      <td>113.900000</td>\n",
       "      <td>19.000000</td>\n",
       "      <td>32.900000</td>\n",
       "      <td>52.300000</td>\n",
       "      <td>45.300000</td>\n",
       "      <td>114.600000</td>\n",
       "      <td>80.300000</td>\n",
       "    </tr>\n",
       "    <tr>\n",
       "      <th>max</th>\n",
       "      <td>206.500000</td>\n",
       "      <td>143.500000</td>\n",
       "      <td>157.700000</td>\n",
       "      <td>82.700000</td>\n",
       "      <td>51.900000</td>\n",
       "      <td>59.100000</td>\n",
       "      <td>155.400000</td>\n",
       "      <td>25.000000</td>\n",
       "      <td>48.900000</td>\n",
       "      <td>71.366667</td>\n",
       "      <td>53.000000</td>\n",
       "      <td>135.900000</td>\n",
       "      <td>99.500000</td>\n",
       "    </tr>\n",
       "  </tbody>\n",
       "</table>\n",
       "</div>"
      ],
      "text/plain": [
       "           stature  waist-girth    hip-girth  thigh-girth   calf-girth  \\\n",
       "count  4082.000000  4082.000000  4082.000000  4082.000000  4082.000000   \n",
       "mean    176.088858   100.668937   105.084021    55.632190    38.678485   \n",
       "std       7.487432    12.257658     7.610317     4.655902     3.029959   \n",
       "min      99.350000    68.600000    87.400000    37.700000    28.200000   \n",
       "25%     171.300000    92.100000   100.100000    52.600000    36.600000   \n",
       "50%     176.100000   100.000000   103.900000    55.400000    38.400000   \n",
       "75%     181.100000   108.500000   108.800000    58.300000    40.500000   \n",
       "max     206.500000   143.500000   157.700000    82.700000    51.900000   \n",
       "\n",
       "        neck-girth   bust-girth  wrist-girth  upper-arm-girth  \\\n",
       "count  4082.000000  4082.000000  4082.000000      4082.000000   \n",
       "mean     42.224841   107.880496    18.217338        31.467081   \n",
       "std       3.573047     9.642352     1.151149         2.814044   \n",
       "min      33.100000    72.150000    14.350000        22.800000   \n",
       "25%      39.700000   101.100000    17.400000        29.600000   \n",
       "50%      41.800000   107.100000    18.150000        31.200000   \n",
       "75%      44.400000   113.900000    19.000000        32.900000   \n",
       "max      59.100000   155.400000    25.000000        48.900000   \n",
       "\n",
       "       biacromial-length  neck-to-waist-length  waist-height  croth-height  \n",
       "count        4082.000000           4082.000000   4082.000000   4082.000000  \n",
       "mean           50.258372             43.756663    111.097501     77.028403  \n",
       "std             3.386522              2.308203      5.383601      4.870118  \n",
       "min            32.300000             26.950000     61.550000     62.300000  \n",
       "25%            48.000000             42.200000    107.500000     73.800000  \n",
       "50%            50.100000             43.700000    111.000000     77.100000  \n",
       "75%            52.300000             45.300000    114.600000     80.300000  \n",
       "max            71.366667             53.000000    135.900000     99.500000  "
      ]
     },
     "execution_count": 262,
     "metadata": {},
     "output_type": "execute_result"
    }
   ],
   "source": [
    "life_male.describe()"
   ]
  },
  {
   "cell_type": "code",
   "execution_count": 33,
   "id": "0a534952",
   "metadata": {},
   "outputs": [
    {
     "data": {
      "text/html": [
       "<div>\n",
       "<style scoped>\n",
       "    .dataframe tbody tr th:only-of-type {\n",
       "        vertical-align: middle;\n",
       "    }\n",
       "\n",
       "    .dataframe tbody tr th {\n",
       "        vertical-align: top;\n",
       "    }\n",
       "\n",
       "    .dataframe thead th {\n",
       "        text-align: right;\n",
       "    }\n",
       "</style>\n",
       "<table border=\"1\" class=\"dataframe\">\n",
       "  <thead>\n",
       "    <tr style=\"text-align: right;\">\n",
       "      <th></th>\n",
       "      <th>stature</th>\n",
       "      <th>waist-girth</th>\n",
       "      <th>hip-girth</th>\n",
       "      <th>thigh-girth</th>\n",
       "      <th>calf-girth</th>\n",
       "      <th>neck-girth</th>\n",
       "      <th>bust-girth</th>\n",
       "      <th>wrist-girth</th>\n",
       "      <th>upper-arm-girth</th>\n",
       "      <th>biacromial-length</th>\n",
       "      <th>neck-to-waist-length</th>\n",
       "      <th>waist-height</th>\n",
       "      <th>croth-height</th>\n",
       "      <th>whr</th>\n",
       "      <th>whtr</th>\n",
       "    </tr>\n",
       "  </thead>\n",
       "  <tbody>\n",
       "    <tr>\n",
       "      <th>0</th>\n",
       "      <td>170.6</td>\n",
       "      <td>71.3</td>\n",
       "      <td>92.0</td>\n",
       "      <td>50.0</td>\n",
       "      <td>33.1</td>\n",
       "      <td>35.6</td>\n",
       "      <td>86.7</td>\n",
       "      <td>15.1</td>\n",
       "      <td>28.3</td>\n",
       "      <td>45.0</td>\n",
       "      <td>39.6</td>\n",
       "      <td>107.8</td>\n",
       "      <td>76.2</td>\n",
       "      <td>0.775000</td>\n",
       "      <td>0.417937</td>\n",
       "    </tr>\n",
       "    <tr>\n",
       "      <th>1</th>\n",
       "      <td>175.6</td>\n",
       "      <td>73.1</td>\n",
       "      <td>93.3</td>\n",
       "      <td>50.4</td>\n",
       "      <td>34.4</td>\n",
       "      <td>37.6</td>\n",
       "      <td>84.5</td>\n",
       "      <td>15.4</td>\n",
       "      <td>27.5</td>\n",
       "      <td>43.7</td>\n",
       "      <td>43.6</td>\n",
       "      <td>110.9</td>\n",
       "      <td>77.7</td>\n",
       "      <td>0.783494</td>\n",
       "      <td>0.416287</td>\n",
       "    </tr>\n",
       "    <tr>\n",
       "      <th>2</th>\n",
       "      <td>181.2</td>\n",
       "      <td>72.2</td>\n",
       "      <td>98.7</td>\n",
       "      <td>52.7</td>\n",
       "      <td>36.2</td>\n",
       "      <td>36.0</td>\n",
       "      <td>91.9</td>\n",
       "      <td>17.1</td>\n",
       "      <td>27.9</td>\n",
       "      <td>45.1</td>\n",
       "      <td>44.3</td>\n",
       "      <td>115.5</td>\n",
       "      <td>81.8</td>\n",
       "      <td>0.731510</td>\n",
       "      <td>0.398455</td>\n",
       "    </tr>\n",
       "    <tr>\n",
       "      <th>3</th>\n",
       "      <td>180.1</td>\n",
       "      <td>87.2</td>\n",
       "      <td>108.6</td>\n",
       "      <td>59.7</td>\n",
       "      <td>37.0</td>\n",
       "      <td>38.4</td>\n",
       "      <td>98.9</td>\n",
       "      <td>16.4</td>\n",
       "      <td>29.6</td>\n",
       "      <td>46.5</td>\n",
       "      <td>44.2</td>\n",
       "      <td>114.2</td>\n",
       "      <td>83.6</td>\n",
       "      <td>0.802947</td>\n",
       "      <td>0.484175</td>\n",
       "    </tr>\n",
       "    <tr>\n",
       "      <th>4</th>\n",
       "      <td>177.7</td>\n",
       "      <td>79.6</td>\n",
       "      <td>98.4</td>\n",
       "      <td>50.4</td>\n",
       "      <td>36.0</td>\n",
       "      <td>36.1</td>\n",
       "      <td>92.2</td>\n",
       "      <td>16.8</td>\n",
       "      <td>28.2</td>\n",
       "      <td>47.7</td>\n",
       "      <td>41.3</td>\n",
       "      <td>111.8</td>\n",
       "      <td>76.1</td>\n",
       "      <td>0.808943</td>\n",
       "      <td>0.447946</td>\n",
       "    </tr>\n",
       "    <tr>\n",
       "      <th>...</th>\n",
       "      <td>...</td>\n",
       "      <td>...</td>\n",
       "      <td>...</td>\n",
       "      <td>...</td>\n",
       "      <td>...</td>\n",
       "      <td>...</td>\n",
       "      <td>...</td>\n",
       "      <td>...</td>\n",
       "      <td>...</td>\n",
       "      <td>...</td>\n",
       "      <td>...</td>\n",
       "      <td>...</td>\n",
       "      <td>...</td>\n",
       "      <td>...</td>\n",
       "      <td>...</td>\n",
       "    </tr>\n",
       "    <tr>\n",
       "      <th>4077</th>\n",
       "      <td>168.8</td>\n",
       "      <td>81.6</td>\n",
       "      <td>91.7</td>\n",
       "      <td>57.9</td>\n",
       "      <td>34.5</td>\n",
       "      <td>37.8</td>\n",
       "      <td>95.4</td>\n",
       "      <td>16.3</td>\n",
       "      <td>31.8</td>\n",
       "      <td>38.4</td>\n",
       "      <td>44.2</td>\n",
       "      <td>101.6</td>\n",
       "      <td>80.7</td>\n",
       "      <td>0.889858</td>\n",
       "      <td>0.483412</td>\n",
       "    </tr>\n",
       "    <tr>\n",
       "      <th>4078</th>\n",
       "      <td>176.5</td>\n",
       "      <td>97.8</td>\n",
       "      <td>104.9</td>\n",
       "      <td>66.2</td>\n",
       "      <td>39.9</td>\n",
       "      <td>39.2</td>\n",
       "      <td>107.2</td>\n",
       "      <td>17.8</td>\n",
       "      <td>37.4</td>\n",
       "      <td>42.8</td>\n",
       "      <td>47.5</td>\n",
       "      <td>108.2</td>\n",
       "      <td>84.8</td>\n",
       "      <td>0.932316</td>\n",
       "      <td>0.554108</td>\n",
       "    </tr>\n",
       "    <tr>\n",
       "      <th>4079</th>\n",
       "      <td>169.0</td>\n",
       "      <td>99.1</td>\n",
       "      <td>103.8</td>\n",
       "      <td>60.5</td>\n",
       "      <td>37.8</td>\n",
       "      <td>41.6</td>\n",
       "      <td>104.5</td>\n",
       "      <td>17.8</td>\n",
       "      <td>36.7</td>\n",
       "      <td>40.7</td>\n",
       "      <td>48.3</td>\n",
       "      <td>101.1</td>\n",
       "      <td>78.7</td>\n",
       "      <td>0.954721</td>\n",
       "      <td>0.586391</td>\n",
       "    </tr>\n",
       "    <tr>\n",
       "      <th>4080</th>\n",
       "      <td>171.8</td>\n",
       "      <td>78.3</td>\n",
       "      <td>92.9</td>\n",
       "      <td>54.4</td>\n",
       "      <td>38.9</td>\n",
       "      <td>38.7</td>\n",
       "      <td>98.4</td>\n",
       "      <td>17.2</td>\n",
       "      <td>36.5</td>\n",
       "      <td>41.9</td>\n",
       "      <td>43.0</td>\n",
       "      <td>106.2</td>\n",
       "      <td>84.6</td>\n",
       "      <td>0.842842</td>\n",
       "      <td>0.455763</td>\n",
       "    </tr>\n",
       "    <tr>\n",
       "      <th>4081</th>\n",
       "      <td>182.8</td>\n",
       "      <td>108.0</td>\n",
       "      <td>100.9</td>\n",
       "      <td>62.2</td>\n",
       "      <td>39.6</td>\n",
       "      <td>43.9</td>\n",
       "      <td>114.4</td>\n",
       "      <td>18.2</td>\n",
       "      <td>37.9</td>\n",
       "      <td>44.2</td>\n",
       "      <td>51.1</td>\n",
       "      <td>111.9</td>\n",
       "      <td>93.1</td>\n",
       "      <td>1.070367</td>\n",
       "      <td>0.590810</td>\n",
       "    </tr>\n",
       "  </tbody>\n",
       "</table>\n",
       "<p>8164 rows × 15 columns</p>\n",
       "</div>"
      ],
      "text/plain": [
       "      stature  waist-girth  hip-girth  thigh-girth  calf-girth  neck-girth  \\\n",
       "0       170.6         71.3       92.0         50.0        33.1        35.6   \n",
       "1       175.6         73.1       93.3         50.4        34.4        37.6   \n",
       "2       181.2         72.2       98.7         52.7        36.2        36.0   \n",
       "3       180.1         87.2      108.6         59.7        37.0        38.4   \n",
       "4       177.7         79.6       98.4         50.4        36.0        36.1   \n",
       "...       ...          ...        ...          ...         ...         ...   \n",
       "4077    168.8         81.6       91.7         57.9        34.5        37.8   \n",
       "4078    176.5         97.8      104.9         66.2        39.9        39.2   \n",
       "4079    169.0         99.1      103.8         60.5        37.8        41.6   \n",
       "4080    171.8         78.3       92.9         54.4        38.9        38.7   \n",
       "4081    182.8        108.0      100.9         62.2        39.6        43.9   \n",
       "\n",
       "      bust-girth  wrist-girth  upper-arm-girth  biacromial-length  \\\n",
       "0           86.7         15.1             28.3               45.0   \n",
       "1           84.5         15.4             27.5               43.7   \n",
       "2           91.9         17.1             27.9               45.1   \n",
       "3           98.9         16.4             29.6               46.5   \n",
       "4           92.2         16.8             28.2               47.7   \n",
       "...          ...          ...              ...                ...   \n",
       "4077        95.4         16.3             31.8               38.4   \n",
       "4078       107.2         17.8             37.4               42.8   \n",
       "4079       104.5         17.8             36.7               40.7   \n",
       "4080        98.4         17.2             36.5               41.9   \n",
       "4081       114.4         18.2             37.9               44.2   \n",
       "\n",
       "      neck-to-waist-length  waist-height  croth-height       whr      whtr  \n",
       "0                     39.6         107.8          76.2  0.775000  0.417937  \n",
       "1                     43.6         110.9          77.7  0.783494  0.416287  \n",
       "2                     44.3         115.5          81.8  0.731510  0.398455  \n",
       "3                     44.2         114.2          83.6  0.802947  0.484175  \n",
       "4                     41.3         111.8          76.1  0.808943  0.447946  \n",
       "...                    ...           ...           ...       ...       ...  \n",
       "4077                  44.2         101.6          80.7  0.889858  0.483412  \n",
       "4078                  47.5         108.2          84.8  0.932316  0.554108  \n",
       "4079                  48.3         101.1          78.7  0.954721  0.586391  \n",
       "4080                  43.0         106.2          84.6  0.842842  0.455763  \n",
       "4081                  51.1         111.9          93.1  1.070367  0.590810  \n",
       "\n",
       "[8164 rows x 15 columns]"
      ]
     },
     "execution_count": 33,
     "metadata": {},
     "output_type": "execute_result"
    }
   ],
   "source": [
    "male_collection = pd.concat([life_male,ansur_male], axis=0)\n",
    "female_collection = pd.concat([life_female,ansur_female], axis=0)\n",
    "male_collection_age = pd.concat([life_male_age, ansur_male_age], axis=0)\n",
    "female_collection_age = pd.concat([life_female_age, ansur_female_age], axis=0)\n",
    "\n",
    "male_collection_normalized = normalize_d(male_collection)\n",
    "female_collection_normalized = normalize_d(female_collection)\n",
    "\n",
    "male_collection_age_normalized = normalize_d(male_collection_age)\n",
    "female_collection_age_normalized = normalize_d(female_collection_age)\n",
    "\n",
    "male_collection"
   ]
  },
  {
   "cell_type": "code",
   "execution_count": 13,
   "id": "ff0ff226",
   "metadata": {},
   "outputs": [
    {
     "data": {
      "text/plain": [
       "<AxesSubplot:ylabel='Frequency'>"
      ]
     },
     "execution_count": 13,
     "metadata": {},
     "output_type": "execute_result"
    },
    {
     "data": {
      "image/png": "[encoded data removed]",
      "text/plain": [
       "<Figure size 432x288 with 1 Axes>"
      ]
     },
     "metadata": {
      "needs_background": "light"
     },
     "output_type": "display_data"
    }
   ],
   "source": [
    "life_male_age.plot(kind='hist', bins=62)"
   ]
  },
  {
   "cell_type": "code",
   "execution_count": 14,
   "id": "2a80769c",
   "metadata": {},
   "outputs": [
    {
     "data": {
      "text/plain": [
       "<AxesSubplot:ylabel='Frequency'>"
      ]
     },
     "execution_count": 14,
     "metadata": {},
     "output_type": "execute_result"
    },
    {
     "data": {
      "image/png": "[encoded data removed]",
      "text/plain": [
       "<Figure size 432x288 with 1 Axes>"
      ]
     },
     "metadata": {
      "needs_background": "light"
     },
     "output_type": "display_data"
    }
   ],
   "source": [
    "life_female_age.plot(kind='hist', bins=62)"
   ]
  },
  {
   "cell_type": "code",
   "execution_count": 15,
   "id": "c4b8f7f7",
   "metadata": {},
   "outputs": [
    {
     "data": {
      "text/plain": [
       "<AxesSubplot:ylabel='Frequency'>"
      ]
     },
     "execution_count": 15,
     "metadata": {},
     "output_type": "execute_result"
    },
    {
     "data": {
      "image/png": "[encoded data removed]",
      "text/plain": [
       "<Figure size 432x288 with 1 Axes>"
      ]
     },
     "metadata": {
      "needs_background": "light"
     },
     "output_type": "display_data"
    }
   ],
   "source": [
    "ansur_male_age.plot(kind='hist', bins=42)"
   ]
  },
  {
   "cell_type": "code",
   "execution_count": 16,
   "id": "334b7bbb",
   "metadata": {},
   "outputs": [
    {
     "data": {
      "text/plain": [
       "<AxesSubplot:ylabel='Frequency'>"
      ]
     },
     "execution_count": 16,
     "metadata": {},
     "output_type": "execute_result"
    },
    {
     "data": {
      "image/png": "[encoded data removed]",
      "text/plain": [
       "<Figure size 432x288 with 1 Axes>"
      ]
     },
     "metadata": {
      "needs_background": "light"
     },
     "output_type": "display_data"
    }
   ],
   "source": [
    "ansur_female_age.plot(kind='hist', bins=42)"
   ]
  },
  {
   "cell_type": "code",
   "execution_count": 17,
   "id": "5a6315f0",
   "metadata": {},
   "outputs": [
    {
     "data": {
      "text/plain": [
       "<AxesSubplot:ylabel='Frequency'>"
      ]
     },
     "execution_count": 17,
     "metadata": {},
     "output_type": "execute_result"
    },
    {
     "data": {
      "image/png": "[encoded data removed]",
      "text/plain": [
       "<Figure size 432x288 with 1 Axes>"
      ]
     },
     "metadata": {
      "needs_background": "light"
     },
     "output_type": "display_data"
    }
   ],
   "source": [
    "pd.concat([life_male_age, ansur_male_age], axis=0).plot(kind='hist', bins=62)"
   ]
  },
  {
   "cell_type": "code",
   "execution_count": 18,
   "id": "f34a2957",
   "metadata": {},
   "outputs": [
    {
     "data": {
      "text/plain": [
       "<AxesSubplot:ylabel='Frequency'>"
      ]
     },
     "execution_count": 18,
     "metadata": {},
     "output_type": "execute_result"
    },
    {
     "data": {
      "image/png": "[encoded data removed]",
      "text/plain": [
       "<Figure size 432x288 with 1 Axes>"
      ]
     },
     "metadata": {
      "needs_background": "light"
     },
     "output_type": "display_data"
    }
   ],
   "source": [
    "pd.concat([life_female_age, ansur_female_age], axis=0).plot(kind='hist', bins=64)"
   ]
  },
  {
   "cell_type": "code",
   "execution_count": null,
   "id": "935da26d",
   "metadata": {},
   "outputs": [],
   "source": []
  },
  {
   "cell_type": "code",
   "execution_count": 270,
   "id": "c9466d2d",
   "metadata": {},
   "outputs": [
    {
     "data": {
      "text/plain": [
       "<AxesSubplot:title={'center':'Grouped Datasets Age Histogram'}, ylabel='Frequency'>"
      ]
     },
     "execution_count": 270,
     "metadata": {},
     "output_type": "execute_result"
    },
    {
     "data": {
      "image/png": "[encoded data removed]",
      "text/plain": [
       "<Figure size 432x288 with 1 Axes>"
      ]
     },
     "metadata": {
      "needs_background": "light"
     },
     "output_type": "display_data"
    }
   ],
   "source": [
    "from matplotlib import pyplot as plt\n",
    "pd.concat([life_male_age, ansur_male_age, life_female_age, ansur_female_age], axis=0).plot(kind='hist', bins=63, title=\"Grouped Datasets Age Histogram\", xlabel='Age')"
   ]
  },
  {
   "cell_type": "code",
   "execution_count": 24,
   "id": "196d58b0",
   "metadata": {},
   "outputs": [
    {
     "data": {
      "text/html": [
       "<div>\n",
       "<style scoped>\n",
       "    .dataframe tbody tr th:only-of-type {\n",
       "        vertical-align: middle;\n",
       "    }\n",
       "\n",
       "    .dataframe tbody tr th {\n",
       "        vertical-align: top;\n",
       "    }\n",
       "\n",
       "    .dataframe thead th {\n",
       "        text-align: right;\n",
       "    }\n",
       "</style>\n",
       "<table border=\"1\" class=\"dataframe\">\n",
       "  <thead>\n",
       "    <tr style=\"text-align: right;\">\n",
       "      <th></th>\n",
       "      <th>stature</th>\n",
       "      <th>waist-girth</th>\n",
       "      <th>hip-girth</th>\n",
       "      <th>thigh-girth</th>\n",
       "      <th>calf-girth</th>\n",
       "      <th>neck-girth</th>\n",
       "      <th>bust-girth</th>\n",
       "      <th>wrist-girth</th>\n",
       "      <th>upper-arm-girth</th>\n",
       "      <th>biacromial-length</th>\n",
       "      <th>neck-to-waist-length</th>\n",
       "      <th>waist-height</th>\n",
       "      <th>croth-height</th>\n",
       "      <th>whr</th>\n",
       "      <th>whtr</th>\n",
       "    </tr>\n",
       "  </thead>\n",
       "  <tbody>\n",
       "    <tr>\n",
       "      <th>count</th>\n",
       "      <td>4082.000000</td>\n",
       "      <td>4082.000000</td>\n",
       "      <td>4082.000000</td>\n",
       "      <td>4082.000000</td>\n",
       "      <td>4082.000000</td>\n",
       "      <td>4082.000000</td>\n",
       "      <td>4082.000000</td>\n",
       "      <td>4082.000000</td>\n",
       "      <td>4082.000000</td>\n",
       "      <td>4082.000000</td>\n",
       "      <td>4082.000000</td>\n",
       "      <td>4082.000000</td>\n",
       "      <td>4082.000000</td>\n",
       "      <td>4082.000000</td>\n",
       "      <td>4082.000000</td>\n",
       "    </tr>\n",
       "    <tr>\n",
       "      <th>mean</th>\n",
       "      <td>176.088858</td>\n",
       "      <td>100.668937</td>\n",
       "      <td>105.084021</td>\n",
       "      <td>55.632190</td>\n",
       "      <td>38.678485</td>\n",
       "      <td>42.224841</td>\n",
       "      <td>107.880496</td>\n",
       "      <td>18.217338</td>\n",
       "      <td>31.467081</td>\n",
       "      <td>50.258372</td>\n",
       "      <td>43.756663</td>\n",
       "      <td>111.097501</td>\n",
       "      <td>77.028403</td>\n",
       "      <td>0.956387</td>\n",
       "      <td>0.572718</td>\n",
       "    </tr>\n",
       "    <tr>\n",
       "      <th>std</th>\n",
       "      <td>7.487432</td>\n",
       "      <td>12.257658</td>\n",
       "      <td>7.610317</td>\n",
       "      <td>4.655902</td>\n",
       "      <td>3.029959</td>\n",
       "      <td>3.573047</td>\n",
       "      <td>9.642352</td>\n",
       "      <td>1.151149</td>\n",
       "      <td>2.814044</td>\n",
       "      <td>3.386522</td>\n",
       "      <td>2.308203</td>\n",
       "      <td>5.383601</td>\n",
       "      <td>4.870118</td>\n",
       "      <td>0.075424</td>\n",
       "      <td>0.073608</td>\n",
       "    </tr>\n",
       "    <tr>\n",
       "      <th>min</th>\n",
       "      <td>99.350000</td>\n",
       "      <td>68.600000</td>\n",
       "      <td>87.400000</td>\n",
       "      <td>37.700000</td>\n",
       "      <td>28.200000</td>\n",
       "      <td>33.100000</td>\n",
       "      <td>72.150000</td>\n",
       "      <td>14.350000</td>\n",
       "      <td>22.800000</td>\n",
       "      <td>32.300000</td>\n",
       "      <td>26.950000</td>\n",
       "      <td>61.550000</td>\n",
       "      <td>62.300000</td>\n",
       "      <td>0.701839</td>\n",
       "      <td>0.380670</td>\n",
       "    </tr>\n",
       "    <tr>\n",
       "      <th>25%</th>\n",
       "      <td>171.300000</td>\n",
       "      <td>92.100000</td>\n",
       "      <td>100.100000</td>\n",
       "      <td>52.600000</td>\n",
       "      <td>36.600000</td>\n",
       "      <td>39.700000</td>\n",
       "      <td>101.100000</td>\n",
       "      <td>17.400000</td>\n",
       "      <td>29.600000</td>\n",
       "      <td>48.000000</td>\n",
       "      <td>42.200000</td>\n",
       "      <td>107.500000</td>\n",
       "      <td>73.800000</td>\n",
       "      <td>0.906635</td>\n",
       "      <td>0.519959</td>\n",
       "    </tr>\n",
       "    <tr>\n",
       "      <th>50%</th>\n",
       "      <td>176.100000</td>\n",
       "      <td>100.000000</td>\n",
       "      <td>103.900000</td>\n",
       "      <td>55.400000</td>\n",
       "      <td>38.400000</td>\n",
       "      <td>41.800000</td>\n",
       "      <td>107.100000</td>\n",
       "      <td>18.150000</td>\n",
       "      <td>31.200000</td>\n",
       "      <td>50.100000</td>\n",
       "      <td>43.700000</td>\n",
       "      <td>111.000000</td>\n",
       "      <td>77.100000</td>\n",
       "      <td>0.964427</td>\n",
       "      <td>0.569565</td>\n",
       "    </tr>\n",
       "    <tr>\n",
       "      <th>75%</th>\n",
       "      <td>181.100000</td>\n",
       "      <td>108.500000</td>\n",
       "      <td>108.800000</td>\n",
       "      <td>58.300000</td>\n",
       "      <td>40.500000</td>\n",
       "      <td>44.400000</td>\n",
       "      <td>113.900000</td>\n",
       "      <td>19.000000</td>\n",
       "      <td>32.900000</td>\n",
       "      <td>52.300000</td>\n",
       "      <td>45.300000</td>\n",
       "      <td>114.600000</td>\n",
       "      <td>80.300000</td>\n",
       "      <td>1.011002</td>\n",
       "      <td>0.621164</td>\n",
       "    </tr>\n",
       "    <tr>\n",
       "      <th>max</th>\n",
       "      <td>206.500000</td>\n",
       "      <td>143.500000</td>\n",
       "      <td>157.700000</td>\n",
       "      <td>82.700000</td>\n",
       "      <td>51.900000</td>\n",
       "      <td>59.100000</td>\n",
       "      <td>155.400000</td>\n",
       "      <td>25.000000</td>\n",
       "      <td>48.900000</td>\n",
       "      <td>71.366667</td>\n",
       "      <td>53.000000</td>\n",
       "      <td>135.900000</td>\n",
       "      <td>99.500000</td>\n",
       "      <td>1.164857</td>\n",
       "      <td>0.819872</td>\n",
       "    </tr>\n",
       "  </tbody>\n",
       "</table>\n",
       "</div>"
      ],
      "text/plain": [
       "           stature  waist-girth    hip-girth  thigh-girth   calf-girth  \\\n",
       "count  4082.000000  4082.000000  4082.000000  4082.000000  4082.000000   \n",
       "mean    176.088858   100.668937   105.084021    55.632190    38.678485   \n",
       "std       7.487432    12.257658     7.610317     4.655902     3.029959   \n",
       "min      99.350000    68.600000    87.400000    37.700000    28.200000   \n",
       "25%     171.300000    92.100000   100.100000    52.600000    36.600000   \n",
       "50%     176.100000   100.000000   103.900000    55.400000    38.400000   \n",
       "75%     181.100000   108.500000   108.800000    58.300000    40.500000   \n",
       "max     206.500000   143.500000   157.700000    82.700000    51.900000   \n",
       "\n",
       "        neck-girth   bust-girth  wrist-girth  upper-arm-girth  \\\n",
       "count  4082.000000  4082.000000  4082.000000      4082.000000   \n",
       "mean     42.224841   107.880496    18.217338        31.467081   \n",
       "std       3.573047     9.642352     1.151149         2.814044   \n",
       "min      33.100000    72.150000    14.350000        22.800000   \n",
       "25%      39.700000   101.100000    17.400000        29.600000   \n",
       "50%      41.800000   107.100000    18.150000        31.200000   \n",
       "75%      44.400000   113.900000    19.000000        32.900000   \n",
       "max      59.100000   155.400000    25.000000        48.900000   \n",
       "\n",
       "       biacromial-length  neck-to-waist-length  waist-height  croth-height  \\\n",
       "count        4082.000000           4082.000000   4082.000000   4082.000000   \n",
       "mean           50.258372             43.756663    111.097501     77.028403   \n",
       "std             3.386522              2.308203      5.383601      4.870118   \n",
       "min            32.300000             26.950000     61.550000     62.300000   \n",
       "25%            48.000000             42.200000    107.500000     73.800000   \n",
       "50%            50.100000             43.700000    111.000000     77.100000   \n",
       "75%            52.300000             45.300000    114.600000     80.300000   \n",
       "max            71.366667             53.000000    135.900000     99.500000   \n",
       "\n",
       "               whr         whtr  \n",
       "count  4082.000000  4082.000000  \n",
       "mean      0.956387     0.572718  \n",
       "std       0.075424     0.073608  \n",
       "min       0.701839     0.380670  \n",
       "25%       0.906635     0.519959  \n",
       "50%       0.964427     0.569565  \n",
       "75%       1.011002     0.621164  \n",
       "max       1.164857     0.819872  "
      ]
     },
     "execution_count": 24,
     "metadata": {},
     "output_type": "execute_result"
    }
   ],
   "source": [
    "life_male.describe()"
   ]
  },
  {
   "cell_type": "code",
   "execution_count": 272,
   "id": "6f345a10",
   "metadata": {},
   "outputs": [
    {
     "data": {
      "text/html": [
       "<div>\n",
       "<style scoped>\n",
       "    .dataframe tbody tr th:only-of-type {\n",
       "        vertical-align: middle;\n",
       "    }\n",
       "\n",
       "    .dataframe tbody tr th {\n",
       "        vertical-align: top;\n",
       "    }\n",
       "\n",
       "    .dataframe thead th {\n",
       "        text-align: right;\n",
       "    }\n",
       "</style>\n",
       "<table border=\"1\" class=\"dataframe\">\n",
       "  <thead>\n",
       "    <tr style=\"text-align: right;\">\n",
       "      <th></th>\n",
       "      <th>stature</th>\n",
       "      <th>waist-girth</th>\n",
       "      <th>hip-girth</th>\n",
       "      <th>thigh-girth</th>\n",
       "      <th>calf-girth</th>\n",
       "      <th>neck-girth</th>\n",
       "      <th>bust-girth</th>\n",
       "      <th>wrist-girth</th>\n",
       "      <th>upper-arm-girth</th>\n",
       "      <th>biacromial-length</th>\n",
       "      <th>neck-to-waist-length</th>\n",
       "      <th>waist-height</th>\n",
       "      <th>croth-height</th>\n",
       "    </tr>\n",
       "  </thead>\n",
       "  <tbody>\n",
       "    <tr>\n",
       "      <th>count</th>\n",
       "      <td>4082.000000</td>\n",
       "      <td>4082.000000</td>\n",
       "      <td>4082.000000</td>\n",
       "      <td>4082.000000</td>\n",
       "      <td>4082.000000</td>\n",
       "      <td>4082.000000</td>\n",
       "      <td>4082.000000</td>\n",
       "      <td>4082.000000</td>\n",
       "      <td>4082.000000</td>\n",
       "      <td>4082.000000</td>\n",
       "      <td>4082.000000</td>\n",
       "      <td>4082.000000</td>\n",
       "      <td>4082.000000</td>\n",
       "    </tr>\n",
       "    <tr>\n",
       "      <th>mean</th>\n",
       "      <td>175.621460</td>\n",
       "      <td>94.057741</td>\n",
       "      <td>101.951886</td>\n",
       "      <td>62.514233</td>\n",
       "      <td>39.226066</td>\n",
       "      <td>39.764895</td>\n",
       "      <td>105.870554</td>\n",
       "      <td>17.591671</td>\n",
       "      <td>35.813572</td>\n",
       "      <td>41.567565</td>\n",
       "      <td>47.761244</td>\n",
       "      <td>105.648530</td>\n",
       "      <td>84.592994</td>\n",
       "    </tr>\n",
       "    <tr>\n",
       "      <th>std</th>\n",
       "      <td>6.855079</td>\n",
       "      <td>11.170587</td>\n",
       "      <td>7.668107</td>\n",
       "      <td>5.845217</td>\n",
       "      <td>2.970884</td>\n",
       "      <td>2.577676</td>\n",
       "      <td>8.743527</td>\n",
       "      <td>0.895506</td>\n",
       "      <td>3.461809</td>\n",
       "      <td>1.916165</td>\n",
       "      <td>2.772829</td>\n",
       "      <td>5.215467</td>\n",
       "      <td>4.649916</td>\n",
       "    </tr>\n",
       "    <tr>\n",
       "      <th>min</th>\n",
       "      <td>149.100000</td>\n",
       "      <td>64.800000</td>\n",
       "      <td>73.700000</td>\n",
       "      <td>41.200000</td>\n",
       "      <td>26.600000</td>\n",
       "      <td>31.100000</td>\n",
       "      <td>77.400000</td>\n",
       "      <td>14.100000</td>\n",
       "      <td>24.600000</td>\n",
       "      <td>33.700000</td>\n",
       "      <td>38.300000</td>\n",
       "      <td>87.600000</td>\n",
       "      <td>70.200000</td>\n",
       "    </tr>\n",
       "    <tr>\n",
       "      <th>25%</th>\n",
       "      <td>171.000000</td>\n",
       "      <td>85.700000</td>\n",
       "      <td>96.700000</td>\n",
       "      <td>58.600000</td>\n",
       "      <td>37.200000</td>\n",
       "      <td>37.925000</td>\n",
       "      <td>99.600000</td>\n",
       "      <td>17.000000</td>\n",
       "      <td>33.500000</td>\n",
       "      <td>40.300000</td>\n",
       "      <td>45.925000</td>\n",
       "      <td>102.000000</td>\n",
       "      <td>81.400000</td>\n",
       "    </tr>\n",
       "    <tr>\n",
       "      <th>50%</th>\n",
       "      <td>175.500000</td>\n",
       "      <td>93.700000</td>\n",
       "      <td>101.700000</td>\n",
       "      <td>62.400000</td>\n",
       "      <td>39.200000</td>\n",
       "      <td>39.500000</td>\n",
       "      <td>105.600000</td>\n",
       "      <td>17.600000</td>\n",
       "      <td>35.700000</td>\n",
       "      <td>41.500000</td>\n",
       "      <td>47.700000</td>\n",
       "      <td>105.500000</td>\n",
       "      <td>84.500000</td>\n",
       "    </tr>\n",
       "    <tr>\n",
       "      <th>75%</th>\n",
       "      <td>180.200000</td>\n",
       "      <td>101.600000</td>\n",
       "      <td>106.800000</td>\n",
       "      <td>66.200000</td>\n",
       "      <td>41.200000</td>\n",
       "      <td>41.375000</td>\n",
       "      <td>111.700000</td>\n",
       "      <td>18.200000</td>\n",
       "      <td>38.000000</td>\n",
       "      <td>42.800000</td>\n",
       "      <td>49.500000</td>\n",
       "      <td>109.000000</td>\n",
       "      <td>87.600000</td>\n",
       "    </tr>\n",
       "    <tr>\n",
       "      <th>max</th>\n",
       "      <td>199.300000</td>\n",
       "      <td>137.900000</td>\n",
       "      <td>130.500000</td>\n",
       "      <td>84.300000</td>\n",
       "      <td>52.300000</td>\n",
       "      <td>51.400000</td>\n",
       "      <td>146.900000</td>\n",
       "      <td>21.600000</td>\n",
       "      <td>49.000000</td>\n",
       "      <td>48.900000</td>\n",
       "      <td>59.800000</td>\n",
       "      <td>124.500000</td>\n",
       "      <td>103.100000</td>\n",
       "    </tr>\n",
       "  </tbody>\n",
       "</table>\n",
       "</div>"
      ],
      "text/plain": [
       "           stature  waist-girth    hip-girth  thigh-girth   calf-girth  \\\n",
       "count  4082.000000  4082.000000  4082.000000  4082.000000  4082.000000   \n",
       "mean    175.621460    94.057741   101.951886    62.514233    39.226066   \n",
       "std       6.855079    11.170587     7.668107     5.845217     2.970884   \n",
       "min     149.100000    64.800000    73.700000    41.200000    26.600000   \n",
       "25%     171.000000    85.700000    96.700000    58.600000    37.200000   \n",
       "50%     175.500000    93.700000   101.700000    62.400000    39.200000   \n",
       "75%     180.200000   101.600000   106.800000    66.200000    41.200000   \n",
       "max     199.300000   137.900000   130.500000    84.300000    52.300000   \n",
       "\n",
       "        neck-girth   bust-girth  wrist-girth  upper-arm-girth  \\\n",
       "count  4082.000000  4082.000000  4082.000000      4082.000000   \n",
       "mean     39.764895   105.870554    17.591671        35.813572   \n",
       "std       2.577676     8.743527     0.895506         3.461809   \n",
       "min      31.100000    77.400000    14.100000        24.600000   \n",
       "25%      37.925000    99.600000    17.000000        33.500000   \n",
       "50%      39.500000   105.600000    17.600000        35.700000   \n",
       "75%      41.375000   111.700000    18.200000        38.000000   \n",
       "max      51.400000   146.900000    21.600000        49.000000   \n",
       "\n",
       "       biacromial-length  neck-to-waist-length  waist-height  croth-height  \n",
       "count        4082.000000           4082.000000   4082.000000   4082.000000  \n",
       "mean           41.567565             47.761244    105.648530     84.592994  \n",
       "std             1.916165              2.772829      5.215467      4.649916  \n",
       "min            33.700000             38.300000     87.600000     70.200000  \n",
       "25%            40.300000             45.925000    102.000000     81.400000  \n",
       "50%            41.500000             47.700000    105.500000     84.500000  \n",
       "75%            42.800000             49.500000    109.000000     87.600000  \n",
       "max            48.900000             59.800000    124.500000    103.100000  "
      ]
     },
     "execution_count": 272,
     "metadata": {},
     "output_type": "execute_result"
    }
   ],
   "source": [
    "ansur_male.describe()"
   ]
  },
  {
   "cell_type": "code",
   "execution_count": 273,
   "id": "3199be85",
   "metadata": {},
   "outputs": [
    {
     "data": {
      "text/html": [
       "<div>\n",
       "<style scoped>\n",
       "    .dataframe tbody tr th:only-of-type {\n",
       "        vertical-align: middle;\n",
       "    }\n",
       "\n",
       "    .dataframe tbody tr th {\n",
       "        vertical-align: top;\n",
       "    }\n",
       "\n",
       "    .dataframe thead th {\n",
       "        text-align: right;\n",
       "    }\n",
       "</style>\n",
       "<table border=\"1\" class=\"dataframe\">\n",
       "  <thead>\n",
       "    <tr style=\"text-align: right;\">\n",
       "      <th></th>\n",
       "      <th>stature</th>\n",
       "      <th>waist-girth</th>\n",
       "      <th>hip-girth</th>\n",
       "      <th>thigh-girth</th>\n",
       "      <th>calf-girth</th>\n",
       "      <th>neck-girth</th>\n",
       "      <th>bust-girth</th>\n",
       "      <th>wrist-girth</th>\n",
       "      <th>upper-arm-girth</th>\n",
       "      <th>biacromial-length</th>\n",
       "      <th>neck-to-waist-length</th>\n",
       "      <th>waist-height</th>\n",
       "      <th>croth-height</th>\n",
       "    </tr>\n",
       "  </thead>\n",
       "  <tbody>\n",
       "    <tr>\n",
       "      <th>count</th>\n",
       "      <td>4300.000000</td>\n",
       "      <td>4300.000000</td>\n",
       "      <td>4300.000000</td>\n",
       "      <td>4300.000000</td>\n",
       "      <td>4300.000000</td>\n",
       "      <td>4300.000000</td>\n",
       "      <td>4300.000000</td>\n",
       "      <td>4300.000000</td>\n",
       "      <td>4300.000000</td>\n",
       "      <td>4300.000000</td>\n",
       "      <td>4300.000000</td>\n",
       "      <td>4300.000000</td>\n",
       "      <td>4300.000000</td>\n",
       "    </tr>\n",
       "    <tr>\n",
       "      <th>mean</th>\n",
       "      <td>164.549745</td>\n",
       "      <td>90.445974</td>\n",
       "      <td>107.663437</td>\n",
       "      <td>57.346449</td>\n",
       "      <td>37.507700</td>\n",
       "      <td>35.874316</td>\n",
       "      <td>101.038740</td>\n",
       "      <td>16.382374</td>\n",
       "      <td>29.616314</td>\n",
       "      <td>46.334045</td>\n",
       "      <td>40.717312</td>\n",
       "      <td>102.532019</td>\n",
       "      <td>72.721344</td>\n",
       "    </tr>\n",
       "    <tr>\n",
       "      <th>std</th>\n",
       "      <td>6.880675</td>\n",
       "      <td>13.370739</td>\n",
       "      <td>10.024415</td>\n",
       "      <td>5.750482</td>\n",
       "      <td>3.420016</td>\n",
       "      <td>3.235896</td>\n",
       "      <td>11.007442</td>\n",
       "      <td>1.246011</td>\n",
       "      <td>3.221412</td>\n",
       "      <td>3.693511</td>\n",
       "      <td>2.369814</td>\n",
       "      <td>5.153316</td>\n",
       "      <td>4.274504</td>\n",
       "    </tr>\n",
       "    <tr>\n",
       "      <th>min</th>\n",
       "      <td>141.600000</td>\n",
       "      <td>59.700000</td>\n",
       "      <td>83.100000</td>\n",
       "      <td>38.500000</td>\n",
       "      <td>27.700000</td>\n",
       "      <td>28.000000</td>\n",
       "      <td>74.800000</td>\n",
       "      <td>12.800000</td>\n",
       "      <td>20.300000</td>\n",
       "      <td>36.600000</td>\n",
       "      <td>32.300000</td>\n",
       "      <td>84.750000</td>\n",
       "      <td>59.300000</td>\n",
       "    </tr>\n",
       "    <tr>\n",
       "      <th>25%</th>\n",
       "      <td>159.600000</td>\n",
       "      <td>80.100000</td>\n",
       "      <td>100.900000</td>\n",
       "      <td>53.500000</td>\n",
       "      <td>35.200000</td>\n",
       "      <td>33.500000</td>\n",
       "      <td>93.000000</td>\n",
       "      <td>15.500000</td>\n",
       "      <td>27.400000</td>\n",
       "      <td>43.800000</td>\n",
       "      <td>39.100000</td>\n",
       "      <td>99.000000</td>\n",
       "      <td>69.800000</td>\n",
       "    </tr>\n",
       "    <tr>\n",
       "      <th>50%</th>\n",
       "      <td>164.200000</td>\n",
       "      <td>89.700000</td>\n",
       "      <td>106.000000</td>\n",
       "      <td>56.600000</td>\n",
       "      <td>37.100000</td>\n",
       "      <td>35.400000</td>\n",
       "      <td>99.900000</td>\n",
       "      <td>16.200000</td>\n",
       "      <td>29.100000</td>\n",
       "      <td>46.000000</td>\n",
       "      <td>40.700000</td>\n",
       "      <td>102.300000</td>\n",
       "      <td>72.400000</td>\n",
       "    </tr>\n",
       "    <tr>\n",
       "      <th>75%</th>\n",
       "      <td>169.100000</td>\n",
       "      <td>99.225000</td>\n",
       "      <td>112.925000</td>\n",
       "      <td>60.500000</td>\n",
       "      <td>39.300000</td>\n",
       "      <td>37.900000</td>\n",
       "      <td>108.000000</td>\n",
       "      <td>17.100000</td>\n",
       "      <td>31.300000</td>\n",
       "      <td>48.400000</td>\n",
       "      <td>42.200000</td>\n",
       "      <td>106.100000</td>\n",
       "      <td>75.600000</td>\n",
       "    </tr>\n",
       "    <tr>\n",
       "      <th>max</th>\n",
       "      <td>188.400000</td>\n",
       "      <td>143.600000</td>\n",
       "      <td>183.300000</td>\n",
       "      <td>108.000000</td>\n",
       "      <td>61.900000</td>\n",
       "      <td>51.900000</td>\n",
       "      <td>148.200000</td>\n",
       "      <td>25.400000</td>\n",
       "      <td>45.000000</td>\n",
       "      <td>102.000000</td>\n",
       "      <td>51.300000</td>\n",
       "      <td>122.800000</td>\n",
       "      <td>90.400000</td>\n",
       "    </tr>\n",
       "  </tbody>\n",
       "</table>\n",
       "</div>"
      ],
      "text/plain": [
       "           stature  waist-girth    hip-girth  thigh-girth   calf-girth  \\\n",
       "count  4300.000000  4300.000000  4300.000000  4300.000000  4300.000000   \n",
       "mean    164.549745    90.445974   107.663437    57.346449    37.507700   \n",
       "std       6.880675    13.370739    10.024415     5.750482     3.420016   \n",
       "min     141.600000    59.700000    83.100000    38.500000    27.700000   \n",
       "25%     159.600000    80.100000   100.900000    53.500000    35.200000   \n",
       "50%     164.200000    89.700000   106.000000    56.600000    37.100000   \n",
       "75%     169.100000    99.225000   112.925000    60.500000    39.300000   \n",
       "max     188.400000   143.600000   183.300000   108.000000    61.900000   \n",
       "\n",
       "        neck-girth   bust-girth  wrist-girth  upper-arm-girth  \\\n",
       "count  4300.000000  4300.000000  4300.000000      4300.000000   \n",
       "mean     35.874316   101.038740    16.382374        29.616314   \n",
       "std       3.235896    11.007442     1.246011         3.221412   \n",
       "min      28.000000    74.800000    12.800000        20.300000   \n",
       "25%      33.500000    93.000000    15.500000        27.400000   \n",
       "50%      35.400000    99.900000    16.200000        29.100000   \n",
       "75%      37.900000   108.000000    17.100000        31.300000   \n",
       "max      51.900000   148.200000    25.400000        45.000000   \n",
       "\n",
       "       biacromial-length  neck-to-waist-length  waist-height  croth-height  \n",
       "count        4300.000000           4300.000000   4300.000000   4300.000000  \n",
       "mean           46.334045             40.717312    102.532019     72.721344  \n",
       "std             3.693511              2.369814      5.153316      4.274504  \n",
       "min            36.600000             32.300000     84.750000     59.300000  \n",
       "25%            43.800000             39.100000     99.000000     69.800000  \n",
       "50%            46.000000             40.700000    102.300000     72.400000  \n",
       "75%            48.400000             42.200000    106.100000     75.600000  \n",
       "max           102.000000             51.300000    122.800000     90.400000  "
      ]
     },
     "execution_count": 273,
     "metadata": {},
     "output_type": "execute_result"
    }
   ],
   "source": [
    "life_female.describe()"
   ]
  },
  {
   "cell_type": "code",
   "execution_count": 274,
   "id": "17891660",
   "metadata": {},
   "outputs": [
    {
     "data": {
      "text/html": [
       "<div>\n",
       "<style scoped>\n",
       "    .dataframe tbody tr th:only-of-type {\n",
       "        vertical-align: middle;\n",
       "    }\n",
       "\n",
       "    .dataframe tbody tr th {\n",
       "        vertical-align: top;\n",
       "    }\n",
       "\n",
       "    .dataframe thead th {\n",
       "        text-align: right;\n",
       "    }\n",
       "</style>\n",
       "<table border=\"1\" class=\"dataframe\">\n",
       "  <thead>\n",
       "    <tr style=\"text-align: right;\">\n",
       "      <th></th>\n",
       "      <th>stature</th>\n",
       "      <th>waist-girth</th>\n",
       "      <th>hip-girth</th>\n",
       "      <th>thigh-girth</th>\n",
       "      <th>calf-girth</th>\n",
       "      <th>neck-girth</th>\n",
       "      <th>bust-girth</th>\n",
       "      <th>wrist-girth</th>\n",
       "      <th>upper-arm-girth</th>\n",
       "      <th>biacromial-length</th>\n",
       "      <th>neck-to-waist-length</th>\n",
       "      <th>waist-height</th>\n",
       "      <th>croth-height</th>\n",
       "    </tr>\n",
       "  </thead>\n",
       "  <tbody>\n",
       "    <tr>\n",
       "      <th>count</th>\n",
       "      <td>1986.000000</td>\n",
       "      <td>1986.000000</td>\n",
       "      <td>1986.000000</td>\n",
       "      <td>1986.000000</td>\n",
       "      <td>1986.000000</td>\n",
       "      <td>1986.000000</td>\n",
       "      <td>1986.000000</td>\n",
       "      <td>1986.000000</td>\n",
       "      <td>1986.000000</td>\n",
       "      <td>1986.000000</td>\n",
       "      <td>1986.000000</td>\n",
       "      <td>1986.000000</td>\n",
       "      <td>1986.000000</td>\n",
       "    </tr>\n",
       "    <tr>\n",
       "      <th>mean</th>\n",
       "      <td>162.847331</td>\n",
       "      <td>86.090534</td>\n",
       "      <td>102.124773</td>\n",
       "      <td>61.614854</td>\n",
       "      <td>37.325780</td>\n",
       "      <td>32.979557</td>\n",
       "      <td>94.685801</td>\n",
       "      <td>15.479255</td>\n",
       "      <td>30.557855</td>\n",
       "      <td>36.534894</td>\n",
       "      <td>42.540282</td>\n",
       "      <td>98.014904</td>\n",
       "      <td>78.231722</td>\n",
       "    </tr>\n",
       "    <tr>\n",
       "      <th>std</th>\n",
       "      <td>6.419951</td>\n",
       "      <td>9.993177</td>\n",
       "      <td>7.589471</td>\n",
       "      <td>5.581030</td>\n",
       "      <td>2.851518</td>\n",
       "      <td>1.922114</td>\n",
       "      <td>8.269911</td>\n",
       "      <td>0.782770</td>\n",
       "      <td>3.075703</td>\n",
       "      <td>1.829885</td>\n",
       "      <td>2.638895</td>\n",
       "      <td>5.002271</td>\n",
       "      <td>4.463674</td>\n",
       "    </tr>\n",
       "    <tr>\n",
       "      <th>min</th>\n",
       "      <td>140.900000</td>\n",
       "      <td>61.100000</td>\n",
       "      <td>79.800000</td>\n",
       "      <td>44.800000</td>\n",
       "      <td>28.200000</td>\n",
       "      <td>27.500000</td>\n",
       "      <td>69.500000</td>\n",
       "      <td>12.400000</td>\n",
       "      <td>21.600000</td>\n",
       "      <td>28.300000</td>\n",
       "      <td>34.500000</td>\n",
       "      <td>80.500000</td>\n",
       "      <td>61.000000</td>\n",
       "    </tr>\n",
       "    <tr>\n",
       "      <th>25%</th>\n",
       "      <td>158.625000</td>\n",
       "      <td>79.000000</td>\n",
       "      <td>96.900000</td>\n",
       "      <td>57.900000</td>\n",
       "      <td>35.400000</td>\n",
       "      <td>31.600000</td>\n",
       "      <td>88.900000</td>\n",
       "      <td>15.000000</td>\n",
       "      <td>28.500000</td>\n",
       "      <td>35.300000</td>\n",
       "      <td>40.700000</td>\n",
       "      <td>94.700000</td>\n",
       "      <td>75.300000</td>\n",
       "    </tr>\n",
       "    <tr>\n",
       "      <th>50%</th>\n",
       "      <td>162.600000</td>\n",
       "      <td>85.200000</td>\n",
       "      <td>101.850000</td>\n",
       "      <td>61.300000</td>\n",
       "      <td>37.200000</td>\n",
       "      <td>32.800000</td>\n",
       "      <td>94.000000</td>\n",
       "      <td>15.400000</td>\n",
       "      <td>30.400000</td>\n",
       "      <td>36.500000</td>\n",
       "      <td>42.450000</td>\n",
       "      <td>97.750000</td>\n",
       "      <td>78.000000</td>\n",
       "    </tr>\n",
       "    <tr>\n",
       "      <th>75%</th>\n",
       "      <td>167.200000</td>\n",
       "      <td>92.500000</td>\n",
       "      <td>106.900000</td>\n",
       "      <td>65.100000</td>\n",
       "      <td>39.175000</td>\n",
       "      <td>34.200000</td>\n",
       "      <td>99.900000</td>\n",
       "      <td>16.000000</td>\n",
       "      <td>32.400000</td>\n",
       "      <td>37.800000</td>\n",
       "      <td>44.200000</td>\n",
       "      <td>101.300000</td>\n",
       "      <td>81.200000</td>\n",
       "    </tr>\n",
       "    <tr>\n",
       "      <th>max</th>\n",
       "      <td>182.900000</td>\n",
       "      <td>133.400000</td>\n",
       "      <td>134.100000</td>\n",
       "      <td>87.000000</td>\n",
       "      <td>48.200000</td>\n",
       "      <td>42.400000</td>\n",
       "      <td>126.600000</td>\n",
       "      <td>18.300000</td>\n",
       "      <td>43.500000</td>\n",
       "      <td>42.200000</td>\n",
       "      <td>53.200000</td>\n",
       "      <td>114.200000</td>\n",
       "      <td>94.700000</td>\n",
       "    </tr>\n",
       "  </tbody>\n",
       "</table>\n",
       "</div>"
      ],
      "text/plain": [
       "           stature  waist-girth    hip-girth  thigh-girth   calf-girth  \\\n",
       "count  1986.000000  1986.000000  1986.000000  1986.000000  1986.000000   \n",
       "mean    162.847331    86.090534   102.124773    61.614854    37.325780   \n",
       "std       6.419951     9.993177     7.589471     5.581030     2.851518   \n",
       "min     140.900000    61.100000    79.800000    44.800000    28.200000   \n",
       "25%     158.625000    79.000000    96.900000    57.900000    35.400000   \n",
       "50%     162.600000    85.200000   101.850000    61.300000    37.200000   \n",
       "75%     167.200000    92.500000   106.900000    65.100000    39.175000   \n",
       "max     182.900000   133.400000   134.100000    87.000000    48.200000   \n",
       "\n",
       "        neck-girth   bust-girth  wrist-girth  upper-arm-girth  \\\n",
       "count  1986.000000  1986.000000  1986.000000      1986.000000   \n",
       "mean     32.979557    94.685801    15.479255        30.557855   \n",
       "std       1.922114     8.269911     0.782770         3.075703   \n",
       "min      27.500000    69.500000    12.400000        21.600000   \n",
       "25%      31.600000    88.900000    15.000000        28.500000   \n",
       "50%      32.800000    94.000000    15.400000        30.400000   \n",
       "75%      34.200000    99.900000    16.000000        32.400000   \n",
       "max      42.400000   126.600000    18.300000        43.500000   \n",
       "\n",
       "       biacromial-length  neck-to-waist-length  waist-height  croth-height  \n",
       "count        1986.000000           1986.000000   1986.000000   1986.000000  \n",
       "mean           36.534894             42.540282     98.014904     78.231722  \n",
       "std             1.829885              2.638895      5.002271      4.463674  \n",
       "min            28.300000             34.500000     80.500000     61.000000  \n",
       "25%            35.300000             40.700000     94.700000     75.300000  \n",
       "50%            36.500000             42.450000     97.750000     78.000000  \n",
       "75%            37.800000             44.200000    101.300000     81.200000  \n",
       "max            42.200000             53.200000    114.200000     94.700000  "
      ]
     },
     "execution_count": 274,
     "metadata": {},
     "output_type": "execute_result"
    }
   ],
   "source": [
    "ansur_female.describe()"
   ]
  },
  {
   "cell_type": "markdown",
   "id": "82b2777a",
   "metadata": {},
   "source": [
    "# REGRESSOR TEST"
   ]
  },
  {
   "cell_type": "code",
   "execution_count": 19,
   "id": "9aadbfa7",
   "metadata": {
    "scrolled": true
   },
   "outputs": [
    {
     "name": "stdout",
     "output_type": "stream",
     "text": [
      "0.8438356838054404\n",
      "0.8413091634544878\n",
      "0.6818492784615682\n",
      "0.6913529141733045\n"
     ]
    }
   ],
   "source": [
    "# print(1 - calculate_error(life_male_normalized, life_male_age_normalized))\n",
    "# print(1 - calculate_error(life_female_normalized, life_female_age_normalized))\n",
    "# print(1 - calculate_error(ansur_male_normalized, ansur_male_age_normalized))\n",
    "# print(1 - calculate_error(ansur_female_normalized, ansur_female_age_normalized))\n",
    "print(1 - calculate_error(male_collection, male_collection_age))\n",
    "print(1 - calculate_error(female_collection, female_collection_age))\n",
    "print(1 - calculate_error(male_collection_normalized, male_collection_age_normalized))\n",
    "print(1 - calculate_error(female_collection_normalized, female_collection_age_normalized))"
   ]
  },
  {
   "cell_type": "code",
   "execution_count": 26,
   "id": "8c9d57d4",
   "metadata": {},
   "outputs": [
    {
     "name": "stdout",
     "output_type": "stream",
     "text": [
      "Importancia:\n",
      "01.11% stature\n",
      "01.12% waist-height\n",
      "01.60% bust-girth\n",
      "01.60% neck-to-waist-length\n",
      "01.65% neck-girth\n",
      "01.66% calf-girth\n",
      "01.68% hip-girth\n",
      "01.71% waist-girth\n",
      "02.30% croth-height\n",
      "02.86% wrist-girth\n",
      "03.37% whtr\n",
      "04.27% upper-arm-girth\n",
      "08.51% thigh-girth\n",
      "11.60% whr\n",
      "54.95% biacromial-length\n"
     ]
    }
   ],
   "source": [
    "X = male_collection\n",
    "y = male_collection_age\n",
    "x_train, x_test, y_train, y_test = train_test_split(X, y, test_size=0.33, random_state=42)\n",
    "clf = RandomForestRegressor(random_state=42, n_estimators=100)\n",
    "clf.fit(x_train,y_train)\n",
    "print(\"Importancia:\")\n",
    "for score, name in sorted(zip(clf.feature_importances_, my_semantic+['whr', 'whtr'])):\n",
    "    print('{:06.2%}'.format(score), name)"
   ]
  },
  {
   "cell_type": "code",
   "execution_count": 27,
   "id": "8c21b681",
   "metadata": {},
   "outputs": [
    {
     "name": "stdout",
     "output_type": "stream",
     "text": [
      "Importancia:\n",
      "03.21% waist-girth\n",
      "03.31% hip-girth\n",
      "03.34% stature\n",
      "03.46% waist-height\n",
      "04.06% croth-height\n",
      "04.50% biacromial-length\n",
      "04.69% whtr\n",
      "04.75% wrist-girth\n",
      "04.94% neck-to-waist-length\n",
      "05.10% calf-girth\n",
      "05.31% neck-girth\n",
      "05.59% bust-girth\n",
      "06.15% upper-arm-girth\n",
      "09.26% thigh-girth\n",
      "32.34% whr\n"
     ]
    }
   ],
   "source": [
    "X = ansur_male_normalized\n",
    "y = ansur_male_age_normalized\n",
    "x_train, x_test, y_train, y_test = train_test_split(X, y, test_size=0.33, random_state=42)\n",
    "clf = RandomForestRegressor(random_state=42, n_estimators=100)\n",
    "clf.fit(x_train,y_train)\n",
    "print(\"Importancia:\")\n",
    "for score, name in sorted(zip(clf.feature_importances_, my_semantic+['whr', 'whtr'])):\n",
    "    print('{:06.2%}'.format(score), name)"
   ]
  },
  {
   "cell_type": "markdown",
   "id": "7d210a53",
   "metadata": {},
   "source": [
    "# AGE INTERVAL ANALISYS"
   ]
  },
  {
   "cell_type": "code",
   "execution_count": 278,
   "id": "dc383286",
   "metadata": {},
   "outputs": [],
   "source": [
    "def interval_tests(data_normalized, age, nage, interval):\n",
    "    age_interval = age.between(*interval)\n",
    "    data_normalized = data_normalized[age_interval]\n",
    "    nage = nage[age_interval]\n",
    "    if data_normalized.size == 0:\n",
    "        return np.nan\n",
    "    error = calculate_error(data_normalized, nage)\n",
    "    return error"
   ]
  },
  {
   "cell_type": "code",
   "execution_count": 32,
   "id": "f75f0934",
   "metadata": {},
   "outputs": [],
   "source": [
    "datasets_array = [\n",
    "    ('life_male', life_male_normalized, life_male_age, life_male_age_normalized),\n",
    "    ('life_female', life_female_normalized, life_female_age, life_female_age_normalized),\n",
    "    ('ansur_male', ansur_male_normalized, ansur_male_age, ansur_male_age_normalized),\n",
    "    ('ansur_female', ansur_female_normalized, ansur_female_age, ansur_female_age_normalized),\n",
    "    ('collection_male', male_collection_normalized, male_collection_age, male_collection_age_normalized),\n",
    "    ('collection_female', female_collection_normalized, female_collection_age, female_collection_age_normalized),\n",
    "]"
   ]
  },
  {
   "cell_type": "code",
   "execution_count": 280,
   "id": "4be88c16",
   "metadata": {},
   "outputs": [
    {
     "data": {
      "application/vnd.jupyter.widget-view+json": {
       "model_id": "a1fe6e4ef84d478990aac8224ad9a4d3",
       "version_major": 2,
       "version_minor": 0
      },
      "text/plain": [
       "  0%|          | 0/6 [00:00<?, ?it/s]"
      ]
     },
     "metadata": {},
     "output_type": "display_data"
    },
    {
     "data": {
      "application/vnd.jupyter.widget-view+json": {
       "model_id": "ac2e0dd03048432e93fa43cbda34d979",
       "version_major": 2,
       "version_minor": 0
      },
      "text/plain": [
       "  0%|          | 0/21 [00:00<?, ?it/s]"
      ]
     },
     "metadata": {},
     "output_type": "display_data"
    },
    {
     "data": {
      "application/vnd.jupyter.widget-view+json": {
       "model_id": "cbf2c8ed8ef0444e9ed7cc5b9316259b",
       "version_major": 2,
       "version_minor": 0
      },
      "text/plain": [
       "  0%|          | 0/21 [00:00<?, ?it/s]"
      ]
     },
     "metadata": {},
     "output_type": "display_data"
    },
    {
     "data": {
      "application/vnd.jupyter.widget-view+json": {
       "model_id": "5e95bb42af3343ada4916856bde1f63b",
       "version_major": 2,
       "version_minor": 0
      },
      "text/plain": [
       "  0%|          | 0/21 [00:00<?, ?it/s]"
      ]
     },
     "metadata": {},
     "output_type": "display_data"
    },
    {
     "data": {
      "application/vnd.jupyter.widget-view+json": {
       "model_id": "f9fae740533f45f9bbaf5c327b836f61",
       "version_major": 2,
       "version_minor": 0
      },
      "text/plain": [
       "  0%|          | 0/21 [00:00<?, ?it/s]"
      ]
     },
     "metadata": {},
     "output_type": "display_data"
    },
    {
     "data": {
      "application/vnd.jupyter.widget-view+json": {
       "model_id": "13b36c0f1bf14bb499b9803ea3c425d0",
       "version_major": 2,
       "version_minor": 0
      },
      "text/plain": [
       "  0%|          | 0/21 [00:00<?, ?it/s]"
      ]
     },
     "metadata": {},
     "output_type": "display_data"
    },
    {
     "data": {
      "application/vnd.jupyter.widget-view+json": {
       "model_id": "d0ac26c52c314333a966d795963332f4",
       "version_major": 2,
       "version_minor": 0
      },
      "text/plain": [
       "  0%|          | 0/21 [00:00<?, ?it/s]"
      ]
     },
     "metadata": {},
     "output_type": "display_data"
    },
    {
     "data": {
      "text/plain": [
       "<AxesSubplot:>"
      ]
     },
     "execution_count": 280,
     "metadata": {},
     "output_type": "execute_result"
    },
    {
     "data": {
      "image/png": "[encoded data removed]",
      "text/plain": [
       "<Figure size 1080x720 with 1 Axes>"
      ]
     },
     "metadata": {
      "needs_background": "light"
     },
     "output_type": "display_data"
    }
   ],
   "source": [
    "data_extracted = {}\n",
    "comb = list(combinations(range(20,81,10), 2))\n",
    "for name, data, nage, age in progressbar(datasets_array):\n",
    "    data_extracted[name] = []\n",
    "    for interval in progressbar(comb, leave=False):\n",
    "        test = interval_tests(data, nage, age, interval)\n",
    "        data_extracted[name].append(test)\n",
    "extracted = pd.DataFrame(data_extracted, index=comb)\n",
    "extracted.plot(kind='barh', figsize=(15,10), stacked=True)"
   ]
  },
  {
   "cell_type": "code",
   "execution_count": 281,
   "id": "4fbd1d46",
   "metadata": {
    "scrolled": true
   },
   "outputs": [
    {
     "data": {
      "text/plain": [
       "<AxesSubplot:>"
      ]
     },
     "execution_count": 281,
     "metadata": {},
     "output_type": "execute_result"
    },
    {
     "data": {
      "image/png": "[encoded data removed]",
      "text/plain": [
       "<Figure size 1080x2160 with 1 Axes>"
      ]
     },
     "metadata": {
      "needs_background": "light"
     },
     "output_type": "display_data"
    }
   ],
   "source": [
    "extracted.plot(kind='barh', figsize=(15,30))"
   ]
  },
  {
   "cell_type": "code",
   "execution_count": 282,
   "id": "77d67a55",
   "metadata": {},
   "outputs": [
    {
     "data": {
      "text/plain": [
       "<AxesSubplot:>"
      ]
     },
     "execution_count": 282,
     "metadata": {},
     "output_type": "execute_result"
    },
    {
     "data": {
      "image/png": "[encoded data removed]",
      "text/plain": [
       "<Figure size 1080x720 with 1 Axes>"
      ]
     },
     "metadata": {
      "needs_background": "light"
     },
     "output_type": "display_data"
    }
   ],
   "source": [
    "mean_of_errors = extracted.mean(axis=1)\n",
    "interval_sizes = np.diff(np.array(list(extracted.index)), axis=1).flatten()\n",
    "factor = mean_of_errors/interval_sizes\n",
    "factor.plot(kind='barh', figsize=(15,10))"
   ]
  },
  {
   "cell_type": "code",
   "execution_count": 283,
   "id": "389b6204",
   "metadata": {},
   "outputs": [
    {
     "name": "stdout",
     "output_type": "stream",
     "text": [
      "(50, 80) 0.0032851657193241272\n"
     ]
    }
   ],
   "source": [
    "minimal = factor.argmin()\n",
    "print(factor.keys()[minimal], factor[minimal])"
   ]
  },
  {
   "cell_type": "code",
   "execution_count": 284,
   "id": "2ae0cfe3",
   "metadata": {},
   "outputs": [
    {
     "name": "stdout",
     "output_type": "stream",
     "text": [
      "(40, 80) 0.003708460659868928\n"
     ]
    }
   ],
   "source": [
    "factor_copy = factor.copy()\n",
    "minimal_id = factor.keys()[minimal]\n",
    "factor_copy = factor_copy.drop(index=minimal_id)\n",
    "minimal = factor_copy.argmin()\n",
    "print(factor_copy.keys()[minimal], factor_copy[minimal])"
   ]
  },
  {
   "cell_type": "markdown",
   "id": "72254111",
   "metadata": {},
   "source": [
    "# REGRESSORS APPLY"
   ]
  },
  {
   "cell_type": "code",
   "execution_count": 62,
   "id": "ef24283d",
   "metadata": {},
   "outputs": [],
   "source": [
    "# def applier(source_data, source_age, target_data, interval=(15, 85)):\n",
    "#     selected_ages = source_age.between(*interval)\n",
    "#     selected_source_data = source_data[selected_ages]\n",
    "#     selected_source_age = source_age[selected_ages]\n",
    "    \n",
    "#     predictor = train(normalize_d(selected_source_data), normalize_d(selected_source_age))\n",
    "#     target_age = predictor.predict(normalize_d(target_data))\n",
    "#     target_age = denormalize_d(target_age, selected_source_age)\n",
    "#     target_age = np.rint(target_age)\n",
    "\n",
    "#     pd.Series(target_age).plot(kind=\"hist\", bins=np.arange(interval[0], interval[1], 1), figsize=(20,5))\n",
    "#     return target_age\n",
    "\n",
    "def applier(source_data, source_age, target_data, interval=(15, 85, 1)):\n",
    "\n",
    "    selected_ages = source_age.between(*interval[:2])\n",
    "    selected_source_data = source_data[selected_ages]\n",
    "    selected_source_age = source_age[selected_ages]\n",
    "\n",
    "    predictor = train(selected_source_data, selected_source_age)\n",
    "    target_age = predictor.predict(target_data)\n",
    "#     target_age = np.rint(target_age)\n",
    "\n",
    "    pd.Series(target_age).plot(kind=\"hist\", bins=np.arange(interval[0], interval[1], interval[2]), figsize=(20,5))\n",
    "    return target_age"
   ]
  },
  {
   "cell_type": "markdown",
   "id": "6ba05709",
   "metadata": {},
   "source": [
    "## REGRESSOR APPLY WITH COLLECTION"
   ]
  },
  {
   "cell_type": "code",
   "execution_count": 30,
   "id": "afe20611",
   "metadata": {},
   "outputs": [
    {
     "data": {
      "text/plain": [
       "array([38., 33., 47., ..., 50., 31., 33.])"
      ]
     },
     "execution_count": 30,
     "metadata": {},
     "output_type": "execute_result"
    },
    {
     "data": {
      "image/png": "[encoded data removed]",
      "text/plain": [
       "<Figure size 1440x360 with 1 Axes>"
      ]
     },
     "metadata": {
      "needs_background": "light"
     },
     "output_type": "display_data"
    }
   ],
   "source": [
    "applier(male_collection, male_collection_age, my_male)"
   ]
  },
  {
   "cell_type": "code",
   "execution_count": 63,
   "id": "5a0fabf3",
   "metadata": {},
   "outputs": [
    {
     "data": {
      "text/plain": [
       "array([0.56117742, 0.52156452, 0.53219355, ..., 0.56922581, 0.56930645,\n",
       "       0.57304839])"
      ]
     },
     "execution_count": 63,
     "metadata": {},
     "output_type": "execute_result"
    },
    {
     "data": {
      "image/png": "[encoded data removed]",
      "text/plain": [
       "<Figure size 1440x360 with 1 Axes>"
      ]
     },
     "metadata": {
      "needs_background": "light"
     },
     "output_type": "display_data"
    }
   ],
   "source": [
    "applier(life_male_normalized, life_male_age_normalized, my_male, (0,1, 0.15))\n"
   ]
  },
  {
   "cell_type": "code",
   "execution_count": 311,
   "id": "a2d936ce",
   "metadata": {},
   "outputs": [
    {
     "data": {
      "text/plain": [
       "array([38., 32., 35., ..., 35., 33., 37.])"
      ]
     },
     "execution_count": 311,
     "metadata": {},
     "output_type": "execute_result"
    },
    {
     "data": {
      "image/png": "[encoded data removed]",
      "text/plain": [
       "<Figure size 1440x360 with 1 Axes>"
      ]
     },
     "metadata": {
      "needs_background": "light"
     },
     "output_type": "display_data"
    }
   ],
   "source": [
    "applier(female_collection, female_collection_age, my_female)"
   ]
  },
  {
   "cell_type": "code",
   "execution_count": 288,
   "id": "9cf07311",
   "metadata": {},
   "outputs": [
    {
     "data": {
      "text/plain": [
       "array([68., 56., 57., ..., 57., 65., 59.])"
      ]
     },
     "execution_count": 288,
     "metadata": {},
     "output_type": "execute_result"
    },
    {
     "data": {
      "image/png": "[encoded data removed]",
      "text/plain": [
       "<Figure size 1440x360 with 1 Axes>"
      ]
     },
     "metadata": {
      "needs_background": "light"
     },
     "output_type": "display_data"
    }
   ],
   "source": [
    "applier(male_collection, male_collection_age, my_male, (40,80))"
   ]
  },
  {
   "cell_type": "code",
   "execution_count": 289,
   "id": "e4e92982",
   "metadata": {},
   "outputs": [
    {
     "data": {
      "text/plain": [
       "array([48., 57., 52., ..., 48., 54., 65.])"
      ]
     },
     "execution_count": 289,
     "metadata": {},
     "output_type": "execute_result"
    },
    {
     "data": {
      "image/png": "[encoded data removed]",
      "text/plain": [
       "<Figure size 1440x360 with 1 Axes>"
      ]
     },
     "metadata": {
      "needs_background": "light"
     },
     "output_type": "display_data"
    }
   ],
   "source": [
    "applier(female_collection, female_collection_age, my_female, (40,80))"
   ]
  },
  {
   "cell_type": "markdown",
   "id": "f1a98279",
   "metadata": {},
   "source": [
    "## REGRESSOR APPLY WITH LIFE"
   ]
  },
  {
   "cell_type": "code",
   "execution_count": 290,
   "id": "f1f384f4",
   "metadata": {},
   "outputs": [
    {
     "data": {
      "text/plain": [
       "array([66., 52., 53., ..., 57., 64., 62.])"
      ]
     },
     "execution_count": 290,
     "metadata": {},
     "output_type": "execute_result"
    },
    {
     "data": {
      "image/png": "[encoded data removed]",
      "text/plain": [
       "<Figure size 1440x360 with 1 Axes>"
      ]
     },
     "metadata": {
      "needs_background": "light"
     },
     "output_type": "display_data"
    }
   ],
   "source": [
    "applier(life_male, life_male_age, my_male)"
   ]
  },
  {
   "cell_type": "code",
   "execution_count": 291,
   "id": "d107cd75",
   "metadata": {},
   "outputs": [
    {
     "data": {
      "text/plain": [
       "array([40., 58., 51., ..., 45., 53., 66.])"
      ]
     },
     "execution_count": 291,
     "metadata": {},
     "output_type": "execute_result"
    },
    {
     "data": {
      "image/png": "[encoded data removed]",
      "text/plain": [
       "<Figure size 1440x360 with 1 Axes>"
      ]
     },
     "metadata": {
      "needs_background": "light"
     },
     "output_type": "display_data"
    }
   ],
   "source": [
    "applier(life_female, life_female_age, my_female)\n"
   ]
  },
  {
   "cell_type": "code",
   "execution_count": 292,
   "id": "bdd562ef",
   "metadata": {},
   "outputs": [
    {
     "data": {
      "text/plain": [
       "array([68., 60., 61., ..., 58., 67., 58.])"
      ]
     },
     "execution_count": 292,
     "metadata": {},
     "output_type": "execute_result"
    },
    {
     "data": {
      "image/png": "[encoded data removed]",
      "text/plain": [
       "<Figure size 1440x360 with 1 Axes>"
      ]
     },
     "metadata": {
      "needs_background": "light"
     },
     "output_type": "display_data"
    }
   ],
   "source": [
    "applier(life_male, life_male_age, my_male, (40,80))"
   ]
  },
  {
   "cell_type": "code",
   "execution_count": 293,
   "id": "73e61cba",
   "metadata": {},
   "outputs": [
    {
     "data": {
      "text/plain": [
       "array([48., 58., 55., ..., 48., 56., 67.])"
      ]
     },
     "execution_count": 293,
     "metadata": {},
     "output_type": "execute_result"
    },
    {
     "data": {
      "image/png": "[encoded data removed]",
      "text/plain": [
       "<Figure size 1440x360 with 1 Axes>"
      ]
     },
     "metadata": {
      "needs_background": "light"
     },
     "output_type": "display_data"
    }
   ],
   "source": [
    "applier(life_female, life_female_age, my_female, (40,80))"
   ]
  },
  {
   "cell_type": "markdown",
   "id": "b261bcf0",
   "metadata": {},
   "source": [
    "# BODIES DIFFERENCES"
   ]
  },
  {
   "cell_type": "code",
   "execution_count": 313,
   "id": "4ea16c75",
   "metadata": {},
   "outputs": [
    {
     "data": {
      "image/png": "[encoded data removed]",
      "text/plain": [
       "<Figure size 1440x360 with 1 Axes>"
      ]
     },
     "metadata": {
      "needs_background": "light"
     },
     "output_type": "display_data"
    }
   ],
   "source": [
    "my_male_age = applier(male_collection, male_collection_age, my_male)"
   ]
  },
  {
   "cell_type": "code",
   "execution_count": 64,
   "id": "c8f639ee",
   "metadata": {},
   "outputs": [
    {
     "data": {
      "image/png": "[encoded data removed]",
      "text/plain": [
       "<Figure size 1440x360 with 1 Axes>"
      ]
     },
     "metadata": {
      "needs_background": "light"
     },
     "output_type": "display_data"
    }
   ],
   "source": [
    "my_female_age = applier(female_collection, female_collection_age, my_female)"
   ]
  },
  {
   "cell_type": "code",
   "execution_count": 315,
   "id": "71ff9a8e",
   "metadata": {},
   "outputs": [],
   "source": [
    "from scipy.spatial.distance import cdist"
   ]
  },
  {
   "cell_type": "code",
   "execution_count": 316,
   "id": "b5301bd0",
   "metadata": {},
   "outputs": [],
   "source": [
    "def calculate_difference(source, target, age):\n",
    "    interval = (age, age)\n",
    "\n",
    "    source_copy = source.copy()\n",
    "    source_copy = source_copy[source_copy.age.between(*interval)]\n",
    "    source_copy = source_copy.drop('age', axis=1)\n",
    "\n",
    "    target_copy = target.copy()\n",
    "    target_copy = target_copy[target_copy.age.between(*interval)]\n",
    "    target_copy = target_copy.drop('age', axis=1)\n",
    "\n",
    "    source_min = source_copy.min()\n",
    "    source_max = source_copy.max()\n",
    "\n",
    "    source_copy = (source_copy - source_min) / (source_max - source_min)\n",
    "    target_copy = (target_copy - source_min) / (source_max - source_min)\n",
    "\n",
    "    distances = cdist(target_copy, source_copy, 'euclidean')\n",
    "\n",
    "    minimals = np.argmin(distances, axis=1)\n",
    "    errors = distances.transpose()[minimals].diagonal()\n",
    "    return errors"
   ]
  },
  {
   "cell_type": "code",
   "execution_count": 323,
   "id": "8f6d1ef8",
   "metadata": {},
   "outputs": [],
   "source": [
    "my_male_copy = my_male.copy()\n",
    "my_male_copy['age'] = my_male_age\n",
    "\n",
    "male_collection_copy = male_collection.copy()\n",
    "male_collection_copy['age'] = male_collection_age\n",
    "\n",
    "min_age = my_male_copy.age.min()\n",
    "max_age = my_male_copy.age.max()\n",
    "\n",
    "values = []\n",
    "for age in np.arange(min_age, max_age+1):\n",
    "    differences=calculate_difference(male_collection_copy, my_male_copy, age)/13\n",
    "    values.append([differences.min(), differences.max(), differences.mean(), differences.std()])\n",
    "male_values = np.array(values)"
   ]
  },
  {
   "cell_type": "code",
   "execution_count": 324,
   "id": "ade490fc",
   "metadata": {},
   "outputs": [
    {
     "data": {
      "text/plain": [
       "<AxesSubplot:>"
      ]
     },
     "execution_count": 324,
     "metadata": {},
     "output_type": "execute_result"
    },
    {
     "data": {
      "image/png": "[encoded data removed]",
      "text/plain": [
       "<Figure size 432x288 with 1 Axes>"
      ]
     },
     "metadata": {
      "needs_background": "light"
     },
     "output_type": "display_data"
    }
   ],
   "source": [
    "pd.Series(male_values[:,0], np.arange(min_age, max_age+1)).plot()\n",
    "pd.Series(male_values[:,1], np.arange(min_age, max_age+1)).plot()\n",
    "pd.Series(male_values[:,2], np.arange(min_age, max_age+1)).plot()"
   ]
  },
  {
   "cell_type": "code",
   "execution_count": 325,
   "id": "28cfe528",
   "metadata": {},
   "outputs": [],
   "source": [
    "my_female_copy = my_female.copy()\n",
    "my_female_copy['age'] = my_female_age\n",
    "\n",
    "female_collection_copy = female_collection.copy()\n",
    "female_collection_copy['age'] = female_collection_age\n",
    "\n",
    "min_age = my_female_copy.age.min()\n",
    "max_age = my_female_copy.age.max()\n",
    "\n",
    "values = []\n",
    "for age in np.arange(min_age, max_age+1):\n",
    "    differences=calculate_difference(female_collection_copy, my_female_copy, age)/13\n",
    "    values.append([differences.min(), differences.max(), differences.mean(), differences.std()])\n",
    "female_values = np.array(values)"
   ]
  },
  {
   "cell_type": "code",
   "execution_count": 326,
   "id": "22078add",
   "metadata": {},
   "outputs": [
    {
     "data": {
      "text/plain": [
       "<AxesSubplot:>"
      ]
     },
     "execution_count": 326,
     "metadata": {},
     "output_type": "execute_result"
    },
    {
     "data": {
      "image/png": "[encoded data removed]",
      "text/plain": [
       "<Figure size 432x288 with 1 Axes>"
      ]
     },
     "metadata": {
      "needs_background": "light"
     },
     "output_type": "display_data"
    }
   ],
   "source": [
    "pd.Series(female_values[:,0], np.arange(min_age, max_age+1)).plot()\n",
    "pd.Series(female_values[:,1], np.arange(min_age, max_age+1)).plot()\n",
    "pd.Series(female_values[:,2], np.arange(min_age, max_age+1)).plot()"
   ]
  },
  {
   "cell_type": "code",
   "execution_count": null,
   "id": "583dc957",
   "metadata": {},
   "outputs": [],
   "source": []
  }
 ],
 "metadata": {
  "kernelspec": {
   "display_name": "Python 3 (ipykernel)",
   "language": "python",
   "name": "python3"
  },
  "language_info": {
   "codemirror_mode": {
    "name": "ipython",
    "version": 3
   },
   "file_extension": ".py",
   "mimetype": "text/x-python",
   "name": "python",
   "nbconvert_exporter": "python",
   "pygments_lexer": "ipython3",
   "version": "3.10.4"
  },
  "vscode": {
   "interpreter": {
    "hash": "916dbcbb3f70747c44a77c7bcd40155683ae19c65e1c03b4aa3499c5328201f1"
   }
  }
 },
 "nbformat": 4,
 "nbformat_minor": 5
}
