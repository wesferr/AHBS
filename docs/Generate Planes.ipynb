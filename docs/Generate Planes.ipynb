{
 "cells": [
  {
   "cell_type": "code",
   "execution_count": 1,
   "metadata": {},
   "outputs": [],
   "source": [
    "import numpy as np\n",
    "import pandas as pd\n",
    "import trimesh as tm\n",
    "from matplotlib import pyplot as plt"
   ]
  },
  {
   "cell_type": "code",
   "execution_count": 2,
   "metadata": {},
   "outputs": [],
   "source": [
    "def load_template(file_path):\n",
    "        faces = []\n",
    "        normals = []\n",
    "        i = 0\n",
    "        with open(file_path) as file:\n",
    "            for line in file:\n",
    "                if line[0] == \"f\":\n",
    "                    line_split = line[1:].split()\n",
    "                    line_split = np.array([i.split(\"//\") for i in line_split])\n",
    "                    face_temp = list(map(int, line_split[:, 0]))\n",
    "                    #normal_temp = list(map(int, line_split[:, 1]))\n",
    "                    faces.append(face_temp)\n",
    "                    #normals.append(normal_temp)\n",
    "                    i += 1\n",
    "        return np.array(faces), np.array(normals)\n",
    "\n",
    "def load_mesh(file_path):\n",
    "    vertex = []\n",
    "    with open(file_path, \"r\") as f:\n",
    "        for line in f:\n",
    "            if line[0] == '#':\n",
    "                continue\n",
    "            elif \"v \" in line:\n",
    "                line.replace('\\n', ' ')\n",
    "                tmp = list(map(float, line[1:].split()))\n",
    "                vertex.append(tmp)\n",
    "            else:\n",
    "                break\n",
    "    vertex = np.array(vertex)\n",
    "    return vertex"
   ]
  },
  {
   "cell_type": "code",
   "execution_count": 3,
   "metadata": {},
   "outputs": [],
   "source": [
    "vertices = load_mesh('../curves-modules/mean_female_pose_1.obj')\n",
    "faces, _ = load_template('../curves-modules/mean_female_pose_1.obj')\n",
    "faces-=1"
   ]
  },
  {
   "cell_type": "code",
   "execution_count": 4,
   "metadata": {},
   "outputs": [],
   "source": [
    "levels = np.linspace(-1.5, 1.5,10000)"
   ]
  },
  {
   "cell_type": "code",
   "execution_count": 5,
   "metadata": {},
   "outputs": [],
   "source": [
    "mesh = tm.Trimesh(vertices=vertices, faces=faces, process=False)"
   ]
  },
  {
   "cell_type": "code",
   "execution_count": 6,
   "metadata": {},
   "outputs": [],
   "source": [
    "sections = mesh.section_multiplane(plane_origin=mesh.centroid, plane_normal=[0,1,0], heights=levels)"
   ]
  },
  {
   "cell_type": "code",
   "execution_count": 53,
   "metadata": {},
   "outputs": [
    {
     "name": "stderr",
     "output_type": "stream",
     "text": [
      "OpenCV: FFMPEG: tag 0x47504a4d/'MJPG' is not supported with codec id 7 and format 'mp4 / MP4 (MPEG-4 Part 14)'\n",
      "OpenCV: FFMPEG: fallback to use tag 0x7634706d/'mp4v'\n"
     ]
    }
   ],
   "source": [
    "import cv2\n"
   ]
  },
  {
   "cell_type": "code",
   "execution_count": 73,
   "metadata": {},
   "outputs": [],
   "source": [
    "fourcc = cv2.VideoWriter_fourcc(*'MJPG')    \n",
    "video = cv2.VideoWriter(\"test.avi\",fourcc, 10,(800,600))\n",
    "for section in sections:\n",
    "    if section:\n",
    "        image = section.rasterize(1,0, resolution=(800,600))\n",
    "        image = np.array(image, dtype=np.uint8)\n",
    "        video.write(image)\n",
    "video.release()\n",
    "cv2.destroyAllWindows()"
   ]
  },
  {
   "cell_type": "code",
   "execution_count": null,
   "metadata": {},
   "outputs": [
    {
     "data": {
      "text/plain": [
       "18.915353544897286"
      ]
     },
     "execution_count": 65,
     "metadata": {},
     "output_type": "execute_result"
    }
   ],
   "source": [
    "np.array(values).max()"
   ]
  },
  {
   "cell_type": "code",
   "execution_count": null,
   "metadata": {},
   "outputs": [],
   "source": []
  }
 ],
 "metadata": {
  "kernelspec": {
   "display_name": "Python 3.10.4 64-bit",
   "language": "python",
   "name": "python3"
  },
  "language_info": {
   "codemirror_mode": {
    "name": "ipython",
    "version": 3
   },
   "file_extension": ".py",
   "mimetype": "text/x-python",
   "name": "python",
   "nbconvert_exporter": "python",
   "pygments_lexer": "ipython3",
   "version": "3.10.4"
  },
  "orig_nbformat": 4,
  "vscode": {
   "interpreter": {
    "hash": "916dbcbb3f70747c44a77c7bcd40155683ae19c65e1c03b4aa3499c5328201f1"
   }
  }
 },
 "nbformat": 4,
 "nbformat_minor": 2
}
