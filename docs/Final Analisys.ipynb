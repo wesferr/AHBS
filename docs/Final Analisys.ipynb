{
 "cells": [
  {
   "cell_type": "code",
   "execution_count": 1,
   "id": "f6aadfae",
   "metadata": {},
   "outputs": [],
   "source": [
    "import pandas as pd\n",
    "import numpy as np\n",
    "from matplotlib import pyplot as plt\n",
    "from sklearn.ensemble import RandomForestRegressor, RandomForestClassifier, GradientBoostingRegressor\n",
    "from sklearn.model_selection import train_test_split\n",
    "from sklearn.metrics import mean_squared_error, mean_absolute_error, mean_absolute_percentage_error"
   ]
  },
  {
   "cell_type": "code",
   "execution_count": 2,
   "id": "f8899837",
   "metadata": {},
   "outputs": [],
   "source": [
    "from scipy.spatial.distance import cdist\n",
    "def calculate_difference(source, target, age):\n",
    "    interval = (age, age)\n",
    "\n",
    "    source_copy = source.copy()\n",
    "    source_copy = source_copy[source_copy.age.between(*interval)]\n",
    "    source_copy = source_copy.drop('age', axis=1)\n",
    "\n",
    "    target_copy = target.copy()\n",
    "    target_copy = target_copy[target_copy.age.between(*interval)]\n",
    "    target_copy = target_copy.drop('age', axis=1)\n",
    "\n",
    "    source_min = source_copy.min()\n",
    "    source_max = source_copy.max()\n",
    "\n",
    "    source_copy = (source_copy - source_min) / (source_max - source_min)\n",
    "    target_copy = (target_copy - source_min) / (source_max - source_min)\n",
    "\n",
    "    distances = cdist(target_copy, source_copy, 'euclidean')\n",
    "\n",
    "    minimals = np.argmin(distances, axis=1)\n",
    "    errors = distances.transpose()[minimals].diagonal()\n",
    "    return errors"
   ]
  },
  {
   "cell_type": "code",
   "execution_count": 3,
   "id": "a00d9cdd",
   "metadata": {},
   "outputs": [],
   "source": [
    "my_semantic = [\n",
    "    'stature',\n",
    "    'waist-girth',\n",
    "    'hip-girth',\n",
    "    'thigh-girth',\n",
    "    'calf-girth',\n",
    "    'neck-girth',\n",
    "    'bust-girth',\n",
    "    'wrist-girth',\n",
    "    'upper-arm-girth',\n",
    "    'biacromial-length',\n",
    "    'neck-to-waist-length',\n",
    "    'waist-height',\n",
    "    'croth-height'\n",
    "]\n",
    "life_semantic = [\n",
    "    'height',\n",
    "    'waist_gth',\n",
    "    'hip_gth',\n",
    "    'thigh_gth_r_hz',# 'thigh_gth_l_hz'\n",
    "    'calf_gth_r', # calf_gth_l\n",
    "    'mid_neck_gth',\n",
    "    'bust_chest_gth',\n",
    "    'wrist_gth',\n",
    "    'up_arm_gth_r',\n",
    "    'cr_shoulder',\n",
    "    'neck_waist_c_back',\n",
    "    'waist_ht',\n",
    "    'crotch_ht'\n",
    "]"
   ]
  },
  {
   "cell_type": "code",
   "execution_count": 4,
   "id": "a4db9c41",
   "metadata": {},
   "outputs": [],
   "source": [
    "my_male = np.load(\"curves-modules/bodies-male-measures.npy\")\n",
    "my_male = pd.DataFrame(my_male, columns=my_semantic)\n",
    "my_male['thigh-girth'] /= 2\n",
    "my_male['calf-girth'] /= 2\n",
    "\n",
    "my_female = np.load(\"curves-modules/bodies-female-measures.npy\")\n",
    "my_female = pd.DataFrame(my_female, columns=my_semantic)\n",
    "my_female['calf-girth'] /= 2\n",
    "my_female['thigh-girth'] /= 2"
   ]
  },
  {
   "cell_type": "code",
   "execution_count": 5,
   "id": "65311042",
   "metadata": {},
   "outputs": [],
   "source": [
    "life = pd.read_csv(\"curves-modules/datasets/life.csv\",encoding_errors='ignore').dropna()\n",
    "life_male = life[life['Gender'] == 'male']\n",
    "life_male.columns = life_male.columns.str.lower()\n",
    "life_male_age = life_male['age']\n",
    "life_male = life_male[life_semantic]\n",
    "life_male.columns = my_semantic\n",
    "\n",
    "life_female = life[life['Gender'] == 'female']\n",
    "life_female.columns = life_female.columns.str.lower()\n",
    "life_female_age = life_female['age']\n",
    "life_female = life_female[life_semantic]\n",
    "life_female.columns = my_semantic"
   ]
  },
  {
   "cell_type": "code",
   "execution_count": 6,
   "id": "0dd1b2f5",
   "metadata": {},
   "outputs": [
    {
     "data": {
      "text/plain": [
       "(18.0, 80.0)"
      ]
     },
     "execution_count": 6,
     "metadata": {},
     "output_type": "execute_result"
    }
   ],
   "source": [
    "life_male_age.min(), life_male_age.max()"
   ]
  },
  {
   "cell_type": "code",
   "execution_count": 7,
   "id": "67f10800",
   "metadata": {},
   "outputs": [
    {
     "data": {
      "text/plain": [
       "(19.0, 81.0)"
      ]
     },
     "execution_count": 7,
     "metadata": {},
     "output_type": "execute_result"
    }
   ],
   "source": [
    "life_female_age.min(), life_female_age.max()"
   ]
  },
  {
   "cell_type": "code",
   "execution_count": 8,
   "id": "253f8096",
   "metadata": {},
   "outputs": [
    {
     "data": {
      "text/plain": [
       "<AxesSubplot:ylabel='Frequency'>"
      ]
     },
     "execution_count": 8,
     "metadata": {},
     "output_type": "execute_result"
    },
    {
     "data": {
      "image/png": "[encoded data removed]",
      "text/plain": [
       "<Figure size 432x288 with 1 Axes>"
      ]
     },
     "metadata": {
      "needs_background": "light"
     },
     "output_type": "display_data"
    }
   ],
   "source": [
    "pd.Series(life_male_age).plot(kind='hist',bins=np.arange(17,82,1))"
   ]
  },
  {
   "cell_type": "code",
   "execution_count": 9,
   "id": "66f69cec",
   "metadata": {},
   "outputs": [
    {
     "data": {
      "text/plain": [
       "<AxesSubplot:ylabel='Frequency'>"
      ]
     },
     "execution_count": 9,
     "metadata": {},
     "output_type": "execute_result"
    },
    {
     "data": {
      "image/png": "[encoded data removed]",
      "text/plain": [
       "<Figure size 432x288 with 1 Axes>"
      ]
     },
     "metadata": {
      "needs_background": "light"
     },
     "output_type": "display_data"
    }
   ],
   "source": [
    "pd.Series(life_female_age).plot(kind='hist',bins=np.arange(17,82,1))"
   ]
  },
  {
   "cell_type": "code",
   "execution_count": 10,
   "id": "ad414ff0",
   "metadata": {},
   "outputs": [],
   "source": [
    "from sklearn.ensemble import GradientBoostingRegressor\n",
    "classificator = GradientBoostingRegressor"
   ]
  },
  {
   "cell_type": "code",
   "execution_count": 11,
   "id": "dcb25058",
   "metadata": {},
   "outputs": [
    {
     "name": "stdout",
     "output_type": "stream",
     "text": [
      "0.1235175786605438\n"
     ]
    },
    {
     "data": {
      "text/plain": [
       "<AxesSubplot:title={'center':'Generated bodies male'}, ylabel='Frequency'>"
      ]
     },
     "execution_count": 11,
     "metadata": {},
     "output_type": "execute_result"
    },
    {
     "data": {
      "image/png": "[encoded data removed]",
      "text/plain": [
       "<Figure size 432x288 with 1 Axes>"
      ]
     },
     "metadata": {
      "needs_background": "light"
     },
     "output_type": "display_data"
    }
   ],
   "source": [
    "y = life_male_age\n",
    "X = life_male\n",
    "x_train, x_test, y_train, y_test = train_test_split(X, y, test_size=0.33, random_state=42)\n",
    "clf = classificator(random_state=42, n_estimators=1000)\n",
    "clf.fit(x_train,y_train)\n",
    "y_generated = clf.predict(x_test)\n",
    "my_male_age = np.rint(clf.predict(my_male))\n",
    "print(mean_absolute_percentage_error(y_generated, y_test))\n",
    "pd.Series(my_male_age).plot(kind='hist', bins=np.arange(18,81,1), title=\"Generated bodies male\")"
   ]
  },
  {
   "cell_type": "code",
   "execution_count": 12,
   "id": "e1997346",
   "metadata": {},
   "outputs": [
    {
     "name": "stdout",
     "output_type": "stream",
     "text": [
      "0.13019776862509222\n"
     ]
    },
    {
     "data": {
      "text/plain": [
       "<AxesSubplot:title={'center':'Generated bodies female'}, ylabel='Frequency'>"
      ]
     },
     "execution_count": 12,
     "metadata": {},
     "output_type": "execute_result"
    },
    {
     "data": {
      "image/png": "[encoded data removed]",
      "text/plain": [
       "<Figure size 432x288 with 1 Axes>"
      ]
     },
     "metadata": {
      "needs_background": "light"
     },
     "output_type": "display_data"
    }
   ],
   "source": [
    "y = life_female_age\n",
    "X = life_female\n",
    "x_train, x_test, y_train, y_test = train_test_split(X, y, test_size=0.33, random_state=42)\n",
    "clf = classificator(random_state=42, n_estimators=1000)\n",
    "clf.fit(x_train,y_train)\n",
    "y_generated = clf.predict(x_test)\n",
    "my_female_age = np.rint(clf.predict(my_female))\n",
    "print(mean_absolute_percentage_error(y_generated, y_test))\n",
    "pd.Series(my_female_age).plot(kind='hist', bins=np.arange(19,82,1), title=\"Generated bodies female\")"
   ]
  },
  {
   "cell_type": "code",
   "execution_count": 13,
   "id": "9b251738",
   "metadata": {},
   "outputs": [
    {
     "name": "stdout",
     "output_type": "stream",
     "text": [
      "0.09240799695383575\n"
     ]
    }
   ],
   "source": [
    "my_male_copy = my_male.copy()\n",
    "my_male_copy['age'] = my_male_age\n",
    "\n",
    "life_male_copy = life_male.copy()\n",
    "life_male_copy['age'] = life_male_age\n",
    "\n",
    "min_age = life_male_copy.age.min()\n",
    "max_age = life_male_copy.age.max()\n",
    "\n",
    "values = []\n",
    "interval = np.arange(min_age, max_age+1)\n",
    "for age in interval:\n",
    "    differences=calculate_difference(life_male_copy, my_male_copy, age)/13\n",
    "    if differences.size > 0:\n",
    "        values.append(differences.min())\n",
    "    else:\n",
    "        values.append(np.nan)\n",
    "male_values = pd.Series(values, index=interval)\n",
    "print(male_values.mean())"
   ]
  },
  {
   "cell_type": "code",
   "execution_count": 14,
   "id": "e5504de3",
   "metadata": {},
   "outputs": [
    {
     "name": "stdout",
     "output_type": "stream",
     "text": [
      "0.07601420322832136\n"
     ]
    }
   ],
   "source": [
    "my_female_copy = my_female.copy()\n",
    "my_female_copy['age'] = my_female_age\n",
    "\n",
    "life_female_copy = life_female.copy()\n",
    "life_female_copy['age'] = life_female_age\n",
    "\n",
    "min_age = life_female_copy.age.min()\n",
    "max_age = life_female_copy.age.max()\n",
    "\n",
    "values = []\n",
    "interval = np.arange(min_age, max_age+1)\n",
    "for age in interval:\n",
    "    differences=calculate_difference(life_female_copy, my_female_copy, age)/13\n",
    "    values.append(differences.min())\n",
    "female_values = pd.Series(values, index=interval)\n",
    "print(female_values.mean())"
   ]
  },
  {
   "cell_type": "code",
   "execution_count": 15,
   "id": "1be8fbad",
   "metadata": {},
   "outputs": [
    {
     "data": {
      "text/plain": [
       "1"
      ]
     },
     "execution_count": 15,
     "metadata": {},
     "output_type": "execute_result"
    }
   ],
   "source": [
    "female_values.isnull().sum()"
   ]
  },
  {
   "cell_type": "code",
   "execution_count": 16,
   "id": "7e5dacc4",
   "metadata": {},
   "outputs": [
    {
     "data": {
      "text/plain": [
       "3"
      ]
     },
     "execution_count": 16,
     "metadata": {},
     "output_type": "execute_result"
    }
   ],
   "source": [
    "male_values.isnull().sum()"
   ]
  },
  {
   "cell_type": "code",
   "execution_count": 17,
   "id": "d5632ac4",
   "metadata": {},
   "outputs": [
    {
     "data": {
      "text/plain": [
       "<AxesSubplot:title={'center':'Age Prediction Error'}, xlabel='Age', ylabel='Percentual Error'>"
      ]
     },
     "execution_count": 17,
     "metadata": {},
     "output_type": "execute_result"
    },
    {
     "data": {
      "image/png": "[encoded data removed]",
      "text/plain": [
       "<Figure size 432x288 with 1 Axes>"
      ]
     },
     "metadata": {
      "needs_background": "light"
     },
     "output_type": "display_data"
    }
   ],
   "source": [
    "pd.DataFrame([male_values, female_values], index=['male', 'female']).T.plot(xlabel=\"Age\", ylabel=\"Percentual Error\", title=\"Age Prediction Error\")"
   ]
  },
  {
   "cell_type": "code",
   "execution_count": null,
   "id": "ecac7da2",
   "metadata": {},
   "outputs": [],
   "source": []
  }
 ],
 "metadata": {
  "kernelspec": {
   "display_name": "Python 3 (ipykernel)",
   "language": "python",
   "name": "python3"
  },
  "language_info": {
   "codemirror_mode": {
    "name": "ipython",
    "version": 3
   },
   "file_extension": ".py",
   "mimetype": "text/x-python",
   "name": "python",
   "nbconvert_exporter": "python",
   "pygments_lexer": "ipython3",
   "version": "3.10.4"
  }
 },
 "nbformat": 4,
 "nbformat_minor": 5
}
